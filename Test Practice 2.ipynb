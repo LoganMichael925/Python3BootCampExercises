{
 "cells": [
  {
   "cell_type": "markdown",
   "id": "1ea7543a",
   "metadata": {},
   "source": [
    "matrix Elements Sum"
   ]
  },
  {
   "cell_type": "code",
   "execution_count": 6,
   "id": "2c12f0b8",
   "metadata": {},
   "outputs": [],
   "source": [
    "matrix = [[0,1,1,2], [0,5,0,0], [2,0,3,3]]"
   ]
  },
  {
   "cell_type": "code",
   "execution_count": 26,
   "id": "dbb79be9",
   "metadata": {},
   "outputs": [],
   "source": [
    "def solution(matrix):\n",
    "    \n",
    "    mtrxrows = len(matrix)\n",
    "    mtrxcols = len(matrix[0])\n",
    "    \n",
    "    newlist = []\n",
    "    newlist_add = []\n",
    "    \n",
    "    for c in range(mtrxcols):\n",
    "        \n",
    "        col = []\n",
    "        \n",
    "        for r in range(mtrxrows):\n",
    "            \n",
    "            col.append(matrix[r][c])\n",
    "            \n",
    "        newlist.append(col)\n",
    "        \n",
    "    s = 0\n",
    "    for arr in newlist:\n",
    "        for n in arr:\n",
    "            if n == 0:\n",
    "                break\n",
    "            s+= n\n",
    "    return s\n",
    "    \n",
    "    \n",
    "    \n",
    "    \n",
    "    #for x in range(mtrxrows):\n",
    "        \n",
    "    #    for y in range(mtrxcols):\n",
    "            \n",
    "    #        if mtrxcols[x][y] == 0:\n",
    "                \n",
    "    #            newlist.append([x][y])\n",
    "                \n",
    "    #            if mtrxcols[y] not in newlist:\n",
    "                    \n",
    "    #                newlist_add.append(mtrxcols[y])\n",
    "                    \n",
    "    #return newlist_add\n",
    "                \n",
    "                "
   ]
  },
  {
   "cell_type": "code",
   "execution_count": 27,
   "id": "fd31861f",
   "metadata": {},
   "outputs": [
    {
     "data": {
      "text/plain": [
       "9"
      ]
     },
     "execution_count": 27,
     "metadata": {},
     "output_type": "execute_result"
    }
   ],
   "source": [
    "solution(matrix)"
   ]
  },
  {
   "cell_type": "code",
   "execution_count": 15,
   "id": "ffcc30d0",
   "metadata": {},
   "outputs": [
    {
     "name": "stdout",
     "output_type": "stream",
     "text": [
      "[[0, 1, 1, 2], [0, 5, 0, 0], [2, 0, 3, 3]]\n"
     ]
    }
   ],
   "source": [
    "print(matrix)"
   ]
  },
  {
   "cell_type": "code",
   "execution_count": 4,
   "id": "b3ab8f77",
   "metadata": {},
   "outputs": [],
   "source": [
    "def solution2(matrix):\n",
    "    \n",
    "    #initialize count = 0\n",
    "    s = 0\n",
    "    \n",
    "    print(f\"len(matrix[0] = {len(matrix[0])})\")\n",
    "    print(f\"len(matrix = {len(matrix)})\")\n",
    "    \n",
    "    #scanning through the columns\n",
    "    for c in range(len(matrix[0])):\n",
    "        \n",
    "        #scanning through the rows\n",
    "        for r in range(len(matrix)):\n",
    "            \n",
    "            #if value of index = 0\n",
    "            if matrix[r][c] == 0:\n",
    "                \n",
    "                #break out of the for loop scanning the rows\n",
    "                break\n",
    "                \n",
    "            #else add the index value to the count s\n",
    "            s += matrix[r][c]\n",
    "            \n",
    "    #return the count\n",
    "    return s\n",
    "    "
   ]
  },
  {
   "cell_type": "code",
   "execution_count": 7,
   "id": "e09e9086",
   "metadata": {},
   "outputs": [
    {
     "name": "stdout",
     "output_type": "stream",
     "text": [
      "len(matrix[0] = 4)\n",
      "len(matrix = 3)\n"
     ]
    },
    {
     "data": {
      "text/plain": [
       "9"
      ]
     },
     "execution_count": 7,
     "metadata": {},
     "output_type": "execute_result"
    }
   ],
   "source": [
    "solution2(matrix)"
   ]
  },
  {
   "cell_type": "code",
   "execution_count": 12,
   "id": "8028e8b5",
   "metadata": {},
   "outputs": [
    {
     "name": "stdout",
     "output_type": "stream",
     "text": [
      "[0, 1, 1, 2]\n",
      "[0, 5, 0, 0]\n",
      "[2, 0, 3, 3]\n"
     ]
    }
   ],
   "source": [
    "print(matrix[0])\n",
    "print(matrix[1])\n",
    "print(matrix[2])"
   ]
  },
  {
   "cell_type": "markdown",
   "id": "498b242c",
   "metadata": {},
   "source": [
    "All Longest Strings Code Signal"
   ]
  },
  {
   "cell_type": "code",
   "execution_count": 13,
   "id": "19bb601f",
   "metadata": {},
   "outputs": [],
   "source": [
    "inputArray = [\"aba\", \"aa\", \"ad\", \"vcd\", \"aba\"]"
   ]
  },
  {
   "cell_type": "code",
   "execution_count": 15,
   "id": "6c423aef",
   "metadata": {},
   "outputs": [
    {
     "data": {
      "text/plain": [
       "'vcd'"
      ]
     },
     "execution_count": 15,
     "metadata": {},
     "output_type": "execute_result"
    }
   ],
   "source": [
    "max([\"aba\", \"aa\", \"ad\", \"vcd\", \"aba\"])"
   ]
  },
  {
   "cell_type": "code",
   "execution_count": 18,
   "id": "329ad7dd",
   "metadata": {},
   "outputs": [
    {
     "data": {
      "text/plain": [
       "3"
      ]
     },
     "execution_count": 18,
     "metadata": {},
     "output_type": "execute_result"
    }
   ],
   "source": [
    "len('vcd')"
   ]
  },
  {
   "cell_type": "code",
   "execution_count": 37,
   "id": "c5f9e0f5",
   "metadata": {},
   "outputs": [],
   "source": [
    "def solution(inputArray):\n",
    "    \n",
    "    max_data = max(inputArray, key = len)\n",
    "    print(f\"max(inputArray, key = len) = {max(inputArray, key = len)}\")\n",
    "    \n",
    "    max_value = len(max_data)\n",
    "    print(f\"len(max_data) = {len(max_data)}\")\n",
    "    \n",
    "    newlist = []\n",
    "    \n",
    "    for x in range(len(inputArray)):\n",
    "        \n",
    "        if len(inputArray[x]) == max_value:\n",
    "            \n",
    "            newlist.append(inputArray[x])\n",
    "            \n",
    "    return newlist"
   ]
  },
  {
   "cell_type": "code",
   "execution_count": 38,
   "id": "195638bf",
   "metadata": {},
   "outputs": [],
   "source": [
    "inputArray = [\"enyky\", \n",
    " \"benyky\", \n",
    " \"yely\", \n",
    " \"varennyky\"]"
   ]
  },
  {
   "cell_type": "code",
   "execution_count": 39,
   "id": "b8ec165d",
   "metadata": {},
   "outputs": [
    {
     "name": "stdout",
     "output_type": "stream",
     "text": [
      "['enyky', 'benyky', 'yely', 'varennyky']\n"
     ]
    }
   ],
   "source": [
    "print(inputArray)"
   ]
  },
  {
   "cell_type": "code",
   "execution_count": 40,
   "id": "69d2d8ed",
   "metadata": {},
   "outputs": [
    {
     "name": "stdout",
     "output_type": "stream",
     "text": [
      "max(inputArray, key = len) = varennyky\n",
      "len(max_data) = 9\n"
     ]
    },
    {
     "data": {
      "text/plain": [
       "['varennyky']"
      ]
     },
     "execution_count": 40,
     "metadata": {},
     "output_type": "execute_result"
    }
   ],
   "source": [
    "solution(inputArray)"
   ]
  },
  {
   "cell_type": "code",
   "execution_count": 31,
   "id": "e8551bb7",
   "metadata": {},
   "outputs": [
    {
     "name": "stdout",
     "output_type": "stream",
     "text": [
      "Help on built-in function max in module builtins:\n",
      "\n",
      "max(...)\n",
      "    max(iterable, *[, default=obj, key=func]) -> value\n",
      "    max(arg1, arg2, *args, *[, key=func]) -> value\n",
      "    \n",
      "    With a single iterable argument, return its biggest item. The\n",
      "    default keyword-only argument specifies an object to return if\n",
      "    the provided iterable is empty.\n",
      "    With two or more arguments, return the largest argument.\n",
      "\n"
     ]
    }
   ],
   "source": [
    "help(max)"
   ]
  },
  {
   "cell_type": "code",
   "execution_count": 41,
   "id": "9874f3ba",
   "metadata": {},
   "outputs": [
    {
     "data": {
      "text/plain": [
       "False"
      ]
     },
     "execution_count": 41,
     "metadata": {},
     "output_type": "execute_result"
    }
   ],
   "source": [
    "'adcd' in 'bvc'"
   ]
  },
  {
   "cell_type": "code",
   "execution_count": 42,
   "id": "79644e35",
   "metadata": {},
   "outputs": [
    {
     "data": {
      "text/plain": [
       "False"
      ]
     },
     "execution_count": 42,
     "metadata": {},
     "output_type": "execute_result"
    }
   ],
   "source": [
    "'adc'in'ad'\n"
   ]
  },
  {
   "cell_type": "code",
   "execution_count": 43,
   "id": "a54cb669",
   "metadata": {},
   "outputs": [
    {
     "data": {
      "text/plain": [
       "{'a', 'c', 'd'}"
      ]
     },
     "execution_count": 43,
     "metadata": {},
     "output_type": "execute_result"
    }
   ],
   "source": [
    "set('adcd')"
   ]
  },
  {
   "cell_type": "code",
   "execution_count": 46,
   "id": "e148ba2b",
   "metadata": {},
   "outputs": [],
   "source": [
    "somestring = 'adcdaa'"
   ]
  },
  {
   "cell_type": "code",
   "execution_count": 49,
   "id": "8f729bae",
   "metadata": {},
   "outputs": [
    {
     "data": {
      "text/plain": [
       "3"
      ]
     },
     "execution_count": 49,
     "metadata": {},
     "output_type": "execute_result"
    }
   ],
   "source": [
    "somestring.count('a')"
   ]
  },
  {
   "cell_type": "code",
   "execution_count": 50,
   "id": "7e191c02",
   "metadata": {},
   "outputs": [
    {
     "data": {
      "text/plain": [
       "True"
      ]
     },
     "execution_count": 50,
     "metadata": {},
     "output_type": "execute_result"
    }
   ],
   "source": [
    "somestring.isalnum()"
   ]
  },
  {
   "cell_type": "code",
   "execution_count": 51,
   "id": "0b6d352c",
   "metadata": {},
   "outputs": [
    {
     "data": {
      "text/plain": [
       "0"
      ]
     },
     "execution_count": 51,
     "metadata": {},
     "output_type": "execute_result"
    }
   ],
   "source": [
    "somestring.find('a')"
   ]
  },
  {
   "cell_type": "code",
   "execution_count": 55,
   "id": "6decb659",
   "metadata": {},
   "outputs": [
    {
     "data": {
      "text/plain": [
       "True"
      ]
     },
     "execution_count": 55,
     "metadata": {},
     "output_type": "execute_result"
    }
   ],
   "source": [
    "'ad' in 'adc'"
   ]
  },
  {
   "cell_type": "code",
   "execution_count": 64,
   "id": "9f22301a",
   "metadata": {},
   "outputs": [
    {
     "data": {
      "text/plain": [
       "5"
      ]
     },
     "execution_count": 64,
     "metadata": {},
     "output_type": "execute_result"
    }
   ],
   "source": [
    "somestring.rindex('a')"
   ]
  },
  {
   "cell_type": "code",
   "execution_count": 66,
   "id": "e70af22f",
   "metadata": {},
   "outputs": [
    {
     "data": {
      "text/plain": [
       "['a', 'a', 'a', 'c', 'd', 'd']"
      ]
     },
     "execution_count": 66,
     "metadata": {},
     "output_type": "execute_result"
    }
   ],
   "source": [
    "sorted(somestring)"
   ]
  },
  {
   "cell_type": "code",
   "execution_count": 1,
   "id": "7c2b571d",
   "metadata": {},
   "outputs": [],
   "source": [
    "s1 = 'aabcc'"
   ]
  },
  {
   "cell_type": "code",
   "execution_count": 2,
   "id": "5c6900ce",
   "metadata": {},
   "outputs": [],
   "source": [
    "s2 = 'adcaa'"
   ]
  },
  {
   "cell_type": "markdown",
   "id": "239b5372",
   "metadata": {},
   "source": [
    "Common Character Count Code Signal"
   ]
  },
  {
   "cell_type": "code",
   "execution_count": 5,
   "id": "a5f59c24",
   "metadata": {},
   "outputs": [],
   "source": [
    "def solution(s1, s2):\n",
    "    \n",
    "    news1 = sorted(s1)\n",
    "    news2 = sorted(s2)\n",
    "    print(news1)\n",
    "    print(news2)\n",
    "    \n",
    "    counter = 0\n",
    "    answer = 0\n",
    "    \n",
    "    for x in range(len(news1)):\n",
    "        \n",
    "        if news2[x] == news1[x]:\n",
    "            \n",
    "            answer += 1\n",
    "    return answer\n",
    "        \n",
    "    \n",
    "    #while counter <= len(news1) and counter <= len(news2):\n",
    "        \n",
    "    #    if news1[counter] == news2[counter]:\n",
    "            \n",
    "    #        answer += 1\n",
    "    #        counter += 1\n",
    "            \n",
    "    #    else:\n",
    "    #        counter += 1\n",
    "    #        pass\n",
    "    \n",
    "    #return answer"
   ]
  },
  {
   "cell_type": "code",
   "execution_count": 6,
   "id": "e70484d5",
   "metadata": {},
   "outputs": [
    {
     "name": "stdout",
     "output_type": "stream",
     "text": [
      "['a', 'a', 'b', 'c', 'c']\n",
      "['a', 'a', 'a', 'c', 'd']\n"
     ]
    },
    {
     "data": {
      "text/plain": [
       "3"
      ]
     },
     "execution_count": 6,
     "metadata": {},
     "output_type": "execute_result"
    }
   ],
   "source": [
    "solution(s1,s2)"
   ]
  },
  {
   "cell_type": "code",
   "execution_count": 7,
   "id": "4a5fe13d",
   "metadata": {},
   "outputs": [
    {
     "data": {
      "text/plain": [
       "{'a', 'b', 'c'}"
      ]
     },
     "execution_count": 7,
     "metadata": {},
     "output_type": "execute_result"
    }
   ],
   "source": [
    "set(s1)"
   ]
  },
  {
   "cell_type": "code",
   "execution_count": 8,
   "id": "1f83d60d",
   "metadata": {},
   "outputs": [
    {
     "data": {
      "text/plain": [
       "{'a', 'c', 'd'}"
      ]
     },
     "execution_count": 8,
     "metadata": {},
     "output_type": "execute_result"
    }
   ],
   "source": [
    "set(s2)"
   ]
  },
  {
   "cell_type": "code",
   "execution_count": 15,
   "id": "dcaeb311",
   "metadata": {},
   "outputs": [],
   "source": [
    "def commonCharacterCount(s1, s2):\n",
    "    answer = 0\n",
    "    \n",
    "    for x in (set(s1) & set(s2)):\n",
    "        print(x)\n",
    "        \n",
    "        answer += min(s1.count(x), s2.count(x))\n",
    "        print(answer)\n",
    "        print(f\"s1.count(x) is: {s1.count(x)}\")\n",
    "        print(f\"s2.count(x) is: {s2.count(x)}\")\n",
    "        print(\" \")\n",
    "        \n",
    "    return answer\n",
    "        \n",
    "    \n",
    "    #return sum( min(s1.count(char), s2.count(char)) for char in (set(s1) & set(s2)))"
   ]
  },
  {
   "cell_type": "code",
   "execution_count": 16,
   "id": "0e88238a",
   "metadata": {},
   "outputs": [
    {
     "name": "stdout",
     "output_type": "stream",
     "text": [
      "c\n",
      "1\n",
      "s1.count(x) is: 2\n",
      "s2.count(x) is: 1\n",
      " \n",
      "a\n",
      "3\n",
      "s1.count(x) is: 2\n",
      "s2.count(x) is: 3\n",
      " \n"
     ]
    },
    {
     "data": {
      "text/plain": [
       "3"
      ]
     },
     "execution_count": 16,
     "metadata": {},
     "output_type": "execute_result"
    }
   ],
   "source": [
    "commonCharacterCount(s1, s2)"
   ]
  },
  {
   "cell_type": "code",
   "execution_count": 1,
   "id": "7b7d65e3",
   "metadata": {},
   "outputs": [],
   "source": [
    "some_int = 1230"
   ]
  },
  {
   "cell_type": "code",
   "execution_count": 4,
   "id": "05c542f3",
   "metadata": {},
   "outputs": [
    {
     "data": {
      "text/plain": [
       "['1230']"
      ]
     },
     "execution_count": 4,
     "metadata": {},
     "output_type": "execute_result"
    }
   ],
   "source": [
    "str(some_int).split()"
   ]
  },
  {
   "cell_type": "code",
   "execution_count": 12,
   "id": "d6105e3f",
   "metadata": {},
   "outputs": [
    {
     "name": "stdout",
     "output_type": "stream",
     "text": [
      "[1, 2, 3, 0]\n"
     ]
    }
   ],
   "source": [
    "lala = [int(x) for x in str(some_int)]\n",
    "print(lala)"
   ]
  },
  {
   "cell_type": "code",
   "execution_count": 13,
   "id": "f9474e1c",
   "metadata": {},
   "outputs": [
    {
     "name": "stdout",
     "output_type": "stream",
     "text": [
      "[1, 2, 3, 0]\n"
     ]
    }
   ],
   "source": [
    "new_llist = []\n",
    "for x in str(some_int):\n",
    "    new_llist.append(int(x))\n",
    "print(new_llist)"
   ]
  },
  {
   "cell_type": "code",
   "execution_count": 14,
   "id": "f1e6b08b",
   "metadata": {},
   "outputs": [
    {
     "name": "stdout",
     "output_type": "stream",
     "text": [
      "[1, 2, 3, 0]\n"
     ]
    }
   ],
   "source": [
    "print(new_llist)"
   ]
  },
  {
   "cell_type": "code",
   "execution_count": 20,
   "id": "cf98b743",
   "metadata": {},
   "outputs": [
    {
     "data": {
      "text/plain": [
       "[1, 2, 3, 0]"
      ]
     },
     "execution_count": 20,
     "metadata": {},
     "output_type": "execute_result"
    }
   ],
   "source": [
    "new_llist[0:len(new_llist)]"
   ]
  },
  {
   "cell_type": "code",
   "execution_count": 21,
   "id": "2243c67a",
   "metadata": {},
   "outputs": [
    {
     "data": {
      "text/plain": [
       "4"
      ]
     },
     "execution_count": 21,
     "metadata": {},
     "output_type": "execute_result"
    }
   ],
   "source": [
    "len(new_llist)"
   ]
  },
  {
   "cell_type": "code",
   "execution_count": 22,
   "id": "d6c6646c",
   "metadata": {},
   "outputs": [],
   "source": [
    "new_len = len(new_llist) / 2"
   ]
  },
  {
   "cell_type": "code",
   "execution_count": 23,
   "id": "76ec694c",
   "metadata": {},
   "outputs": [
    {
     "data": {
      "text/plain": [
       "2.0"
      ]
     },
     "execution_count": 23,
     "metadata": {},
     "output_type": "execute_result"
    }
   ],
   "source": [
    "new_len"
   ]
  },
  {
   "cell_type": "code",
   "execution_count": 26,
   "id": "9548a86c",
   "metadata": {},
   "outputs": [],
   "source": [
    "new_new_len = int(new_len)"
   ]
  },
  {
   "cell_type": "code",
   "execution_count": 27,
   "id": "69105203",
   "metadata": {},
   "outputs": [
    {
     "data": {
      "text/plain": [
       "2"
      ]
     },
     "execution_count": 27,
     "metadata": {},
     "output_type": "execute_result"
    }
   ],
   "source": [
    "new_new_len"
   ]
  },
  {
   "cell_type": "code",
   "execution_count": 28,
   "id": "2115a094",
   "metadata": {},
   "outputs": [
    {
     "data": {
      "text/plain": [
       "[1, 2]"
      ]
     },
     "execution_count": 28,
     "metadata": {},
     "output_type": "execute_result"
    }
   ],
   "source": [
    "new_llist[0:new_new_len]"
   ]
  },
  {
   "cell_type": "code",
   "execution_count": 30,
   "id": "1770aaef",
   "metadata": {},
   "outputs": [
    {
     "data": {
      "text/plain": [
       "[3, 0]"
      ]
     },
     "execution_count": 30,
     "metadata": {},
     "output_type": "execute_result"
    }
   ],
   "source": [
    "new_llist[new_new_len:len(new_llist)]"
   ]
  },
  {
   "cell_type": "code",
   "execution_count": 36,
   "id": "cd4f2890",
   "metadata": {},
   "outputs": [
    {
     "name": "stdout",
     "output_type": "stream",
     "text": [
      "3\n"
     ]
    }
   ],
   "source": [
    "newsum = 0\n",
    "for x in new_llist[0:new_new_len]:\n",
    "    newsum += x\n",
    "print(newsum)"
   ]
  },
  {
   "cell_type": "code",
   "execution_count": 37,
   "id": "4dea689b",
   "metadata": {},
   "outputs": [
    {
     "name": "stdout",
     "output_type": "stream",
     "text": [
      "3\n"
     ]
    }
   ],
   "source": [
    "newsum1 = 0\n",
    "for x in new_llist[new_new_len:len(new_llist)]:\n",
    "    newsum1 += x\n",
    "print(newsum1)"
   ]
  },
  {
   "cell_type": "code",
   "execution_count": 38,
   "id": "5ce8e5bd",
   "metadata": {},
   "outputs": [
    {
     "ename": "SyntaxError",
     "evalue": "'return' outside function (3312463693.py, line 2)",
     "output_type": "error",
     "traceback": [
      "\u001b[0;36m  Input \u001b[0;32mIn [38]\u001b[0;36m\u001b[0m\n\u001b[0;31m    return True\u001b[0m\n\u001b[0m    ^\u001b[0m\n\u001b[0;31mSyntaxError\u001b[0m\u001b[0;31m:\u001b[0m 'return' outside function\n"
     ]
    }
   ],
   "source": [
    "if newsum == newsum1:\n",
    "    return True\n",
    "else:\n",
    "    return False"
   ]
  },
  {
   "cell_type": "code",
   "execution_count": 3,
   "id": "aff2fae0",
   "metadata": {},
   "outputs": [
    {
     "ename": "NameError",
     "evalue": "name 'List' is not defined",
     "output_type": "error",
     "traceback": [
      "\u001b[0;31m---------------------------------------------------------------------------\u001b[0m",
      "\u001b[0;31mNameError\u001b[0m                                 Traceback (most recent call last)",
      "Input \u001b[0;32mIn [3]\u001b[0m, in \u001b[0;36m<cell line: 1>\u001b[0;34m()\u001b[0m\n\u001b[0;32m----> 1\u001b[0m \u001b[38;5;28;01mdef\u001b[39;00m \u001b[38;5;21mreverseString\u001b[39m(\u001b[38;5;28mself\u001b[39m, s: \u001b[43mList\u001b[49m[\u001b[38;5;28mstr\u001b[39m]) \u001b[38;5;241m-\u001b[39m\u001b[38;5;241m>\u001b[39m \u001b[38;5;28;01mNone\u001b[39;00m:\n\u001b[1;32m      2\u001b[0m     \u001b[38;5;124;03m\"\"\"\u001b[39;00m\n\u001b[1;32m      3\u001b[0m \u001b[38;5;124;03m    Do not return anything, modify s in-place instead.\u001b[39;00m\n\u001b[1;32m      4\u001b[0m \u001b[38;5;124;03m    \"\"\"\u001b[39;00m\n\u001b[1;32m      5\u001b[0m     \u001b[38;5;66;03m#reverse_s = s[::-1]\u001b[39;00m\n\u001b[1;32m      6\u001b[0m     \u001b[38;5;66;03m#print(reverse_s)\u001b[39;00m\n",
      "\u001b[0;31mNameError\u001b[0m: name 'List' is not defined"
     ]
    }
   ],
   "source": [
    "def reverseString(self, s: List[str]) -> None:\n",
    "    \"\"\"\n",
    "    Do not return anything, modify s in-place instead.\n",
    "    \"\"\"\n",
    "    #reverse_s = s[::-1]\n",
    "    #print(reverse_s)\n",
    "    s[::-1]"
   ]
  },
  {
   "cell_type": "code",
   "execution_count": 4,
   "id": "22c1e4e5",
   "metadata": {},
   "outputs": [],
   "source": [
    "ss = [\"h\",\"e\",\"l\",\"l\",\"o\"]"
   ]
  },
  {
   "cell_type": "code",
   "execution_count": 6,
   "id": "55e0e948",
   "metadata": {},
   "outputs": [
    {
     "name": "stdout",
     "output_type": "stream",
     "text": [
      "['o', 'l', 'l', 'e', 'h']\n"
     ]
    }
   ],
   "source": [
    "ss[::-1]\n",
    "print(ss[::-1])"
   ]
  },
  {
   "cell_type": "markdown",
   "id": "7693c3a6",
   "metadata": {},
   "source": [
    "isLucky CodeSignal"
   ]
  },
  {
   "cell_type": "code",
   "execution_count": 40,
   "id": "e218aa61",
   "metadata": {},
   "outputs": [],
   "source": [
    "def solution(n):\n",
    "    \n",
    "    alen = len(str(n))\n",
    "    print(alen)\n",
    "    halflen = int(alen / 2)\n",
    "    print(halflen)\n",
    "    print(n)\n",
    "    somelist = []\n",
    "    for x in str(n):\n",
    "        somelist.append(int(x))\n",
    "    print(somelist)\n",
    "        \n",
    "    sum1 = 0\n",
    "    sum2 = 0\n",
    "    \n",
    "    for j in somelist[0:halflen]:\n",
    "        sum1 += j\n",
    "    print(sum1)\n",
    "        \n",
    "    for y in somelist[halflen:alen]:\n",
    "        sum2 += y\n",
    "        \n",
    "    if sum1 == sum2:\n",
    "        return True\n",
    "        \n",
    "    else:\n",
    "        return False"
   ]
  },
  {
   "cell_type": "code",
   "execution_count": 41,
   "id": "ab265453",
   "metadata": {},
   "outputs": [],
   "source": [
    "someint1 = 1230"
   ]
  },
  {
   "cell_type": "code",
   "execution_count": 42,
   "id": "1a870d87",
   "metadata": {},
   "outputs": [
    {
     "name": "stdout",
     "output_type": "stream",
     "text": [
      "4\n",
      "2\n",
      "1230\n",
      "[1, 2, 3, 0]\n",
      "3\n"
     ]
    },
    {
     "data": {
      "text/plain": [
       "True"
      ]
     },
     "execution_count": 42,
     "metadata": {},
     "output_type": "execute_result"
    }
   ],
   "source": [
    "solution(someint1)"
   ]
  },
  {
   "cell_type": "code",
   "execution_count": null,
   "id": "96417b4c",
   "metadata": {},
   "outputs": [],
   "source": []
  }
 ],
 "metadata": {
  "kernelspec": {
   "display_name": "Python 3 (ipykernel)",
   "language": "python",
   "name": "python3"
  },
  "language_info": {
   "codemirror_mode": {
    "name": "ipython",
    "version": 3
   },
   "file_extension": ".py",
   "mimetype": "text/x-python",
   "name": "python",
   "nbconvert_exporter": "python",
   "pygments_lexer": "ipython3",
   "version": "3.9.12"
  }
 },
 "nbformat": 4,
 "nbformat_minor": 5
}
