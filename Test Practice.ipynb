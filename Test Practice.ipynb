{
 "cells": [
  {
   "cell_type": "code",
   "execution_count": 21,
   "id": "87da0873",
   "metadata": {},
   "outputs": [],
   "source": [
    "inputString = \"lalalal\""
   ]
  },
  {
   "cell_type": "code",
   "execution_count": 22,
   "id": "c1a1ff8e",
   "metadata": {},
   "outputs": [],
   "source": [
    "halfway = int(round((len(inputString) / 2),0))"
   ]
  },
  {
   "cell_type": "code",
   "execution_count": 23,
   "id": "5c62dd57",
   "metadata": {},
   "outputs": [
    {
     "data": {
      "text/plain": [
       "4"
      ]
     },
     "execution_count": 23,
     "metadata": {},
     "output_type": "execute_result"
    }
   ],
   "source": [
    "halfway"
   ]
  },
  {
   "cell_type": "code",
   "execution_count": 4,
   "id": "8b6358f4",
   "metadata": {},
   "outputs": [],
   "source": [
    "def solution(inputString):\n",
    "    somelength = len(inputString)\n",
    "    if inputString[0:somelength] == inputString[somelength + 1:-1]:\n",
    "        print(\"true\")\n",
    "    else:\n",
    "        print('false')"
   ]
  },
  {
   "cell_type": "code",
   "execution_count": 5,
   "id": "80a711ef",
   "metadata": {},
   "outputs": [
    {
     "name": "stdout",
     "output_type": "stream",
     "text": [
      "false\n"
     ]
    }
   ],
   "source": [
    "solution(inputString)"
   ]
  },
  {
   "cell_type": "code",
   "execution_count": 6,
   "id": "a4fc2dd4",
   "metadata": {},
   "outputs": [
    {
     "data": {
      "text/plain": [
       "'la'"
      ]
     },
     "execution_count": 6,
     "metadata": {},
     "output_type": "execute_result"
    }
   ],
   "source": [
    "inputString[0:2]"
   ]
  },
  {
   "cell_type": "code",
   "execution_count": 7,
   "id": "55d22ec5",
   "metadata": {},
   "outputs": [
    {
     "data": {
      "text/plain": [
       "2"
      ]
     },
     "execution_count": 7,
     "metadata": {},
     "output_type": "execute_result"
    }
   ],
   "source": [
    "halfway"
   ]
  },
  {
   "cell_type": "code",
   "execution_count": 8,
   "id": "d92c9583",
   "metadata": {},
   "outputs": [
    {
     "name": "stdout",
     "output_type": "stream",
     "text": [
      "Help on built-in function round in module builtins:\n",
      "\n",
      "round(number, ndigits=None)\n",
      "    Round a number to a given precision in decimal digits.\n",
      "    \n",
      "    The return value is an integer if ndigits is omitted or None.  Otherwise\n",
      "    the return value has the same type as the number.  ndigits may be negative.\n",
      "\n"
     ]
    }
   ],
   "source": [
    "help(round)"
   ]
  },
  {
   "cell_type": "code",
   "execution_count": 9,
   "id": "b8b7238a",
   "metadata": {},
   "outputs": [],
   "source": [
    "firsthalf = inputString[0:halfway]"
   ]
  },
  {
   "cell_type": "code",
   "execution_count": 10,
   "id": "48cd4195",
   "metadata": {},
   "outputs": [
    {
     "data": {
      "text/plain": [
       "'la'"
      ]
     },
     "execution_count": 10,
     "metadata": {},
     "output_type": "execute_result"
    }
   ],
   "source": [
    "firsthalf"
   ]
  },
  {
   "cell_type": "code",
   "execution_count": 11,
   "id": "b410e3d5",
   "metadata": {},
   "outputs": [],
   "source": [
    "secondhalf = inputString[halfway + 1:]"
   ]
  },
  {
   "cell_type": "code",
   "execution_count": 12,
   "id": "b7486254",
   "metadata": {},
   "outputs": [
    {
     "data": {
      "text/plain": [
       "'al'"
      ]
     },
     "execution_count": 12,
     "metadata": {},
     "output_type": "execute_result"
    }
   ],
   "source": [
    "secondhalf"
   ]
  },
  {
   "cell_type": "code",
   "execution_count": 13,
   "id": "2fe31d84",
   "metadata": {},
   "outputs": [],
   "source": [
    "revsechalf = secondhalf[::-1]"
   ]
  },
  {
   "cell_type": "code",
   "execution_count": 14,
   "id": "b44c89ac",
   "metadata": {},
   "outputs": [
    {
     "data": {
      "text/plain": [
       "'la'"
      ]
     },
     "execution_count": 14,
     "metadata": {},
     "output_type": "execute_result"
    }
   ],
   "source": [
    "revsechalf"
   ]
  },
  {
   "cell_type": "code",
   "execution_count": 45,
   "id": "0e7a1493",
   "metadata": {},
   "outputs": [],
   "source": [
    "def solution(inputString):\n",
    "    \n",
    "    #find length of string\n",
    "    somelength = len(inputString)\n",
    "    \n",
    "    print(somelength)\n",
    "    \n",
    "    #find half way index of string, round to nearest digit, turn into int\n",
    "    halfway = int(round((len(inputString) / 2),0))\n",
    "    \n",
    "    print(halfway)\n",
    "    \n",
    "    #denote first half of string\n",
    "    firsthalf = inputString[0:halfway]\n",
    "    \n",
    "    print(firsthalf)\n",
    "    \n",
    "    #denote second half of string\n",
    "    secondhalf = inputString[halfway + 1:]\n",
    "    \n",
    "    #reverse second half of string\n",
    "    revsechalf = secondhalf[::-1]\n",
    "    \n",
    "    #if first half == reversed second half... it is a palindrome\n",
    "    if firsthalf == revsechalf:\n",
    "        print(\"true\")\n",
    "    else:\n",
    "        print('false')"
   ]
  },
  {
   "cell_type": "code",
   "execution_count": 46,
   "id": "7a21bded",
   "metadata": {},
   "outputs": [
    {
     "name": "stdout",
     "output_type": "stream",
     "text": [
      "7\n",
      "4\n",
      "abac\n",
      "false\n"
     ]
    }
   ],
   "source": [
    "solution('abacaba')"
   ]
  },
  {
   "cell_type": "code",
   "execution_count": 39,
   "id": "424cd793",
   "metadata": {},
   "outputs": [
    {
     "data": {
      "text/plain": [
       "3.5"
      ]
     },
     "execution_count": 39,
     "metadata": {},
     "output_type": "execute_result"
    }
   ],
   "source": [
    "7 / 2"
   ]
  },
  {
   "cell_type": "code",
   "execution_count": 1,
   "id": "5df6547e",
   "metadata": {},
   "outputs": [],
   "source": [
    "randomstring = \"hello\""
   ]
  },
  {
   "cell_type": "code",
   "execution_count": 20,
   "id": "c17d553d",
   "metadata": {},
   "outputs": [
    {
     "name": "stdout",
     "output_type": "stream",
     "text": [
      "HelLo\n"
     ]
    }
   ],
   "source": [
    "newstring = ''\n",
    "for index, value in enumerate(randomstring):\n",
    "    if index == 0 or index == 3:\n",
    "        value = value.upper()\n",
    "        newstring += value\n",
    "    else:\n",
    "        newstring += value\n",
    "print(newstring)"
   ]
  },
  {
   "cell_type": "code",
   "execution_count": 21,
   "id": "3e983b2d",
   "metadata": {},
   "outputs": [],
   "source": [
    "somephrases = \"I am master yoda\""
   ]
  },
  {
   "cell_type": "code",
   "execution_count": 31,
   "id": "a0ad4eb7",
   "metadata": {},
   "outputs": [],
   "source": [
    "def master_yoda(text):\n",
    "    newphrase = []\n",
    "    splittext = text.split()\n",
    "    revsplittext = splittext[::-1]\n",
    "    for x in revsplittext:\n",
    "        newphrase.append(x)\n",
    "    return ' '.join(newphrase)"
   ]
  },
  {
   "cell_type": "code",
   "execution_count": 32,
   "id": "4d487d9a",
   "metadata": {},
   "outputs": [
    {
     "data": {
      "text/plain": [
       "'yoda master am I'"
      ]
     },
     "execution_count": 32,
     "metadata": {},
     "output_type": "execute_result"
    }
   ],
   "source": [
    "master_yoda(somephrases)"
   ]
  },
  {
   "cell_type": "code",
   "execution_count": 47,
   "id": "831ebe0d",
   "metadata": {},
   "outputs": [],
   "source": [
    "def has_33(nums):\n",
    "    for x in nums:\n",
    "        if x == 3:\n",
    "            if x != nums[-1] and nums[x + 1] == 3 or nums[x - 1] == 3:\n",
    "                return True\n",
    "            else:\n",
    "                return False"
   ]
  },
  {
   "cell_type": "code",
   "execution_count": 48,
   "id": "82555eab",
   "metadata": {},
   "outputs": [
    {
     "ename": "IndexError",
     "evalue": "list index out of range",
     "output_type": "error",
     "traceback": [
      "\u001b[0;31m---------------------------------------------------------------------------\u001b[0m",
      "\u001b[0;31mIndexError\u001b[0m                                Traceback (most recent call last)",
      "Input \u001b[0;32mIn [48]\u001b[0m, in \u001b[0;36m<cell line: 1>\u001b[0;34m()\u001b[0m\n\u001b[0;32m----> 1\u001b[0m \u001b[43mhas_33\u001b[49m\u001b[43m(\u001b[49m\u001b[43m[\u001b[49m\u001b[38;5;241;43m1\u001b[39;49m\u001b[43m,\u001b[49m\u001b[38;5;241;43m1\u001b[39;49m\u001b[43m,\u001b[49m\u001b[38;5;241;43m3\u001b[39;49m\u001b[43m,\u001b[49m\u001b[38;5;241;43m3\u001b[39;49m\u001b[43m]\u001b[49m\u001b[43m)\u001b[49m\n",
      "Input \u001b[0;32mIn [47]\u001b[0m, in \u001b[0;36mhas_33\u001b[0;34m(nums)\u001b[0m\n\u001b[1;32m      2\u001b[0m \u001b[38;5;28;01mfor\u001b[39;00m x \u001b[38;5;129;01min\u001b[39;00m nums:\n\u001b[1;32m      3\u001b[0m     \u001b[38;5;28;01mif\u001b[39;00m x \u001b[38;5;241m==\u001b[39m \u001b[38;5;241m3\u001b[39m:\n\u001b[0;32m----> 4\u001b[0m         \u001b[38;5;28;01mif\u001b[39;00m (x \u001b[38;5;241m!=\u001b[39m nums[\u001b[38;5;241m-\u001b[39m\u001b[38;5;241m1\u001b[39m] \u001b[38;5;129;01mor\u001b[39;00m \u001b[43mnums\u001b[49m\u001b[43m[\u001b[49m\u001b[43mx\u001b[49m\u001b[43m \u001b[49m\u001b[38;5;241;43m+\u001b[39;49m\u001b[43m \u001b[49m\u001b[38;5;241;43m1\u001b[39;49m\u001b[43m]\u001b[49m) \u001b[38;5;241m==\u001b[39m \u001b[38;5;241m3\u001b[39m \u001b[38;5;129;01mor\u001b[39;00m nums[x \u001b[38;5;241m-\u001b[39m \u001b[38;5;241m1\u001b[39m] \u001b[38;5;241m==\u001b[39m \u001b[38;5;241m3\u001b[39m:\n\u001b[1;32m      5\u001b[0m             \u001b[38;5;28;01mreturn\u001b[39;00m \u001b[38;5;28;01mTrue\u001b[39;00m\n\u001b[1;32m      6\u001b[0m         \u001b[38;5;28;01melse\u001b[39;00m:\n",
      "\u001b[0;31mIndexError\u001b[0m: list index out of range"
     ]
    }
   ],
   "source": [
    "has_33([1,1,3,3])"
   ]
  },
  {
   "cell_type": "code",
   "execution_count": 49,
   "id": "c32d3e95",
   "metadata": {},
   "outputs": [
    {
     "data": {
      "text/plain": [
       "True"
      ]
     },
     "execution_count": 49,
     "metadata": {},
     "output_type": "execute_result"
    }
   ],
   "source": [
    "has_33([1,1,3,1])"
   ]
  },
  {
   "cell_type": "code",
   "execution_count": 59,
   "id": "885e9027",
   "metadata": {},
   "outputs": [],
   "source": [
    "def has_33(nums):\n",
    "    for index, value in enumerate(nums):\n",
    "        \n",
    "        #check if value equals to 3, and if next index value equals to three or previous index value equals to three\n",
    "        if nums[index] == 3 and nums[index + 1] == 3 or nums[index - 1] == 3 and x != nums[-1]:\n",
    "            return True\n",
    "    else:\n",
    "        return False"
   ]
  },
  {
   "cell_type": "code",
   "execution_count": 60,
   "id": "50f71e64",
   "metadata": {},
   "outputs": [
    {
     "data": {
      "text/plain": [
       "True"
      ]
     },
     "execution_count": 60,
     "metadata": {},
     "output_type": "execute_result"
    }
   ],
   "source": [
    "has_33([1,1,3,2,1,1,3])"
   ]
  },
  {
   "cell_type": "code",
   "execution_count": 81,
   "id": "844be172",
   "metadata": {},
   "outputs": [
    {
     "ename": "SyntaxError",
     "evalue": "invalid syntax (481998294.py, line 17)",
     "output_type": "error",
     "traceback": [
      "\u001b[0;36m  Input \u001b[0;32mIn [81]\u001b[0;36m\u001b[0m\n\u001b[0;31m    help(break)\u001b[0m\n\u001b[0m         ^\u001b[0m\n\u001b[0;31mSyntaxError\u001b[0m\u001b[0;31m:\u001b[0m invalid syntax\n"
     ]
    }
   ],
   "source": [
    "def spy_game(nums):\n",
    "    \n",
    "    #add 1 to checker per 0, 0, and 7 in order, check if 0, 0, and 7 have been iterated through, \n",
    "    #if checker equals 3, then return True\n",
    "    checker = 0\n",
    "    \n",
    "    #iterate through list\n",
    "    for x in nums:\n",
    "        \n",
    "        #if index value equals to 0\n",
    "        if nums == 0:\n",
    "        \n",
    "            #add one to checker, then break out of while loop\n",
    "            checker += 1\n",
    "            if checker > 2:\n",
    "                checker = 0\n",
    "                break\n",
    "                \n",
    "        elif nums == 7 and checker == 2:\n",
    "            checker += 1\n",
    "            #break\n",
    "            return True           \n",
    "                \n",
    "                \n",
    "        #if nums[x] == 0 and nums[x + 1] == 0 and nums[x + 2] == 7:\n",
    "        #    return True\n",
    "        #if nums[x] == 0:\n",
    "        #    while addvalue = True:\n",
    "                \n",
    "            \n",
    "    #return False"
   ]
  },
  {
   "cell_type": "code",
   "execution_count": 82,
   "id": "9b18b776",
   "metadata": {},
   "outputs": [],
   "source": [
    "spy_game([1,2,4,0,0,7,5])"
   ]
  },
  {
   "cell_type": "code",
   "execution_count": 77,
   "id": "5aa6ed82",
   "metadata": {},
   "outputs": [],
   "source": [
    "spy_game([1,0,2,4,0,5,7])"
   ]
  },
  {
   "cell_type": "code",
   "execution_count": 78,
   "id": "67449bf2",
   "metadata": {},
   "outputs": [],
   "source": [
    "spy_game([1,7,2,0,4,5,0])"
   ]
  },
  {
   "cell_type": "code",
   "execution_count": 2,
   "id": "5a6d59b9",
   "metadata": {},
   "outputs": [
    {
     "ename": "SyntaxError",
     "evalue": "invalid syntax (876791809.py, line 7)",
     "output_type": "error",
     "traceback": [
      "\u001b[0;36m  Input \u001b[0;32mIn [2]\u001b[0;36m\u001b[0m\n\u001b[0;31m    print(news)\u001b[0m\n\u001b[0m    ^\u001b[0m\n\u001b[0;31mSyntaxError\u001b[0m\u001b[0;31m:\u001b[0m invalid syntax\n"
     ]
    }
   ],
   "source": [
    "import string\n",
    "\n",
    "def ispangram(str1, alphabet=string.ascii_lowercase):\n",
    "    news = list(set(str1.replace(' ', '').lower())\n",
    "    #secondvalue = list(alphabet)\n",
    "\n",
    "    print(news)\n",
    "    print(secondvalue)"
   ]
  },
  {
   "cell_type": "code",
   "execution_count": 7,
   "id": "41d64855",
   "metadata": {},
   "outputs": [],
   "source": [
    "import string\n",
    "\n",
    "def panagramfunc(somestring, alphabet=string.ascii_lowercase):\n",
    "    newstring = set(alphabet)\n",
    "    \n",
    "    somestring = somestring.replace(' ', '')\n",
    "    \n",
    "    somestring = somestring.lower()\n",
    "    \n",
    "    somestring = set(somestring)\n",
    "    \n",
    "    return somestring == newstring\n",
    "    \n",
    "    #newstring = list(set(str1.replace(' ', '').lower())\n",
    "    "
   ]
  },
  {
   "cell_type": "code",
   "execution_count": 5,
   "id": "90b8ed46",
   "metadata": {},
   "outputs": [
    {
     "data": {
      "text/plain": [
       "'abcdefghijklmnopqrstuvwxyz'"
      ]
     },
     "execution_count": 5,
     "metadata": {},
     "output_type": "execute_result"
    }
   ],
   "source": [
    "import string\n",
    "\n",
    "string.ascii_lowercase"
   ]
  },
  {
   "cell_type": "code",
   "execution_count": 8,
   "id": "8f3493e0",
   "metadata": {},
   "outputs": [
    {
     "data": {
      "text/plain": [
       "True"
      ]
     },
     "execution_count": 8,
     "metadata": {},
     "output_type": "execute_result"
    }
   ],
   "source": [
    "panagramfunc(\"The quick brown fox jumps over the lazy dog\")"
   ]
  },
  {
   "cell_type": "code",
   "execution_count": 30,
   "id": "88a27dab",
   "metadata": {},
   "outputs": [],
   "source": [
    "def solution(inputArray):\n",
    "    \n",
    "    #initialize maxsolution to 1\n",
    "    maxsolution = 1\n",
    "    newlist = []\n",
    "    \n",
    "    #iterate through list from 0 to end of list - 1, with a step size of 2\n",
    "    for x in range(0, len(inputArray) - 1):\n",
    "        \n",
    "        #if current index * the next index is greater than maxsolution\n",
    "        if inputArray[x] * inputArray[x + 1] >= maxsolution:\n",
    "            print(inputArray[x] * inputArray[x + 1])\n",
    "            print(x)\n",
    "            \n",
    "            #update maxsolution with product\n",
    "            maxsolution = inputArray[x] * inputArray[x + 1]\n",
    "            \n",
    "    return maxsolution "
   ]
  },
  {
   "cell_type": "code",
   "execution_count": 31,
   "id": "ee8c3283",
   "metadata": {},
   "outputs": [],
   "source": [
    "inputArray: [3, 6, -2, -5, 7, 3]"
   ]
  },
  {
   "cell_type": "code",
   "execution_count": 32,
   "id": "24d48582",
   "metadata": {},
   "outputs": [
    {
     "name": "stdout",
     "output_type": "stream",
     "text": [
      "18\n",
      "0\n",
      "21\n",
      "4\n"
     ]
    },
    {
     "data": {
      "text/plain": [
       "21"
      ]
     },
     "execution_count": 32,
     "metadata": {},
     "output_type": "execute_result"
    }
   ],
   "source": [
    "solution([3, 6, -2, -5, 7, 3])"
   ]
  },
  {
   "cell_type": "code",
   "execution_count": 33,
   "id": "80e45755",
   "metadata": {},
   "outputs": [
    {
     "data": {
      "text/plain": [
       "1"
      ]
     },
     "execution_count": 33,
     "metadata": {},
     "output_type": "execute_result"
    }
   ],
   "source": [
    "solution([-23, 4, -3, 8, -12])"
   ]
  },
  {
   "cell_type": "markdown",
   "id": "89ed5054",
   "metadata": {},
   "source": [
    "CodeSignal adjacentElementsProduct"
   ]
  },
  {
   "cell_type": "code",
   "execution_count": null,
   "id": "253a339f",
   "metadata": {},
   "outputs": [],
   "source": [
    "def solution(inputArray):\n",
    "    \n",
    "    #create new list\n",
    "    newlist = []\n",
    "    \n",
    "    #iterate through list from 0 to end of list - 1\n",
    "    for x in range(0, len(inputArray) - 1):\n",
    "        \n",
    "        #append product of current index and adjacent index to newlist\n",
    "        newlist.append(inputArray[x] * inputArray[x + 1])\n",
    "        \n",
    "    #return max of newlist\n",
    "    return max(newlist)\n"
   ]
  },
  {
   "cell_type": "code",
   "execution_count": 39,
   "id": "fd9af7cb",
   "metadata": {},
   "outputs": [
    {
     "data": {
      "text/plain": [
       "-12"
      ]
     },
     "execution_count": 39,
     "metadata": {},
     "output_type": "execute_result"
    }
   ],
   "source": [
    "solution2([-23, 4, -3, 8, -12])"
   ]
  },
  {
   "cell_type": "markdown",
   "id": "22b41980",
   "metadata": {},
   "source": [
    "Add Two Digits Codesignal\n",
    "\n",
    "You are given a two-digit integer n. Return the sum of its digits."
   ]
  },
  {
   "cell_type": "code",
   "execution_count": 2,
   "id": "3e48ca5a",
   "metadata": {},
   "outputs": [],
   "source": [
    "def solution(n):\n",
    "    \n",
    "    #find second or last digit on the right\n",
    "    digit_2 = n % 10\n",
    "    \n",
    "    #using floor division find digit leftmost\n",
    "    digit_1 = n // 10\n",
    "    return digit_2 + digit_1\n"
   ]
  },
  {
   "cell_type": "code",
   "execution_count": 3,
   "id": "8a15900d",
   "metadata": {},
   "outputs": [
    {
     "data": {
      "text/plain": [
       "3"
      ]
     },
     "execution_count": 3,
     "metadata": {},
     "output_type": "execute_result"
    }
   ],
   "source": [
    "solution(12)"
   ]
  },
  {
   "cell_type": "markdown",
   "id": "270df67d",
   "metadata": {},
   "source": [
    "AlmostIncreasingSequence CodeSignal\n",
    "\n",
    "Given a sequence of integers as an array, determine whether it is possible to obtain a strictly increasing sequence by removing no more than one element from the array."
   ]
  },
  {
   "cell_type": "code",
   "execution_count": 12,
   "id": "fc290ce2",
   "metadata": {},
   "outputs": [],
   "source": [
    "def solution(sequence):\n",
    "    count = 0\n",
    "    newmin = 0\n",
    "    for x in range(0, len(sequence) - 1):\n",
    "        if sequence[x] < sequence[x + 1]:\n",
    "\n",
    "            print(newmin)\n",
    "            if newmin < sequence[x + 1]:\n",
    "                newmin = sequence[x]\n",
    "            else:\n",
    "                count += 1\n",
    "        else:\n",
    "            count += 1\n",
    "            \n",
    "    if count <= 1:\n",
    "        return True\n",
    "        \n",
    "    else:\n",
    "        return False"
   ]
  },
  {
   "cell_type": "code",
   "execution_count": 13,
   "id": "0ccd27bd",
   "metadata": {},
   "outputs": [
    {
     "name": "stdout",
     "output_type": "stream",
     "text": [
      "0\n",
      "40\n",
      "50\n",
      "50\n"
     ]
    },
    {
     "data": {
      "text/plain": [
       "False"
      ]
     },
     "execution_count": 13,
     "metadata": {},
     "output_type": "execute_result"
    }
   ],
   "source": [
    "solution([40, 50, 60, 10, 20, 30])"
   ]
  },
  {
   "cell_type": "code",
   "execution_count": 14,
   "id": "7bcf4e2d",
   "metadata": {},
   "outputs": [
    {
     "ename": "IndentationError",
     "evalue": "expected an indented block (792870032.py, line 10)",
     "output_type": "error",
     "traceback": [
      "\u001b[0;36m  Input \u001b[0;32mIn [14]\u001b[0;36m\u001b[0m\n\u001b[0;31m    else:\u001b[0m\n\u001b[0m    ^\u001b[0m\n\u001b[0;31mIndentationError\u001b[0m\u001b[0;31m:\u001b[0m expected an indented block\n"
     ]
    }
   ],
   "source": [
    "def solution(sequence):\n",
    "    count = 0\n",
    "    newmin = 0\n",
    "    for x in range(0, len(sequence) - 1):\n",
    "        if sequence[x] < sequence[x + 1]:\n",
    "            newmin = sequence[x]\n",
    "            if newmin < sequence[x + 1]:\n",
    "                \n",
    "                #pass\n",
    "            else:\n",
    "                count += 1\n",
    "        else:\n",
    "            count += 1\n",
    "            \n",
    "    if count <= 1:\n",
    "        return True\n",
    "        \n",
    "    else:\n",
    "        return False"
   ]
  },
  {
   "cell_type": "code",
   "execution_count": 11,
   "id": "c32e33a7",
   "metadata": {},
   "outputs": [],
   "source": [
    "def solution(sequence):\n",
    "    count = 0\n",
    "    newmin = 0\n",
    "    initial_check = sequence[0]\n",
    "    for x in range(0, len(sequence) - 1):\n",
    "        if sequence[x] < sequence[x + 1]:\n",
    "            newmin = sequence[x]\n",
    "                \n",
    "            if newmin < sequence[x + 1]:\n",
    "                \n",
    "                \n",
    "                pass\n",
    "            else:\n",
    "                count += 1\n",
    "        else:\n",
    "            count += 1\n",
    "            \n",
    "    if count <= 1:\n",
    "        return True\n",
    "        \n",
    "    else:\n",
    "        return False\n",
    "        "
   ]
  },
  {
   "cell_type": "code",
   "execution_count": 21,
   "id": "c8f2c173",
   "metadata": {},
   "outputs": [],
   "source": [
    "def solution(sequence):\n",
    "    count = 0\n",
    "    #newmin = 0\n",
    "    newlist = sequence\n",
    "    #initial_check = sequence[0]\n",
    "    for x in range(0, len(sequence) - 2):\n",
    "        if sequence[x + 1] < sequence[x]:\n",
    "            #newmin = sequence[x]\n",
    "            #newlist.append(sequence[x])\n",
    "            sequence.remove(sequence[x + 1])\n",
    "            \n",
    "            count += 1\n",
    "            \n",
    "    if count <= 1:\n",
    "        return True\n",
    "        \n",
    "    else:\n",
    "        return False\n",
    "        \n",
    "\n",
    "#if sequence x + 1 is less then sequence x\n",
    "\n",
    "#remove sequence x + 1\n",
    "\n",
    "#count += 1"
   ]
  },
  {
   "cell_type": "code",
   "execution_count": 22,
   "id": "e7ad5dc9",
   "metadata": {},
   "outputs": [
    {
     "data": {
      "text/plain": [
       "True"
      ]
     },
     "execution_count": 22,
     "metadata": {},
     "output_type": "execute_result"
    }
   ],
   "source": [
    "solution([1, 2, 5, 3, 5])"
   ]
  },
  {
   "cell_type": "code",
   "execution_count": null,
   "id": "5d33c7c7",
   "metadata": {},
   "outputs": [],
   "source": [
    "def almostIncreasingSequence(sequence):\n",
    "    count = 0 \n",
    "    i =0\n",
    "    size = len(sequence)\n",
    "    \n",
    "    #if sequence at index 0 is less than sequence at index 1\n",
    "    if(sequence[0]>sequence[1]): #separate case for the first element\n",
    "        \n",
    "        #pop off index 0\n",
    "        sequence.pop(0)\n",
    "        \n",
    "        #update count equals to count + 1\n",
    "        count+=1 #update the count everytime I remove an element\n",
    "        \n",
    "        #size equals to size - 1\n",
    "        size-=1  # I change the size everytime i remove an element\n",
    "    \n",
    "    #while i is less than length - 1\n",
    "    while(i<size-1):\n",
    "        \n",
    "        #if sequence at index i is less than or equal to sequence at index i + 1\n",
    "        if sequence[i]>=sequence[i+1]:\n",
    "            \n",
    "            #count plus equals 1\n",
    "            count+=1\n",
    "            \n",
    "            #if sequence at index i + 1 is less than or equal to index i - 1\n",
    "            if(sequence[i+1]<=sequence[i-1]):\n",
    "                \n",
    "                #pop off sequence index i + 1\n",
    "                sequence.pop(i+1)\n",
    "                \n",
    "            #else    \n",
    "            else:\n",
    "                \n",
    "                #pop off sequence index i\n",
    "                sequence.pop(i)\n",
    "                \n",
    "            #size equals length of sequence\n",
    "            size = len(sequence)\n",
    "            \n",
    "            #if i is greater than 0\n",
    "            if i>0:\n",
    "                \n",
    "                #i equals i - 1\n",
    "                i-=1\n",
    "\n",
    "        #else\n",
    "        else:\n",
    "            \n",
    "            #i equals i + 1\n",
    "            i+=1\n",
    "            \n",
    "    #if count is greater than 1\n",
    "    if count>1:\n",
    "        \n",
    "        #return false\n",
    "        return False\n",
    "    else:\n",
    "        return True"
   ]
  },
  {
   "cell_type": "code",
   "execution_count": 35,
   "id": "0186773c",
   "metadata": {},
   "outputs": [],
   "source": [
    "def solution(sequence):\n",
    "    \n",
    "    #this solution works\n",
    "    size = len(sequence)\n",
    "    size_count = 0\n",
    "    count = 0\n",
    "    \n",
    "    if sequence[0] > sequence[1]:\n",
    "        \n",
    "        sequence.pop(0)\n",
    "        \n",
    "        count += 1\n",
    "        \n",
    "        size -= 1\n",
    "        \n",
    "    while size_count < size - 1:  \n",
    "        \n",
    "    #for x in range(1, size - 1):\n",
    "        if sequence[size_count] >= sequence[size_count + 1]: \n",
    "            \n",
    "            count += 1\n",
    "                \n",
    "            if sequence[size_count + 1] <= sequence[size_count - 1]:\n",
    "                \n",
    "                sequence.pop(size_count + 1)\n",
    "                \n",
    "            else:\n",
    "                \n",
    "                sequence.pop(size_count)\n",
    "                \n",
    "            size = len(sequence)\n",
    "            \n",
    "            if size_count > 0:\n",
    "                \n",
    "                size_count -= 1\n",
    "        else:\n",
    "            size_count += 1\n",
    "            \n",
    "    if count <= 1:\n",
    "        return True\n",
    "        \n",
    "    else:\n",
    "        return False"
   ]
  },
  {
   "cell_type": "code",
   "execution_count": 36,
   "id": "8fa881ab",
   "metadata": {},
   "outputs": [
    {
     "data": {
      "text/plain": [
       "True"
      ]
     },
     "execution_count": 36,
     "metadata": {},
     "output_type": "execute_result"
    }
   ],
   "source": [
    "solution([1, 2, 5, 3, 5])"
   ]
  },
  {
   "cell_type": "code",
   "execution_count": 37,
   "id": "a5b7909b",
   "metadata": {},
   "outputs": [],
   "source": [
    "somerandomlist = [1,2,3,4,3,1,2,3,6]"
   ]
  },
  {
   "cell_type": "code",
   "execution_count": 38,
   "id": "472cab2e",
   "metadata": {},
   "outputs": [
    {
     "data": {
      "text/plain": [
       "{1, 2, 3, 4, 6}"
      ]
     },
     "execution_count": 38,
     "metadata": {},
     "output_type": "execute_result"
    }
   ],
   "source": [
    "set(somerandomlist)"
   ]
  },
  {
   "cell_type": "code",
   "execution_count": 43,
   "id": "899c85a7",
   "metadata": {},
   "outputs": [],
   "source": [
    "def another_solution(sequence):\n",
    "    count = 0\n",
    "    adjacent_max = 0\n",
    "    adjacent_min = 0\n",
    "    size = len(sequence)\n",
    "    some_bool = True\n",
    "    world_min = 0\n",
    "    print(sequence)\n",
    "    if sequence[0] < sequence[1]:\n",
    "        world_min = sequence[0]\n",
    "    else:\n",
    "        world_min = sequence[1]\n",
    "    print(f\"world_min value is: {world_min}\")\n",
    "    \n",
    "    for x in range(0, size - 1):\n",
    "        print(\" \")\n",
    "        print(f\"Starting iteration: {x}!!!\")\n",
    "        print(f\"sequence[x] is: {sequence[x]}, sequence[x + 1] is: {sequence[x + 1]}\")\n",
    "        print(f\"adjacent_max is: {adjacent_max}, adjacent_min is: {adjacent_min}\")\n",
    "        #check if sequence[0] is greater than sequence[1] and some_bool is true\n",
    "        if sequence[0] > sequence[1] and some_bool == True:\n",
    "            \n",
    "            #add 1 to count\n",
    "            count += 1\n",
    "            adjacent_max = sequence[1]\n",
    "            adjacent_min = sequence[1]\n",
    "            some_bool = False\n",
    "            \n",
    "        #if sequence[x] is less than sequence[x + 1]\n",
    "        elif sequence[x] < sequence[x + 1] and sequence[x] >= adjacent_max:\n",
    "            print(\"First elif statement executes!\")\n",
    "            print(\"The rule that follows is: \")\n",
    "            print(\"elif sequence[x] < sequence[x + 1] and sequence[x] >= adjacent_max:\")\n",
    "            print(f\"x is: {x}, sequence[x] is: {sequence[x]}, sequence[x + 1] is: {sequence[x + 1]}\")\n",
    "            print(f\"adjacent_max is: {adjacent_max}\")\n",
    "            \n",
    "            #if sequence[x] is greater than or equal to previous adjacent_min\n",
    "            if sequence[x] >= adjacent_min and sequence[x + 1] > adjacent_max:\n",
    "                print(\"Second if statements executes! This is where updating adjacent values happens\")\n",
    "                print(\"The rule that follows is: \")\n",
    "                print(\"if sequence[x] >= adjacent_min and sequence[x + 1] > adjacent_max:\")\n",
    "                print(f\"sequence[x] is: {sequence[x]}, sequence[x + 1] is: {sequence[x + 1]}\")\n",
    "                print(f\"adjacent_max is: {adjacent_max}, adjacent_min is: {adjacent_min}\")\n",
    "                \n",
    "                #update adjacent_max between index at x and index at x + 1\n",
    "                adjacent_max = max(sequence[x], sequence[x + 1])\n",
    "                print(f\"adjacent_max is now: {adjacent_max}\")\n",
    "                \n",
    "                #update adjacent_min between index at x and index at x + 1\n",
    "                adjacent_min = min(sequence[x], sequence[x + 1])\n",
    "                print(f\"adjacent_min is now: {adjacent_min}\")\n",
    "            \n",
    "        #if sequence[x] is greater than or equal to sequence[x + 1]\n",
    "        elif sequence[x] >= sequence[x + 1] or sequence[x] <= world_min or sequence[x + 1] == adjacent_max:\n",
    "            print(\"Second elif statement executes!! This is where adding to count happens\")\n",
    "            print(\"The rule that follows is: \")\n",
    "            print(\"elif sequence[x] >= sequence[x + 1] or sequence[x] <= world_min or sequence[x + 1] == adjacent_max:\")\n",
    "            print(f\"sequence[x] is: {sequence[x]}, sequence[x + 1] is: {sequence[x + 1]}\")\n",
    "            print(f\"adjacent_max is: {adjacent_max}, adjacent_min is: {adjacent_min}\")\n",
    "            print(f\"world_min is: {world_min}\")\n",
    "            print(f\"adding count when x is: {x}\")\n",
    "\n",
    "            count += 1\n",
    "            #adjacent_max = sequence[x + 1]\n",
    "            print(f\"now the adjacent_max is: {adjacent_max}\")\n",
    "        \n",
    "    if count <= 1:\n",
    "        print(f\"count is: {count}\")\n",
    "        return True\n",
    "        \n",
    "    else:\n",
    "        print(f\"count is: {count}\")\n",
    "        return False\n",
    "        \n",
    "    "
   ]
  },
  {
   "cell_type": "code",
   "execution_count": 321,
   "id": "1d08321d",
   "metadata": {},
   "outputs": [
    {
     "name": "stdout",
     "output_type": "stream",
     "text": [
      "[1, 2, 1, 2]\n",
      "world_min value is: 1\n",
      " \n",
      "Starting iteration: 0!!!\n",
      "First elif statement executes!\n",
      "x is: 0 and sequence[x] is: 1 and sequence[x + 1] is: 2\n",
      "Second if statements executes! This is where updating adjacent values happens\n",
      "adjacent_max is now: 2\n",
      "adjacent_min is now: 1\n",
      " \n",
      "Starting iteration: 1!!!\n",
      "Second elif statement executes!! This is where adding to count happens\n",
      "adding count when x is: 1\n",
      "now the adjacent_max is: 2\n",
      " \n",
      "Starting iteration: 2!!!\n",
      "Second elif statement executes!! This is where adding to count happens\n",
      "adding count when x is: 2\n",
      "now the adjacent_max is: 2\n"
     ]
    },
    {
     "data": {
      "text/plain": [
       "False"
      ]
     },
     "execution_count": 321,
     "metadata": {},
     "output_type": "execute_result"
    }
   ],
   "source": [
    "another_solution([1, 2, 1, 2])"
   ]
  },
  {
   "cell_type": "code",
   "execution_count": 11,
   "id": "a5da3f1d",
   "metadata": {},
   "outputs": [],
   "source": [
    "sequence1 = [1,3,2,1]"
   ]
  },
  {
   "cell_type": "code",
   "execution_count": 12,
   "id": "fe1aec62",
   "metadata": {},
   "outputs": [],
   "source": [
    "sequence2 = [1,3,2]"
   ]
  },
  {
   "cell_type": "code",
   "execution_count": 13,
   "id": "ce31f268",
   "metadata": {},
   "outputs": [],
   "source": [
    "sequence3 = [1, 2, 1, 2]"
   ]
  },
  {
   "cell_type": "code",
   "execution_count": 14,
   "id": "43cfea73",
   "metadata": {},
   "outputs": [],
   "source": [
    "sequence4 = [3, 6, 5, 8, 10, 20, 15]"
   ]
  },
  {
   "cell_type": "code",
   "execution_count": 15,
   "id": "9328c1a2",
   "metadata": {},
   "outputs": [],
   "source": [
    "sequence5 = [1, 1, 2, 3, 4, 4]"
   ]
  },
  {
   "cell_type": "code",
   "execution_count": 16,
   "id": "336e75de",
   "metadata": {},
   "outputs": [],
   "source": [
    "sequence6 = [1, 4, 10, 4, 2]"
   ]
  },
  {
   "cell_type": "code",
   "execution_count": 17,
   "id": "7114899d",
   "metadata": {},
   "outputs": [],
   "source": [
    "sequence7 = [10, 1, 2, 3, 4, 5]"
   ]
  },
  {
   "cell_type": "code",
   "execution_count": 18,
   "id": "05e73e0b",
   "metadata": {},
   "outputs": [],
   "source": [
    "sequence8 = [1, 1, 1, 2, 3]"
   ]
  },
  {
   "cell_type": "code",
   "execution_count": 19,
   "id": "484820a2",
   "metadata": {},
   "outputs": [],
   "source": [
    "sequence9 = [0, -2, 5, 6]"
   ]
  },
  {
   "cell_type": "code",
   "execution_count": 20,
   "id": "3328b4e3",
   "metadata": {},
   "outputs": [],
   "source": [
    "sequence10 = [1, 2, 3, 4, 5, 3, 5, 6]"
   ]
  },
  {
   "cell_type": "code",
   "execution_count": 21,
   "id": "fe7198b7",
   "metadata": {},
   "outputs": [],
   "source": [
    "sequence11 = [40, 50, 60, 10, 20, 30]"
   ]
  },
  {
   "cell_type": "code",
   "execution_count": 22,
   "id": "81e8ebcd",
   "metadata": {},
   "outputs": [],
   "source": [
    "sequence12 = [1, 1]"
   ]
  },
  {
   "cell_type": "code",
   "execution_count": 23,
   "id": "93a8452a",
   "metadata": {},
   "outputs": [],
   "source": [
    "sequence13 = [1, 2, 5, 3, 5]"
   ]
  },
  {
   "cell_type": "code",
   "execution_count": 24,
   "id": "b8594320",
   "metadata": {},
   "outputs": [],
   "source": [
    "sequence14 = [1, 2, 5, 5, 5]"
   ]
  },
  {
   "cell_type": "code",
   "execution_count": 25,
   "id": "3f10ad4f",
   "metadata": {},
   "outputs": [],
   "source": [
    "sequence15 = [10, 1, 2, 3, 4, 5, 6, 1]"
   ]
  },
  {
   "cell_type": "code",
   "execution_count": 26,
   "id": "6d36cbae",
   "metadata": {},
   "outputs": [],
   "source": [
    "sequence16 = [1, 2, 3, 4, 3, 6]"
   ]
  },
  {
   "cell_type": "code",
   "execution_count": 27,
   "id": "e9c7475b",
   "metadata": {},
   "outputs": [],
   "source": [
    "sequence17 = [1, 2, 3, 4, 99, 5, 6]"
   ]
  },
  {
   "cell_type": "code",
   "execution_count": 28,
   "id": "1d31026a",
   "metadata": {},
   "outputs": [],
   "source": [
    "sequence18 = [123, -17, -5, 1, 2, 3, 12, 43, 45]"
   ]
  },
  {
   "cell_type": "code",
   "execution_count": 29,
   "id": "6ec33a0b",
   "metadata": {},
   "outputs": [],
   "source": [
    "sequence19 = [3, 5, 67, 98, 3]"
   ]
  },
  {
   "cell_type": "code",
   "execution_count": 335,
   "id": "1c62fcc5",
   "metadata": {},
   "outputs": [
    {
     "name": "stdout",
     "output_type": "stream",
     "text": [
      "[1, 2, 1, 2]\n",
      "world_min value is: 1\n",
      " \n",
      "Starting iteration: 0!!!\n",
      "First elif statement executes!\n",
      "x is: 0 and sequence[x] is: 1 and sequence[x + 1] is: 2\n",
      "Second if statements executes! This is where updating adjacent values happens\n",
      "adjacent_max is now: 2\n",
      "adjacent_min is now: 1\n",
      " \n",
      "Starting iteration: 1!!!\n",
      "Second elif statement executes!! This is where adding to count happens\n",
      "adding count when x is: 1\n",
      "now the adjacent_max is: 2\n",
      " \n",
      "Starting iteration: 2!!!\n",
      "Second elif statement executes!! This is where adding to count happens\n",
      "adding count when x is: 2\n",
      "now the adjacent_max is: 2\n"
     ]
    },
    {
     "data": {
      "text/plain": [
       "False"
      ]
     },
     "execution_count": 335,
     "metadata": {},
     "output_type": "execute_result"
    }
   ],
   "source": [
    "another_solution(sequence3)"
   ]
  },
  {
   "cell_type": "code",
   "execution_count": 336,
   "id": "487b9b22",
   "metadata": {},
   "outputs": [
    {
     "name": "stdout",
     "output_type": "stream",
     "text": [
      "[1, 2, 3, 4, 5, 3, 5, 6]\n",
      "world_min value is: 1\n",
      " \n",
      "Starting iteration: 0!!!\n",
      "First elif statement executes!\n",
      "x is: 0 and sequence[x] is: 1 and sequence[x + 1] is: 2\n",
      "Second if statements executes! This is where updating adjacent values happens\n",
      "adjacent_max is now: 2\n",
      "adjacent_min is now: 1\n",
      " \n",
      "Starting iteration: 1!!!\n",
      "First elif statement executes!\n",
      "x is: 1 and sequence[x] is: 2 and sequence[x + 1] is: 3\n",
      "Second if statements executes! This is where updating adjacent values happens\n",
      "adjacent_max is now: 3\n",
      "adjacent_min is now: 2\n",
      " \n",
      "Starting iteration: 2!!!\n",
      "First elif statement executes!\n",
      "x is: 2 and sequence[x] is: 3 and sequence[x + 1] is: 4\n",
      "Second if statements executes! This is where updating adjacent values happens\n",
      "adjacent_max is now: 4\n",
      "adjacent_min is now: 3\n",
      " \n",
      "Starting iteration: 3!!!\n",
      "First elif statement executes!\n",
      "x is: 3 and sequence[x] is: 4 and sequence[x + 1] is: 5\n",
      "Second if statements executes! This is where updating adjacent values happens\n",
      "adjacent_max is now: 5\n",
      "adjacent_min is now: 4\n",
      " \n",
      "Starting iteration: 4!!!\n",
      "Second elif statement executes!! This is where adding to count happens\n",
      "adding count when x is: 4\n",
      "now the adjacent_max is: 5\n",
      " \n",
      "Starting iteration: 5!!!\n",
      "Second elif statement executes!! This is where adding to count happens\n",
      "adding count when x is: 5\n",
      "now the adjacent_max is: 5\n",
      " \n",
      "Starting iteration: 6!!!\n",
      "First elif statement executes!\n",
      "x is: 6 and sequence[x] is: 5 and sequence[x + 1] is: 6\n",
      "Second if statements executes! This is where updating adjacent values happens\n",
      "adjacent_max is now: 6\n",
      "adjacent_min is now: 5\n"
     ]
    },
    {
     "data": {
      "text/plain": [
       "False"
      ]
     },
     "execution_count": 336,
     "metadata": {},
     "output_type": "execute_result"
    }
   ],
   "source": [
    "another_solution(sequence10)"
   ]
  },
  {
   "cell_type": "code",
   "execution_count": 337,
   "id": "f75af9ae",
   "metadata": {},
   "outputs": [
    {
     "name": "stdout",
     "output_type": "stream",
     "text": [
      "[40, 50, 60, 10, 20, 30]\n",
      "world_min value is: 40\n",
      " \n",
      "Starting iteration: 0!!!\n",
      "First elif statement executes!\n",
      "x is: 0 and sequence[x] is: 40 and sequence[x + 1] is: 50\n",
      "Second if statements executes! This is where updating adjacent values happens\n",
      "adjacent_max is now: 50\n",
      "adjacent_min is now: 40\n",
      " \n",
      "Starting iteration: 1!!!\n",
      "First elif statement executes!\n",
      "x is: 1 and sequence[x] is: 50 and sequence[x + 1] is: 60\n",
      "Second if statements executes! This is where updating adjacent values happens\n",
      "adjacent_max is now: 60\n",
      "adjacent_min is now: 50\n",
      " \n",
      "Starting iteration: 2!!!\n",
      "Second elif statement executes!! This is where adding to count happens\n",
      "adding count when x is: 2\n",
      "now the adjacent_max is: 60\n",
      " \n",
      "Starting iteration: 3!!!\n",
      "Second elif statement executes!! This is where adding to count happens\n",
      "adding count when x is: 3\n",
      "now the adjacent_max is: 60\n",
      " \n",
      "Starting iteration: 4!!!\n",
      "Second elif statement executes!! This is where adding to count happens\n",
      "adding count when x is: 4\n",
      "now the adjacent_max is: 60\n"
     ]
    },
    {
     "data": {
      "text/plain": [
       "False"
      ]
     },
     "execution_count": 337,
     "metadata": {},
     "output_type": "execute_result"
    }
   ],
   "source": [
    "another_solution(sequence11)"
   ]
  },
  {
   "cell_type": "code",
   "execution_count": 30,
   "id": "3e55d316",
   "metadata": {},
   "outputs": [
    {
     "name": "stdout",
     "output_type": "stream",
     "text": [
      "[1, 3, 2, 1]\n",
      "world_min value is: 1\n",
      " \n",
      "Starting iteration: 0!!!\n",
      "sequence[x] is: 1, sequence[x + 1] is: 3\n",
      "adjacent_max is: 0, adjacent_min is: 0\n",
      "First elif statement executes!\n",
      "The rule that follows is: \n",
      "elif sequence[x] < sequence[x + 1] and sequence[x] >= adjacent_max:\n",
      "x is: 0, sequence[x] is: 1, sequence[x + 1] is: 3\n",
      "adjacent_max is: 0\n",
      "Second if statements executes! This is where updating adjacent values happens\n",
      "The rule that follows is: \n",
      "if sequence[x] >= adjacent_min and sequence[x + 1] > adjacent_max:\n",
      "sequence[x] is: 1, sequence[x + 1] is: 3\n",
      "adjacent_max is: 0, adjacent_min is: 0\n",
      "adjacent_max is now: 3\n",
      "adjacent_min is now: 1\n",
      " \n",
      "Starting iteration: 1!!!\n",
      "sequence[x] is: 3, sequence[x + 1] is: 2\n",
      "adjacent_max is: 3, adjacent_min is: 1\n",
      "Second elif statement executes!! This is where adding to count happens\n",
      "The rule that follows is: \n",
      "elif sequence[x] >= sequence[x + 1] or sequence[x] <= world_min or sequence[x] <= adjacent_min:\n",
      "sequence[x] is: 3, sequence[x + 1] is: 2\n",
      "adjacent_max is: 3, adjacent_min is: 1\n",
      "world_min is: 1\n",
      "adding count when x is: 1\n",
      "now the adjacent_max is: 3\n",
      " \n",
      "Starting iteration: 2!!!\n",
      "sequence[x] is: 2, sequence[x + 1] is: 1\n",
      "adjacent_max is: 3, adjacent_min is: 1\n",
      "Second elif statement executes!! This is where adding to count happens\n",
      "The rule that follows is: \n",
      "elif sequence[x] >= sequence[x + 1] or sequence[x] <= world_min or sequence[x] <= adjacent_min:\n",
      "sequence[x] is: 2, sequence[x + 1] is: 1\n",
      "adjacent_max is: 3, adjacent_min is: 1\n",
      "world_min is: 1\n",
      "adding count when x is: 2\n",
      "now the adjacent_max is: 3\n",
      "count is: 2\n"
     ]
    },
    {
     "data": {
      "text/plain": [
       "False"
      ]
     },
     "execution_count": 30,
     "metadata": {},
     "output_type": "execute_result"
    }
   ],
   "source": [
    "another_solution(sequence1)"
   ]
  },
  {
   "cell_type": "code",
   "execution_count": 31,
   "id": "0b66992e",
   "metadata": {},
   "outputs": [
    {
     "name": "stdout",
     "output_type": "stream",
     "text": [
      "[1, 3, 2]\n",
      "world_min value is: 1\n",
      " \n",
      "Starting iteration: 0!!!\n",
      "sequence[x] is: 1, sequence[x + 1] is: 3\n",
      "adjacent_max is: 0, adjacent_min is: 0\n",
      "First elif statement executes!\n",
      "The rule that follows is: \n",
      "elif sequence[x] < sequence[x + 1] and sequence[x] >= adjacent_max:\n",
      "x is: 0, sequence[x] is: 1, sequence[x + 1] is: 3\n",
      "adjacent_max is: 0\n",
      "Second if statements executes! This is where updating adjacent values happens\n",
      "The rule that follows is: \n",
      "if sequence[x] >= adjacent_min and sequence[x + 1] > adjacent_max:\n",
      "sequence[x] is: 1, sequence[x + 1] is: 3\n",
      "adjacent_max is: 0, adjacent_min is: 0\n",
      "adjacent_max is now: 3\n",
      "adjacent_min is now: 1\n",
      " \n",
      "Starting iteration: 1!!!\n",
      "sequence[x] is: 3, sequence[x + 1] is: 2\n",
      "adjacent_max is: 3, adjacent_min is: 1\n",
      "Second elif statement executes!! This is where adding to count happens\n",
      "The rule that follows is: \n",
      "elif sequence[x] >= sequence[x + 1] or sequence[x] <= world_min or sequence[x] <= adjacent_min:\n",
      "sequence[x] is: 3, sequence[x + 1] is: 2\n",
      "adjacent_max is: 3, adjacent_min is: 1\n",
      "world_min is: 1\n",
      "adding count when x is: 1\n",
      "now the adjacent_max is: 3\n",
      "count is: 1\n"
     ]
    },
    {
     "data": {
      "text/plain": [
       "True"
      ]
     },
     "execution_count": 31,
     "metadata": {},
     "output_type": "execute_result"
    }
   ],
   "source": [
    "another_solution(sequence2)"
   ]
  },
  {
   "cell_type": "code",
   "execution_count": 32,
   "id": "efd6d027",
   "metadata": {},
   "outputs": [
    {
     "name": "stdout",
     "output_type": "stream",
     "text": [
      "[1, 2, 1, 2]\n",
      "world_min value is: 1\n",
      " \n",
      "Starting iteration: 0!!!\n",
      "sequence[x] is: 1, sequence[x + 1] is: 2\n",
      "adjacent_max is: 0, adjacent_min is: 0\n",
      "First elif statement executes!\n",
      "The rule that follows is: \n",
      "elif sequence[x] < sequence[x + 1] and sequence[x] >= adjacent_max:\n",
      "x is: 0, sequence[x] is: 1, sequence[x + 1] is: 2\n",
      "adjacent_max is: 0\n",
      "Second if statements executes! This is where updating adjacent values happens\n",
      "The rule that follows is: \n",
      "if sequence[x] >= adjacent_min and sequence[x + 1] > adjacent_max:\n",
      "sequence[x] is: 1, sequence[x + 1] is: 2\n",
      "adjacent_max is: 0, adjacent_min is: 0\n",
      "adjacent_max is now: 2\n",
      "adjacent_min is now: 1\n",
      " \n",
      "Starting iteration: 1!!!\n",
      "sequence[x] is: 2, sequence[x + 1] is: 1\n",
      "adjacent_max is: 2, adjacent_min is: 1\n",
      "Second elif statement executes!! This is where adding to count happens\n",
      "The rule that follows is: \n",
      "elif sequence[x] >= sequence[x + 1] or sequence[x] <= world_min or sequence[x] <= adjacent_min:\n",
      "sequence[x] is: 2, sequence[x + 1] is: 1\n",
      "adjacent_max is: 2, adjacent_min is: 1\n",
      "world_min is: 1\n",
      "adding count when x is: 1\n",
      "now the adjacent_max is: 2\n",
      " \n",
      "Starting iteration: 2!!!\n",
      "sequence[x] is: 1, sequence[x + 1] is: 2\n",
      "adjacent_max is: 2, adjacent_min is: 1\n",
      "Second elif statement executes!! This is where adding to count happens\n",
      "The rule that follows is: \n",
      "elif sequence[x] >= sequence[x + 1] or sequence[x] <= world_min or sequence[x] <= adjacent_min:\n",
      "sequence[x] is: 1, sequence[x + 1] is: 2\n",
      "adjacent_max is: 2, adjacent_min is: 1\n",
      "world_min is: 1\n",
      "adding count when x is: 2\n",
      "now the adjacent_max is: 2\n",
      "count is: 2\n"
     ]
    },
    {
     "data": {
      "text/plain": [
       "False"
      ]
     },
     "execution_count": 32,
     "metadata": {},
     "output_type": "execute_result"
    }
   ],
   "source": [
    "another_solution(sequence3)"
   ]
  },
  {
   "cell_type": "code",
   "execution_count": 33,
   "id": "d2a8e9a7",
   "metadata": {},
   "outputs": [
    {
     "name": "stdout",
     "output_type": "stream",
     "text": [
      "[3, 6, 5, 8, 10, 20, 15]\n",
      "world_min value is: 3\n",
      " \n",
      "Starting iteration: 0!!!\n",
      "sequence[x] is: 3, sequence[x + 1] is: 6\n",
      "adjacent_max is: 0, adjacent_min is: 0\n",
      "First elif statement executes!\n",
      "The rule that follows is: \n",
      "elif sequence[x] < sequence[x + 1] and sequence[x] >= adjacent_max:\n",
      "x is: 0, sequence[x] is: 3, sequence[x + 1] is: 6\n",
      "adjacent_max is: 0\n",
      "Second if statements executes! This is where updating adjacent values happens\n",
      "The rule that follows is: \n",
      "if sequence[x] >= adjacent_min and sequence[x + 1] > adjacent_max:\n",
      "sequence[x] is: 3, sequence[x + 1] is: 6\n",
      "adjacent_max is: 0, adjacent_min is: 0\n",
      "adjacent_max is now: 6\n",
      "adjacent_min is now: 3\n",
      " \n",
      "Starting iteration: 1!!!\n",
      "sequence[x] is: 6, sequence[x + 1] is: 5\n",
      "adjacent_max is: 6, adjacent_min is: 3\n",
      "Second elif statement executes!! This is where adding to count happens\n",
      "The rule that follows is: \n",
      "elif sequence[x] >= sequence[x + 1] or sequence[x] <= world_min or sequence[x] <= adjacent_min:\n",
      "sequence[x] is: 6, sequence[x + 1] is: 5\n",
      "adjacent_max is: 6, adjacent_min is: 3\n",
      "world_min is: 3\n",
      "adding count when x is: 1\n",
      "now the adjacent_max is: 6\n",
      " \n",
      "Starting iteration: 2!!!\n",
      "sequence[x] is: 5, sequence[x + 1] is: 8\n",
      "adjacent_max is: 6, adjacent_min is: 3\n",
      " \n",
      "Starting iteration: 3!!!\n",
      "sequence[x] is: 8, sequence[x + 1] is: 10\n",
      "adjacent_max is: 6, adjacent_min is: 3\n",
      "First elif statement executes!\n",
      "The rule that follows is: \n",
      "elif sequence[x] < sequence[x + 1] and sequence[x] >= adjacent_max:\n",
      "x is: 3, sequence[x] is: 8, sequence[x + 1] is: 10\n",
      "adjacent_max is: 6\n",
      "Second if statements executes! This is where updating adjacent values happens\n",
      "The rule that follows is: \n",
      "if sequence[x] >= adjacent_min and sequence[x + 1] > adjacent_max:\n",
      "sequence[x] is: 8, sequence[x + 1] is: 10\n",
      "adjacent_max is: 6, adjacent_min is: 3\n",
      "adjacent_max is now: 10\n",
      "adjacent_min is now: 8\n",
      " \n",
      "Starting iteration: 4!!!\n",
      "sequence[x] is: 10, sequence[x + 1] is: 20\n",
      "adjacent_max is: 10, adjacent_min is: 8\n",
      "First elif statement executes!\n",
      "The rule that follows is: \n",
      "elif sequence[x] < sequence[x + 1] and sequence[x] >= adjacent_max:\n",
      "x is: 4, sequence[x] is: 10, sequence[x + 1] is: 20\n",
      "adjacent_max is: 10\n",
      "Second if statements executes! This is where updating adjacent values happens\n",
      "The rule that follows is: \n",
      "if sequence[x] >= adjacent_min and sequence[x + 1] > adjacent_max:\n",
      "sequence[x] is: 10, sequence[x + 1] is: 20\n",
      "adjacent_max is: 10, adjacent_min is: 8\n",
      "adjacent_max is now: 20\n",
      "adjacent_min is now: 10\n",
      " \n",
      "Starting iteration: 5!!!\n",
      "sequence[x] is: 20, sequence[x + 1] is: 15\n",
      "adjacent_max is: 20, adjacent_min is: 10\n",
      "Second elif statement executes!! This is where adding to count happens\n",
      "The rule that follows is: \n",
      "elif sequence[x] >= sequence[x + 1] or sequence[x] <= world_min or sequence[x] <= adjacent_min:\n",
      "sequence[x] is: 20, sequence[x + 1] is: 15\n",
      "adjacent_max is: 20, adjacent_min is: 10\n",
      "world_min is: 3\n",
      "adding count when x is: 5\n",
      "now the adjacent_max is: 20\n",
      "count is: 2\n"
     ]
    },
    {
     "data": {
      "text/plain": [
       "False"
      ]
     },
     "execution_count": 33,
     "metadata": {},
     "output_type": "execute_result"
    }
   ],
   "source": [
    "another_solution(sequence4)"
   ]
  },
  {
   "cell_type": "code",
   "execution_count": 34,
   "id": "ca6d851b",
   "metadata": {},
   "outputs": [
    {
     "name": "stdout",
     "output_type": "stream",
     "text": [
      "[1, 1, 2, 3, 4, 4]\n",
      "world_min value is: 1\n",
      " \n",
      "Starting iteration: 0!!!\n",
      "sequence[x] is: 1, sequence[x + 1] is: 1\n",
      "adjacent_max is: 0, adjacent_min is: 0\n",
      "Second elif statement executes!! This is where adding to count happens\n",
      "The rule that follows is: \n",
      "elif sequence[x] >= sequence[x + 1] or sequence[x] <= world_min or sequence[x] <= adjacent_min:\n",
      "sequence[x] is: 1, sequence[x + 1] is: 1\n",
      "adjacent_max is: 0, adjacent_min is: 0\n",
      "world_min is: 1\n",
      "adding count when x is: 0\n",
      "now the adjacent_max is: 0\n",
      " \n",
      "Starting iteration: 1!!!\n",
      "sequence[x] is: 1, sequence[x + 1] is: 2\n",
      "adjacent_max is: 0, adjacent_min is: 0\n",
      "First elif statement executes!\n",
      "The rule that follows is: \n",
      "elif sequence[x] < sequence[x + 1] and sequence[x] >= adjacent_max:\n",
      "x is: 1, sequence[x] is: 1, sequence[x + 1] is: 2\n",
      "adjacent_max is: 0\n",
      "Second if statements executes! This is where updating adjacent values happens\n",
      "The rule that follows is: \n",
      "if sequence[x] >= adjacent_min and sequence[x + 1] > adjacent_max:\n",
      "sequence[x] is: 1, sequence[x + 1] is: 2\n",
      "adjacent_max is: 0, adjacent_min is: 0\n",
      "adjacent_max is now: 2\n",
      "adjacent_min is now: 1\n",
      " \n",
      "Starting iteration: 2!!!\n",
      "sequence[x] is: 2, sequence[x + 1] is: 3\n",
      "adjacent_max is: 2, adjacent_min is: 1\n",
      "First elif statement executes!\n",
      "The rule that follows is: \n",
      "elif sequence[x] < sequence[x + 1] and sequence[x] >= adjacent_max:\n",
      "x is: 2, sequence[x] is: 2, sequence[x + 1] is: 3\n",
      "adjacent_max is: 2\n",
      "Second if statements executes! This is where updating adjacent values happens\n",
      "The rule that follows is: \n",
      "if sequence[x] >= adjacent_min and sequence[x + 1] > adjacent_max:\n",
      "sequence[x] is: 2, sequence[x + 1] is: 3\n",
      "adjacent_max is: 2, adjacent_min is: 1\n",
      "adjacent_max is now: 3\n",
      "adjacent_min is now: 2\n",
      " \n",
      "Starting iteration: 3!!!\n",
      "sequence[x] is: 3, sequence[x + 1] is: 4\n",
      "adjacent_max is: 3, adjacent_min is: 2\n",
      "First elif statement executes!\n",
      "The rule that follows is: \n",
      "elif sequence[x] < sequence[x + 1] and sequence[x] >= adjacent_max:\n",
      "x is: 3, sequence[x] is: 3, sequence[x + 1] is: 4\n",
      "adjacent_max is: 3\n",
      "Second if statements executes! This is where updating adjacent values happens\n",
      "The rule that follows is: \n",
      "if sequence[x] >= adjacent_min and sequence[x + 1] > adjacent_max:\n",
      "sequence[x] is: 3, sequence[x + 1] is: 4\n",
      "adjacent_max is: 3, adjacent_min is: 2\n",
      "adjacent_max is now: 4\n",
      "adjacent_min is now: 3\n",
      " \n",
      "Starting iteration: 4!!!\n",
      "sequence[x] is: 4, sequence[x + 1] is: 4\n",
      "adjacent_max is: 4, adjacent_min is: 3\n",
      "Second elif statement executes!! This is where adding to count happens\n",
      "The rule that follows is: \n",
      "elif sequence[x] >= sequence[x + 1] or sequence[x] <= world_min or sequence[x] <= adjacent_min:\n",
      "sequence[x] is: 4, sequence[x + 1] is: 4\n",
      "adjacent_max is: 4, adjacent_min is: 3\n",
      "world_min is: 1\n",
      "adding count when x is: 4\n",
      "now the adjacent_max is: 4\n",
      "count is: 2\n"
     ]
    },
    {
     "data": {
      "text/plain": [
       "False"
      ]
     },
     "execution_count": 34,
     "metadata": {},
     "output_type": "execute_result"
    }
   ],
   "source": [
    "another_solution(sequence5)"
   ]
  },
  {
   "cell_type": "code",
   "execution_count": 35,
   "id": "525b6fd1",
   "metadata": {},
   "outputs": [
    {
     "name": "stdout",
     "output_type": "stream",
     "text": [
      "[1, 4, 10, 4, 2]\n",
      "world_min value is: 1\n",
      " \n",
      "Starting iteration: 0!!!\n",
      "sequence[x] is: 1, sequence[x + 1] is: 4\n",
      "adjacent_max is: 0, adjacent_min is: 0\n",
      "First elif statement executes!\n",
      "The rule that follows is: \n",
      "elif sequence[x] < sequence[x + 1] and sequence[x] >= adjacent_max:\n",
      "x is: 0, sequence[x] is: 1, sequence[x + 1] is: 4\n",
      "adjacent_max is: 0\n",
      "Second if statements executes! This is where updating adjacent values happens\n",
      "The rule that follows is: \n",
      "if sequence[x] >= adjacent_min and sequence[x + 1] > adjacent_max:\n",
      "sequence[x] is: 1, sequence[x + 1] is: 4\n",
      "adjacent_max is: 0, adjacent_min is: 0\n",
      "adjacent_max is now: 4\n",
      "adjacent_min is now: 1\n",
      " \n",
      "Starting iteration: 1!!!\n",
      "sequence[x] is: 4, sequence[x + 1] is: 10\n",
      "adjacent_max is: 4, adjacent_min is: 1\n",
      "First elif statement executes!\n",
      "The rule that follows is: \n",
      "elif sequence[x] < sequence[x + 1] and sequence[x] >= adjacent_max:\n",
      "x is: 1, sequence[x] is: 4, sequence[x + 1] is: 10\n",
      "adjacent_max is: 4\n",
      "Second if statements executes! This is where updating adjacent values happens\n",
      "The rule that follows is: \n",
      "if sequence[x] >= adjacent_min and sequence[x + 1] > adjacent_max:\n",
      "sequence[x] is: 4, sequence[x + 1] is: 10\n",
      "adjacent_max is: 4, adjacent_min is: 1\n",
      "adjacent_max is now: 10\n",
      "adjacent_min is now: 4\n",
      " \n",
      "Starting iteration: 2!!!\n",
      "sequence[x] is: 10, sequence[x + 1] is: 4\n",
      "adjacent_max is: 10, adjacent_min is: 4\n",
      "Second elif statement executes!! This is where adding to count happens\n",
      "The rule that follows is: \n",
      "elif sequence[x] >= sequence[x + 1] or sequence[x] <= world_min or sequence[x] <= adjacent_min:\n",
      "sequence[x] is: 10, sequence[x + 1] is: 4\n",
      "adjacent_max is: 10, adjacent_min is: 4\n",
      "world_min is: 1\n",
      "adding count when x is: 2\n",
      "now the adjacent_max is: 10\n",
      " \n",
      "Starting iteration: 3!!!\n",
      "sequence[x] is: 4, sequence[x + 1] is: 2\n",
      "adjacent_max is: 10, adjacent_min is: 4\n",
      "Second elif statement executes!! This is where adding to count happens\n",
      "The rule that follows is: \n",
      "elif sequence[x] >= sequence[x + 1] or sequence[x] <= world_min or sequence[x] <= adjacent_min:\n",
      "sequence[x] is: 4, sequence[x + 1] is: 2\n",
      "adjacent_max is: 10, adjacent_min is: 4\n",
      "world_min is: 1\n",
      "adding count when x is: 3\n",
      "now the adjacent_max is: 10\n",
      "count is: 2\n"
     ]
    },
    {
     "data": {
      "text/plain": [
       "False"
      ]
     },
     "execution_count": 35,
     "metadata": {},
     "output_type": "execute_result"
    }
   ],
   "source": [
    "another_solution(sequence6)"
   ]
  },
  {
   "cell_type": "code",
   "execution_count": 36,
   "id": "b618ab4f",
   "metadata": {},
   "outputs": [
    {
     "name": "stdout",
     "output_type": "stream",
     "text": [
      "[10, 1, 2, 3, 4, 5]\n",
      "world_min value is: 1\n",
      " \n",
      "Starting iteration: 0!!!\n",
      "sequence[x] is: 10, sequence[x + 1] is: 1\n",
      "adjacent_max is: 0, adjacent_min is: 0\n",
      " \n",
      "Starting iteration: 1!!!\n",
      "sequence[x] is: 1, sequence[x + 1] is: 2\n",
      "adjacent_max is: 1, adjacent_min is: 1\n",
      "First elif statement executes!\n",
      "The rule that follows is: \n",
      "elif sequence[x] < sequence[x + 1] and sequence[x] >= adjacent_max:\n",
      "x is: 1, sequence[x] is: 1, sequence[x + 1] is: 2\n",
      "adjacent_max is: 1\n",
      "Second if statements executes! This is where updating adjacent values happens\n",
      "The rule that follows is: \n",
      "if sequence[x] >= adjacent_min and sequence[x + 1] > adjacent_max:\n",
      "sequence[x] is: 1, sequence[x + 1] is: 2\n",
      "adjacent_max is: 1, adjacent_min is: 1\n",
      "adjacent_max is now: 2\n",
      "adjacent_min is now: 1\n",
      " \n",
      "Starting iteration: 2!!!\n",
      "sequence[x] is: 2, sequence[x + 1] is: 3\n",
      "adjacent_max is: 2, adjacent_min is: 1\n",
      "First elif statement executes!\n",
      "The rule that follows is: \n",
      "elif sequence[x] < sequence[x + 1] and sequence[x] >= adjacent_max:\n",
      "x is: 2, sequence[x] is: 2, sequence[x + 1] is: 3\n",
      "adjacent_max is: 2\n",
      "Second if statements executes! This is where updating adjacent values happens\n",
      "The rule that follows is: \n",
      "if sequence[x] >= adjacent_min and sequence[x + 1] > adjacent_max:\n",
      "sequence[x] is: 2, sequence[x + 1] is: 3\n",
      "adjacent_max is: 2, adjacent_min is: 1\n",
      "adjacent_max is now: 3\n",
      "adjacent_min is now: 2\n",
      " \n",
      "Starting iteration: 3!!!\n",
      "sequence[x] is: 3, sequence[x + 1] is: 4\n",
      "adjacent_max is: 3, adjacent_min is: 2\n",
      "First elif statement executes!\n",
      "The rule that follows is: \n",
      "elif sequence[x] < sequence[x + 1] and sequence[x] >= adjacent_max:\n",
      "x is: 3, sequence[x] is: 3, sequence[x + 1] is: 4\n",
      "adjacent_max is: 3\n",
      "Second if statements executes! This is where updating adjacent values happens\n",
      "The rule that follows is: \n",
      "if sequence[x] >= adjacent_min and sequence[x + 1] > adjacent_max:\n",
      "sequence[x] is: 3, sequence[x + 1] is: 4\n",
      "adjacent_max is: 3, adjacent_min is: 2\n",
      "adjacent_max is now: 4\n",
      "adjacent_min is now: 3\n",
      " \n",
      "Starting iteration: 4!!!\n",
      "sequence[x] is: 4, sequence[x + 1] is: 5\n",
      "adjacent_max is: 4, adjacent_min is: 3\n",
      "First elif statement executes!\n",
      "The rule that follows is: \n",
      "elif sequence[x] < sequence[x + 1] and sequence[x] >= adjacent_max:\n",
      "x is: 4, sequence[x] is: 4, sequence[x + 1] is: 5\n",
      "adjacent_max is: 4\n",
      "Second if statements executes! This is where updating adjacent values happens\n",
      "The rule that follows is: \n",
      "if sequence[x] >= adjacent_min and sequence[x + 1] > adjacent_max:\n",
      "sequence[x] is: 4, sequence[x + 1] is: 5\n",
      "adjacent_max is: 4, adjacent_min is: 3\n",
      "adjacent_max is now: 5\n",
      "adjacent_min is now: 4\n",
      "count is: 1\n"
     ]
    },
    {
     "data": {
      "text/plain": [
       "True"
      ]
     },
     "execution_count": 36,
     "metadata": {},
     "output_type": "execute_result"
    }
   ],
   "source": [
    "another_solution(sequence7)"
   ]
  },
  {
   "cell_type": "code",
   "execution_count": 37,
   "id": "4517f602",
   "metadata": {},
   "outputs": [
    {
     "name": "stdout",
     "output_type": "stream",
     "text": [
      "[1, 1, 1, 2, 3]\n",
      "world_min value is: 1\n",
      " \n",
      "Starting iteration: 0!!!\n",
      "sequence[x] is: 1, sequence[x + 1] is: 1\n",
      "adjacent_max is: 0, adjacent_min is: 0\n",
      "Second elif statement executes!! This is where adding to count happens\n",
      "The rule that follows is: \n",
      "elif sequence[x] >= sequence[x + 1] or sequence[x] <= world_min or sequence[x] <= adjacent_min:\n",
      "sequence[x] is: 1, sequence[x + 1] is: 1\n",
      "adjacent_max is: 0, adjacent_min is: 0\n",
      "world_min is: 1\n",
      "adding count when x is: 0\n",
      "now the adjacent_max is: 0\n",
      " \n",
      "Starting iteration: 1!!!\n",
      "sequence[x] is: 1, sequence[x + 1] is: 1\n",
      "adjacent_max is: 0, adjacent_min is: 0\n",
      "Second elif statement executes!! This is where adding to count happens\n",
      "The rule that follows is: \n",
      "elif sequence[x] >= sequence[x + 1] or sequence[x] <= world_min or sequence[x] <= adjacent_min:\n",
      "sequence[x] is: 1, sequence[x + 1] is: 1\n",
      "adjacent_max is: 0, adjacent_min is: 0\n",
      "world_min is: 1\n",
      "adding count when x is: 1\n",
      "now the adjacent_max is: 0\n",
      " \n",
      "Starting iteration: 2!!!\n",
      "sequence[x] is: 1, sequence[x + 1] is: 2\n",
      "adjacent_max is: 0, adjacent_min is: 0\n",
      "First elif statement executes!\n",
      "The rule that follows is: \n",
      "elif sequence[x] < sequence[x + 1] and sequence[x] >= adjacent_max:\n",
      "x is: 2, sequence[x] is: 1, sequence[x + 1] is: 2\n",
      "adjacent_max is: 0\n",
      "Second if statements executes! This is where updating adjacent values happens\n",
      "The rule that follows is: \n",
      "if sequence[x] >= adjacent_min and sequence[x + 1] > adjacent_max:\n",
      "sequence[x] is: 1, sequence[x + 1] is: 2\n",
      "adjacent_max is: 0, adjacent_min is: 0\n",
      "adjacent_max is now: 2\n",
      "adjacent_min is now: 1\n",
      " \n",
      "Starting iteration: 3!!!\n",
      "sequence[x] is: 2, sequence[x + 1] is: 3\n",
      "adjacent_max is: 2, adjacent_min is: 1\n",
      "First elif statement executes!\n",
      "The rule that follows is: \n",
      "elif sequence[x] < sequence[x + 1] and sequence[x] >= adjacent_max:\n",
      "x is: 3, sequence[x] is: 2, sequence[x + 1] is: 3\n",
      "adjacent_max is: 2\n",
      "Second if statements executes! This is where updating adjacent values happens\n",
      "The rule that follows is: \n",
      "if sequence[x] >= adjacent_min and sequence[x + 1] > adjacent_max:\n",
      "sequence[x] is: 2, sequence[x + 1] is: 3\n",
      "adjacent_max is: 2, adjacent_min is: 1\n",
      "adjacent_max is now: 3\n",
      "adjacent_min is now: 2\n",
      "count is: 2\n"
     ]
    },
    {
     "data": {
      "text/plain": [
       "False"
      ]
     },
     "execution_count": 37,
     "metadata": {},
     "output_type": "execute_result"
    }
   ],
   "source": [
    "another_solution(sequence8)"
   ]
  },
  {
   "cell_type": "code",
   "execution_count": 38,
   "id": "bce34065",
   "metadata": {},
   "outputs": [
    {
     "name": "stdout",
     "output_type": "stream",
     "text": [
      "[0, -2, 5, 6]\n",
      "world_min value is: -2\n",
      " \n",
      "Starting iteration: 0!!!\n",
      "sequence[x] is: 0, sequence[x + 1] is: -2\n",
      "adjacent_max is: 0, adjacent_min is: 0\n",
      " \n",
      "Starting iteration: 1!!!\n",
      "sequence[x] is: -2, sequence[x + 1] is: 5\n",
      "adjacent_max is: -2, adjacent_min is: -2\n",
      "First elif statement executes!\n",
      "The rule that follows is: \n",
      "elif sequence[x] < sequence[x + 1] and sequence[x] >= adjacent_max:\n",
      "x is: 1, sequence[x] is: -2, sequence[x + 1] is: 5\n",
      "adjacent_max is: -2\n",
      "Second if statements executes! This is where updating adjacent values happens\n",
      "The rule that follows is: \n",
      "if sequence[x] >= adjacent_min and sequence[x + 1] > adjacent_max:\n",
      "sequence[x] is: -2, sequence[x + 1] is: 5\n",
      "adjacent_max is: -2, adjacent_min is: -2\n",
      "adjacent_max is now: 5\n",
      "adjacent_min is now: -2\n",
      " \n",
      "Starting iteration: 2!!!\n",
      "sequence[x] is: 5, sequence[x + 1] is: 6\n",
      "adjacent_max is: 5, adjacent_min is: -2\n",
      "First elif statement executes!\n",
      "The rule that follows is: \n",
      "elif sequence[x] < sequence[x + 1] and sequence[x] >= adjacent_max:\n",
      "x is: 2, sequence[x] is: 5, sequence[x + 1] is: 6\n",
      "adjacent_max is: 5\n",
      "Second if statements executes! This is where updating adjacent values happens\n",
      "The rule that follows is: \n",
      "if sequence[x] >= adjacent_min and sequence[x + 1] > adjacent_max:\n",
      "sequence[x] is: 5, sequence[x + 1] is: 6\n",
      "adjacent_max is: 5, adjacent_min is: -2\n",
      "adjacent_max is now: 6\n",
      "adjacent_min is now: 5\n",
      "count is: 1\n"
     ]
    },
    {
     "data": {
      "text/plain": [
       "True"
      ]
     },
     "execution_count": 38,
     "metadata": {},
     "output_type": "execute_result"
    }
   ],
   "source": [
    "another_solution(sequence9)"
   ]
  },
  {
   "cell_type": "code",
   "execution_count": 39,
   "id": "0b781934",
   "metadata": {},
   "outputs": [
    {
     "name": "stdout",
     "output_type": "stream",
     "text": [
      "[1, 2, 3, 4, 5, 3, 5, 6]\n",
      "world_min value is: 1\n",
      " \n",
      "Starting iteration: 0!!!\n",
      "sequence[x] is: 1, sequence[x + 1] is: 2\n",
      "adjacent_max is: 0, adjacent_min is: 0\n",
      "First elif statement executes!\n",
      "The rule that follows is: \n",
      "elif sequence[x] < sequence[x + 1] and sequence[x] >= adjacent_max:\n",
      "x is: 0, sequence[x] is: 1, sequence[x + 1] is: 2\n",
      "adjacent_max is: 0\n",
      "Second if statements executes! This is where updating adjacent values happens\n",
      "The rule that follows is: \n",
      "if sequence[x] >= adjacent_min and sequence[x + 1] > adjacent_max:\n",
      "sequence[x] is: 1, sequence[x + 1] is: 2\n",
      "adjacent_max is: 0, adjacent_min is: 0\n",
      "adjacent_max is now: 2\n",
      "adjacent_min is now: 1\n",
      " \n",
      "Starting iteration: 1!!!\n",
      "sequence[x] is: 2, sequence[x + 1] is: 3\n",
      "adjacent_max is: 2, adjacent_min is: 1\n",
      "First elif statement executes!\n",
      "The rule that follows is: \n",
      "elif sequence[x] < sequence[x + 1] and sequence[x] >= adjacent_max:\n",
      "x is: 1, sequence[x] is: 2, sequence[x + 1] is: 3\n",
      "adjacent_max is: 2\n",
      "Second if statements executes! This is where updating adjacent values happens\n",
      "The rule that follows is: \n",
      "if sequence[x] >= adjacent_min and sequence[x + 1] > adjacent_max:\n",
      "sequence[x] is: 2, sequence[x + 1] is: 3\n",
      "adjacent_max is: 2, adjacent_min is: 1\n",
      "adjacent_max is now: 3\n",
      "adjacent_min is now: 2\n",
      " \n",
      "Starting iteration: 2!!!\n",
      "sequence[x] is: 3, sequence[x + 1] is: 4\n",
      "adjacent_max is: 3, adjacent_min is: 2\n",
      "First elif statement executes!\n",
      "The rule that follows is: \n",
      "elif sequence[x] < sequence[x + 1] and sequence[x] >= adjacent_max:\n",
      "x is: 2, sequence[x] is: 3, sequence[x + 1] is: 4\n",
      "adjacent_max is: 3\n",
      "Second if statements executes! This is where updating adjacent values happens\n",
      "The rule that follows is: \n",
      "if sequence[x] >= adjacent_min and sequence[x + 1] > adjacent_max:\n",
      "sequence[x] is: 3, sequence[x + 1] is: 4\n",
      "adjacent_max is: 3, adjacent_min is: 2\n",
      "adjacent_max is now: 4\n",
      "adjacent_min is now: 3\n",
      " \n",
      "Starting iteration: 3!!!\n",
      "sequence[x] is: 4, sequence[x + 1] is: 5\n",
      "adjacent_max is: 4, adjacent_min is: 3\n",
      "First elif statement executes!\n",
      "The rule that follows is: \n",
      "elif sequence[x] < sequence[x + 1] and sequence[x] >= adjacent_max:\n",
      "x is: 3, sequence[x] is: 4, sequence[x + 1] is: 5\n",
      "adjacent_max is: 4\n",
      "Second if statements executes! This is where updating adjacent values happens\n",
      "The rule that follows is: \n",
      "if sequence[x] >= adjacent_min and sequence[x + 1] > adjacent_max:\n",
      "sequence[x] is: 4, sequence[x + 1] is: 5\n",
      "adjacent_max is: 4, adjacent_min is: 3\n",
      "adjacent_max is now: 5\n",
      "adjacent_min is now: 4\n",
      " \n",
      "Starting iteration: 4!!!\n",
      "sequence[x] is: 5, sequence[x + 1] is: 3\n",
      "adjacent_max is: 5, adjacent_min is: 4\n",
      "Second elif statement executes!! This is where adding to count happens\n",
      "The rule that follows is: \n",
      "elif sequence[x] >= sequence[x + 1] or sequence[x] <= world_min or sequence[x] <= adjacent_min:\n",
      "sequence[x] is: 5, sequence[x + 1] is: 3\n",
      "adjacent_max is: 5, adjacent_min is: 4\n",
      "world_min is: 1\n",
      "adding count when x is: 4\n",
      "now the adjacent_max is: 5\n",
      " \n",
      "Starting iteration: 5!!!\n",
      "sequence[x] is: 3, sequence[x + 1] is: 5\n",
      "adjacent_max is: 5, adjacent_min is: 4\n",
      "Second elif statement executes!! This is where adding to count happens\n",
      "The rule that follows is: \n",
      "elif sequence[x] >= sequence[x + 1] or sequence[x] <= world_min or sequence[x] <= adjacent_min:\n",
      "sequence[x] is: 3, sequence[x + 1] is: 5\n",
      "adjacent_max is: 5, adjacent_min is: 4\n",
      "world_min is: 1\n",
      "adding count when x is: 5\n",
      "now the adjacent_max is: 5\n",
      " \n",
      "Starting iteration: 6!!!\n",
      "sequence[x] is: 5, sequence[x + 1] is: 6\n",
      "adjacent_max is: 5, adjacent_min is: 4\n",
      "First elif statement executes!\n",
      "The rule that follows is: \n",
      "elif sequence[x] < sequence[x + 1] and sequence[x] >= adjacent_max:\n",
      "x is: 6, sequence[x] is: 5, sequence[x + 1] is: 6\n",
      "adjacent_max is: 5\n",
      "Second if statements executes! This is where updating adjacent values happens\n",
      "The rule that follows is: \n",
      "if sequence[x] >= adjacent_min and sequence[x + 1] > adjacent_max:\n",
      "sequence[x] is: 5, sequence[x + 1] is: 6\n",
      "adjacent_max is: 5, adjacent_min is: 4\n",
      "adjacent_max is now: 6\n",
      "adjacent_min is now: 5\n",
      "count is: 2\n"
     ]
    },
    {
     "data": {
      "text/plain": [
       "False"
      ]
     },
     "execution_count": 39,
     "metadata": {},
     "output_type": "execute_result"
    }
   ],
   "source": [
    "another_solution(sequence10)"
   ]
  },
  {
   "cell_type": "code",
   "execution_count": 40,
   "id": "95bd9352",
   "metadata": {},
   "outputs": [
    {
     "name": "stdout",
     "output_type": "stream",
     "text": [
      "[40, 50, 60, 10, 20, 30]\n",
      "world_min value is: 40\n",
      " \n",
      "Starting iteration: 0!!!\n",
      "sequence[x] is: 40, sequence[x + 1] is: 50\n",
      "adjacent_max is: 0, adjacent_min is: 0\n",
      "First elif statement executes!\n",
      "The rule that follows is: \n",
      "elif sequence[x] < sequence[x + 1] and sequence[x] >= adjacent_max:\n",
      "x is: 0, sequence[x] is: 40, sequence[x + 1] is: 50\n",
      "adjacent_max is: 0\n",
      "Second if statements executes! This is where updating adjacent values happens\n",
      "The rule that follows is: \n",
      "if sequence[x] >= adjacent_min and sequence[x + 1] > adjacent_max:\n",
      "sequence[x] is: 40, sequence[x + 1] is: 50\n",
      "adjacent_max is: 0, adjacent_min is: 0\n",
      "adjacent_max is now: 50\n",
      "adjacent_min is now: 40\n",
      " \n",
      "Starting iteration: 1!!!\n",
      "sequence[x] is: 50, sequence[x + 1] is: 60\n",
      "adjacent_max is: 50, adjacent_min is: 40\n",
      "First elif statement executes!\n",
      "The rule that follows is: \n",
      "elif sequence[x] < sequence[x + 1] and sequence[x] >= adjacent_max:\n",
      "x is: 1, sequence[x] is: 50, sequence[x + 1] is: 60\n",
      "adjacent_max is: 50\n",
      "Second if statements executes! This is where updating adjacent values happens\n",
      "The rule that follows is: \n",
      "if sequence[x] >= adjacent_min and sequence[x + 1] > adjacent_max:\n",
      "sequence[x] is: 50, sequence[x + 1] is: 60\n",
      "adjacent_max is: 50, adjacent_min is: 40\n",
      "adjacent_max is now: 60\n",
      "adjacent_min is now: 50\n",
      " \n",
      "Starting iteration: 2!!!\n",
      "sequence[x] is: 60, sequence[x + 1] is: 10\n",
      "adjacent_max is: 60, adjacent_min is: 50\n",
      "Second elif statement executes!! This is where adding to count happens\n",
      "The rule that follows is: \n",
      "elif sequence[x] >= sequence[x + 1] or sequence[x] <= world_min or sequence[x] <= adjacent_min:\n",
      "sequence[x] is: 60, sequence[x + 1] is: 10\n",
      "adjacent_max is: 60, adjacent_min is: 50\n",
      "world_min is: 40\n",
      "adding count when x is: 2\n",
      "now the adjacent_max is: 60\n",
      " \n",
      "Starting iteration: 3!!!\n",
      "sequence[x] is: 10, sequence[x + 1] is: 20\n",
      "adjacent_max is: 60, adjacent_min is: 50\n",
      "Second elif statement executes!! This is where adding to count happens\n",
      "The rule that follows is: \n",
      "elif sequence[x] >= sequence[x + 1] or sequence[x] <= world_min or sequence[x] <= adjacent_min:\n",
      "sequence[x] is: 10, sequence[x + 1] is: 20\n",
      "adjacent_max is: 60, adjacent_min is: 50\n",
      "world_min is: 40\n",
      "adding count when x is: 3\n",
      "now the adjacent_max is: 60\n",
      " \n",
      "Starting iteration: 4!!!\n",
      "sequence[x] is: 20, sequence[x + 1] is: 30\n",
      "adjacent_max is: 60, adjacent_min is: 50\n",
      "Second elif statement executes!! This is where adding to count happens\n",
      "The rule that follows is: \n",
      "elif sequence[x] >= sequence[x + 1] or sequence[x] <= world_min or sequence[x] <= adjacent_min:\n",
      "sequence[x] is: 20, sequence[x + 1] is: 30\n",
      "adjacent_max is: 60, adjacent_min is: 50\n",
      "world_min is: 40\n",
      "adding count when x is: 4\n",
      "now the adjacent_max is: 60\n",
      "count is: 3\n"
     ]
    },
    {
     "data": {
      "text/plain": [
       "False"
      ]
     },
     "execution_count": 40,
     "metadata": {},
     "output_type": "execute_result"
    }
   ],
   "source": [
    "another_solution(sequence11)"
   ]
  },
  {
   "cell_type": "code",
   "execution_count": 41,
   "id": "a332023c",
   "metadata": {},
   "outputs": [
    {
     "name": "stdout",
     "output_type": "stream",
     "text": [
      "[1, 1]\n",
      "world_min value is: 1\n",
      " \n",
      "Starting iteration: 0!!!\n",
      "sequence[x] is: 1, sequence[x + 1] is: 1\n",
      "adjacent_max is: 0, adjacent_min is: 0\n",
      "Second elif statement executes!! This is where adding to count happens\n",
      "The rule that follows is: \n",
      "elif sequence[x] >= sequence[x + 1] or sequence[x] <= world_min or sequence[x] <= adjacent_min:\n",
      "sequence[x] is: 1, sequence[x + 1] is: 1\n",
      "adjacent_max is: 0, adjacent_min is: 0\n",
      "world_min is: 1\n",
      "adding count when x is: 0\n",
      "now the adjacent_max is: 0\n",
      "count is: 1\n"
     ]
    },
    {
     "data": {
      "text/plain": [
       "True"
      ]
     },
     "execution_count": 41,
     "metadata": {},
     "output_type": "execute_result"
    }
   ],
   "source": [
    "another_solution(sequence12)"
   ]
  },
  {
   "cell_type": "code",
   "execution_count": 44,
   "id": "f3a8e3ce",
   "metadata": {},
   "outputs": [
    {
     "name": "stdout",
     "output_type": "stream",
     "text": [
      "[1, 2, 5, 3, 5]\n",
      "world_min value is: 1\n",
      " \n",
      "Starting iteration: 0!!!\n",
      "sequence[x] is: 1, sequence[x + 1] is: 2\n",
      "adjacent_max is: 0, adjacent_min is: 0\n",
      "First elif statement executes!\n",
      "The rule that follows is: \n",
      "elif sequence[x] < sequence[x + 1] and sequence[x] >= adjacent_max:\n",
      "x is: 0, sequence[x] is: 1, sequence[x + 1] is: 2\n",
      "adjacent_max is: 0\n",
      "Second if statements executes! This is where updating adjacent values happens\n",
      "The rule that follows is: \n",
      "if sequence[x] >= adjacent_min and sequence[x + 1] > adjacent_max:\n",
      "sequence[x] is: 1, sequence[x + 1] is: 2\n",
      "adjacent_max is: 0, adjacent_min is: 0\n",
      "adjacent_max is now: 2\n",
      "adjacent_min is now: 1\n",
      " \n",
      "Starting iteration: 1!!!\n",
      "sequence[x] is: 2, sequence[x + 1] is: 5\n",
      "adjacent_max is: 2, adjacent_min is: 1\n",
      "First elif statement executes!\n",
      "The rule that follows is: \n",
      "elif sequence[x] < sequence[x + 1] and sequence[x] >= adjacent_max:\n",
      "x is: 1, sequence[x] is: 2, sequence[x + 1] is: 5\n",
      "adjacent_max is: 2\n",
      "Second if statements executes! This is where updating adjacent values happens\n",
      "The rule that follows is: \n",
      "if sequence[x] >= adjacent_min and sequence[x + 1] > adjacent_max:\n",
      "sequence[x] is: 2, sequence[x + 1] is: 5\n",
      "adjacent_max is: 2, adjacent_min is: 1\n",
      "adjacent_max is now: 5\n",
      "adjacent_min is now: 2\n",
      " \n",
      "Starting iteration: 2!!!\n",
      "sequence[x] is: 5, sequence[x + 1] is: 3\n",
      "adjacent_max is: 5, adjacent_min is: 2\n",
      "Second elif statement executes!! This is where adding to count happens\n",
      "The rule that follows is: \n",
      "elif sequence[x] >= sequence[x + 1] or sequence[x] <= world_min or sequence[x + 1] == adjacent_max:\n",
      "sequence[x] is: 5, sequence[x + 1] is: 3\n",
      "adjacent_max is: 5, adjacent_min is: 2\n",
      "world_min is: 1\n",
      "adding count when x is: 2\n",
      "now the adjacent_max is: 5\n",
      " \n",
      "Starting iteration: 3!!!\n",
      "sequence[x] is: 3, sequence[x + 1] is: 5\n",
      "adjacent_max is: 5, adjacent_min is: 2\n",
      "Second elif statement executes!! This is where adding to count happens\n",
      "The rule that follows is: \n",
      "elif sequence[x] >= sequence[x + 1] or sequence[x] <= world_min or sequence[x + 1] == adjacent_max:\n",
      "sequence[x] is: 3, sequence[x + 1] is: 5\n",
      "adjacent_max is: 5, adjacent_min is: 2\n",
      "world_min is: 1\n",
      "adding count when x is: 3\n",
      "now the adjacent_max is: 5\n",
      "count is: 2\n"
     ]
    },
    {
     "data": {
      "text/plain": [
       "False"
      ]
     },
     "execution_count": 44,
     "metadata": {},
     "output_type": "execute_result"
    }
   ],
   "source": [
    "another_solution(sequence13)"
   ]
  },
  {
   "cell_type": "code",
   "execution_count": 400,
   "id": "56848e9f",
   "metadata": {},
   "outputs": [
    {
     "name": "stdout",
     "output_type": "stream",
     "text": [
      "[1, 2, 5, 5, 5]\n",
      "world_min value is: 1\n",
      " \n",
      "Starting iteration: 0!!!\n",
      "First elif statement executes!\n",
      "The rule that follows is: \n",
      "elif sequence[x] < sequence[x + 1] and sequence[x] >= adjacent_max:\n",
      "x is: 0, sequence[x] is: 1, sequence[x + 1] is: 2\n",
      "adjacent_max is: 0\n",
      "Second if statements executes! This is where updating adjacent values happens\n",
      "The rule that follows is: \n",
      "if sequence[x] >= adjacent_min and sequence[x + 1] > adjacent_max:\n",
      "sequence[x] is: 1, sequence[x + 1] is: 2\n",
      "adjacent_max is: 0, adjacent_min is: 0\n",
      "adjacent_max is now: 2\n",
      "adjacent_min is now: 1\n",
      " \n",
      "Starting iteration: 1!!!\n",
      "First elif statement executes!\n",
      "The rule that follows is: \n",
      "elif sequence[x] < sequence[x + 1] and sequence[x] >= adjacent_max:\n",
      "x is: 1, sequence[x] is: 2, sequence[x + 1] is: 5\n",
      "adjacent_max is: 2\n",
      "Second if statements executes! This is where updating adjacent values happens\n",
      "The rule that follows is: \n",
      "if sequence[x] >= adjacent_min and sequence[x + 1] > adjacent_max:\n",
      "sequence[x] is: 2, sequence[x + 1] is: 5\n",
      "adjacent_max is: 2, adjacent_min is: 1\n",
      "adjacent_max is now: 5\n",
      "adjacent_min is now: 2\n",
      " \n",
      "Starting iteration: 2!!!\n",
      "Second elif statement executes!! This is where adding to count happens\n",
      "The rule that follows is: \n",
      "elif sequence[x] >= sequence[x + 1] or sequence[x] <= world_min or sequence[x] <= adjacent_min:\n",
      "sequence[x] is: 5, sequence[x + 1] is: 5\n",
      "adjacent_max is: 5, adjacent_min is: 2\n",
      "world_min is: 1\n",
      "adding count when x is: 2\n",
      "now the adjacent_max is: 5\n",
      " \n",
      "Starting iteration: 3!!!\n",
      "Second elif statement executes!! This is where adding to count happens\n",
      "The rule that follows is: \n",
      "elif sequence[x] >= sequence[x + 1] or sequence[x] <= world_min or sequence[x] <= adjacent_min:\n",
      "sequence[x] is: 5, sequence[x + 1] is: 5\n",
      "adjacent_max is: 5, adjacent_min is: 2\n",
      "world_min is: 1\n",
      "adding count when x is: 3\n",
      "now the adjacent_max is: 5\n",
      "count is: 2\n"
     ]
    },
    {
     "data": {
      "text/plain": [
       "False"
      ]
     },
     "execution_count": 400,
     "metadata": {},
     "output_type": "execute_result"
    }
   ],
   "source": [
    "another_solution(sequence14)"
   ]
  },
  {
   "cell_type": "code",
   "execution_count": 401,
   "id": "f9b47abd",
   "metadata": {},
   "outputs": [
    {
     "name": "stdout",
     "output_type": "stream",
     "text": [
      "[10, 1, 2, 3, 4, 5, 6, 1]\n",
      "world_min value is: 1\n",
      " \n",
      "Starting iteration: 0!!!\n",
      " \n",
      "Starting iteration: 1!!!\n",
      "First elif statement executes!\n",
      "The rule that follows is: \n",
      "elif sequence[x] < sequence[x + 1] and sequence[x] >= adjacent_max:\n",
      "x is: 1, sequence[x] is: 1, sequence[x + 1] is: 2\n",
      "adjacent_max is: 1\n",
      "Second if statements executes! This is where updating adjacent values happens\n",
      "The rule that follows is: \n",
      "if sequence[x] >= adjacent_min and sequence[x + 1] > adjacent_max:\n",
      "sequence[x] is: 1, sequence[x + 1] is: 2\n",
      "adjacent_max is: 1, adjacent_min is: 1\n",
      "adjacent_max is now: 2\n",
      "adjacent_min is now: 1\n",
      " \n",
      "Starting iteration: 2!!!\n",
      "First elif statement executes!\n",
      "The rule that follows is: \n",
      "elif sequence[x] < sequence[x + 1] and sequence[x] >= adjacent_max:\n",
      "x is: 2, sequence[x] is: 2, sequence[x + 1] is: 3\n",
      "adjacent_max is: 2\n",
      "Second if statements executes! This is where updating adjacent values happens\n",
      "The rule that follows is: \n",
      "if sequence[x] >= adjacent_min and sequence[x + 1] > adjacent_max:\n",
      "sequence[x] is: 2, sequence[x + 1] is: 3\n",
      "adjacent_max is: 2, adjacent_min is: 1\n",
      "adjacent_max is now: 3\n",
      "adjacent_min is now: 2\n",
      " \n",
      "Starting iteration: 3!!!\n",
      "First elif statement executes!\n",
      "The rule that follows is: \n",
      "elif sequence[x] < sequence[x + 1] and sequence[x] >= adjacent_max:\n",
      "x is: 3, sequence[x] is: 3, sequence[x + 1] is: 4\n",
      "adjacent_max is: 3\n",
      "Second if statements executes! This is where updating adjacent values happens\n",
      "The rule that follows is: \n",
      "if sequence[x] >= adjacent_min and sequence[x + 1] > adjacent_max:\n",
      "sequence[x] is: 3, sequence[x + 1] is: 4\n",
      "adjacent_max is: 3, adjacent_min is: 2\n",
      "adjacent_max is now: 4\n",
      "adjacent_min is now: 3\n",
      " \n",
      "Starting iteration: 4!!!\n",
      "First elif statement executes!\n",
      "The rule that follows is: \n",
      "elif sequence[x] < sequence[x + 1] and sequence[x] >= adjacent_max:\n",
      "x is: 4, sequence[x] is: 4, sequence[x + 1] is: 5\n",
      "adjacent_max is: 4\n",
      "Second if statements executes! This is where updating adjacent values happens\n",
      "The rule that follows is: \n",
      "if sequence[x] >= adjacent_min and sequence[x + 1] > adjacent_max:\n",
      "sequence[x] is: 4, sequence[x + 1] is: 5\n",
      "adjacent_max is: 4, adjacent_min is: 3\n",
      "adjacent_max is now: 5\n",
      "adjacent_min is now: 4\n",
      " \n",
      "Starting iteration: 5!!!\n",
      "First elif statement executes!\n",
      "The rule that follows is: \n",
      "elif sequence[x] < sequence[x + 1] and sequence[x] >= adjacent_max:\n",
      "x is: 5, sequence[x] is: 5, sequence[x + 1] is: 6\n",
      "adjacent_max is: 5\n",
      "Second if statements executes! This is where updating adjacent values happens\n",
      "The rule that follows is: \n",
      "if sequence[x] >= adjacent_min and sequence[x + 1] > adjacent_max:\n",
      "sequence[x] is: 5, sequence[x + 1] is: 6\n",
      "adjacent_max is: 5, adjacent_min is: 4\n",
      "adjacent_max is now: 6\n",
      "adjacent_min is now: 5\n",
      " \n",
      "Starting iteration: 6!!!\n",
      "Second elif statement executes!! This is where adding to count happens\n",
      "The rule that follows is: \n",
      "elif sequence[x] >= sequence[x + 1] or sequence[x] <= world_min or sequence[x] <= adjacent_min:\n",
      "sequence[x] is: 6, sequence[x + 1] is: 1\n",
      "adjacent_max is: 6, adjacent_min is: 5\n",
      "world_min is: 1\n",
      "adding count when x is: 6\n",
      "now the adjacent_max is: 6\n",
      "count is: 2\n"
     ]
    },
    {
     "data": {
      "text/plain": [
       "False"
      ]
     },
     "execution_count": 401,
     "metadata": {},
     "output_type": "execute_result"
    }
   ],
   "source": [
    "another_solution(sequence15)"
   ]
  },
  {
   "cell_type": "code",
   "execution_count": 402,
   "id": "57238dc2",
   "metadata": {},
   "outputs": [
    {
     "name": "stdout",
     "output_type": "stream",
     "text": [
      "[1, 2, 3, 4, 3, 6]\n",
      "world_min value is: 1\n",
      " \n",
      "Starting iteration: 0!!!\n",
      "First elif statement executes!\n",
      "The rule that follows is: \n",
      "elif sequence[x] < sequence[x + 1] and sequence[x] >= adjacent_max:\n",
      "x is: 0, sequence[x] is: 1, sequence[x + 1] is: 2\n",
      "adjacent_max is: 0\n",
      "Second if statements executes! This is where updating adjacent values happens\n",
      "The rule that follows is: \n",
      "if sequence[x] >= adjacent_min and sequence[x + 1] > adjacent_max:\n",
      "sequence[x] is: 1, sequence[x + 1] is: 2\n",
      "adjacent_max is: 0, adjacent_min is: 0\n",
      "adjacent_max is now: 2\n",
      "adjacent_min is now: 1\n",
      " \n",
      "Starting iteration: 1!!!\n",
      "First elif statement executes!\n",
      "The rule that follows is: \n",
      "elif sequence[x] < sequence[x + 1] and sequence[x] >= adjacent_max:\n",
      "x is: 1, sequence[x] is: 2, sequence[x + 1] is: 3\n",
      "adjacent_max is: 2\n",
      "Second if statements executes! This is where updating adjacent values happens\n",
      "The rule that follows is: \n",
      "if sequence[x] >= adjacent_min and sequence[x + 1] > adjacent_max:\n",
      "sequence[x] is: 2, sequence[x + 1] is: 3\n",
      "adjacent_max is: 2, adjacent_min is: 1\n",
      "adjacent_max is now: 3\n",
      "adjacent_min is now: 2\n",
      " \n",
      "Starting iteration: 2!!!\n",
      "First elif statement executes!\n",
      "The rule that follows is: \n",
      "elif sequence[x] < sequence[x + 1] and sequence[x] >= adjacent_max:\n",
      "x is: 2, sequence[x] is: 3, sequence[x + 1] is: 4\n",
      "adjacent_max is: 3\n",
      "Second if statements executes! This is where updating adjacent values happens\n",
      "The rule that follows is: \n",
      "if sequence[x] >= adjacent_min and sequence[x + 1] > adjacent_max:\n",
      "sequence[x] is: 3, sequence[x + 1] is: 4\n",
      "adjacent_max is: 3, adjacent_min is: 2\n",
      "adjacent_max is now: 4\n",
      "adjacent_min is now: 3\n",
      " \n",
      "Starting iteration: 3!!!\n",
      "Second elif statement executes!! This is where adding to count happens\n",
      "The rule that follows is: \n",
      "elif sequence[x] >= sequence[x + 1] or sequence[x] <= world_min or sequence[x] <= adjacent_min:\n",
      "sequence[x] is: 4, sequence[x + 1] is: 3\n",
      "adjacent_max is: 4, adjacent_min is: 3\n",
      "world_min is: 1\n",
      "adding count when x is: 3\n",
      "now the adjacent_max is: 4\n",
      " \n",
      "Starting iteration: 4!!!\n",
      "count is: 1\n"
     ]
    },
    {
     "data": {
      "text/plain": [
       "True"
      ]
     },
     "execution_count": 402,
     "metadata": {},
     "output_type": "execute_result"
    }
   ],
   "source": [
    "another_solution(sequence16)"
   ]
  },
  {
   "cell_type": "code",
   "execution_count": 403,
   "id": "4f5815e2",
   "metadata": {},
   "outputs": [
    {
     "name": "stdout",
     "output_type": "stream",
     "text": [
      "[1, 2, 3, 4, 99, 5, 6]\n",
      "world_min value is: 1\n",
      " \n",
      "Starting iteration: 0!!!\n",
      "First elif statement executes!\n",
      "The rule that follows is: \n",
      "elif sequence[x] < sequence[x + 1] and sequence[x] >= adjacent_max:\n",
      "x is: 0, sequence[x] is: 1, sequence[x + 1] is: 2\n",
      "adjacent_max is: 0\n",
      "Second if statements executes! This is where updating adjacent values happens\n",
      "The rule that follows is: \n",
      "if sequence[x] >= adjacent_min and sequence[x + 1] > adjacent_max:\n",
      "sequence[x] is: 1, sequence[x + 1] is: 2\n",
      "adjacent_max is: 0, adjacent_min is: 0\n",
      "adjacent_max is now: 2\n",
      "adjacent_min is now: 1\n",
      " \n",
      "Starting iteration: 1!!!\n",
      "First elif statement executes!\n",
      "The rule that follows is: \n",
      "elif sequence[x] < sequence[x + 1] and sequence[x] >= adjacent_max:\n",
      "x is: 1, sequence[x] is: 2, sequence[x + 1] is: 3\n",
      "adjacent_max is: 2\n",
      "Second if statements executes! This is where updating adjacent values happens\n",
      "The rule that follows is: \n",
      "if sequence[x] >= adjacent_min and sequence[x + 1] > adjacent_max:\n",
      "sequence[x] is: 2, sequence[x + 1] is: 3\n",
      "adjacent_max is: 2, adjacent_min is: 1\n",
      "adjacent_max is now: 3\n",
      "adjacent_min is now: 2\n",
      " \n",
      "Starting iteration: 2!!!\n",
      "First elif statement executes!\n",
      "The rule that follows is: \n",
      "elif sequence[x] < sequence[x + 1] and sequence[x] >= adjacent_max:\n",
      "x is: 2, sequence[x] is: 3, sequence[x + 1] is: 4\n",
      "adjacent_max is: 3\n",
      "Second if statements executes! This is where updating adjacent values happens\n",
      "The rule that follows is: \n",
      "if sequence[x] >= adjacent_min and sequence[x + 1] > adjacent_max:\n",
      "sequence[x] is: 3, sequence[x + 1] is: 4\n",
      "adjacent_max is: 3, adjacent_min is: 2\n",
      "adjacent_max is now: 4\n",
      "adjacent_min is now: 3\n",
      " \n",
      "Starting iteration: 3!!!\n",
      "First elif statement executes!\n",
      "The rule that follows is: \n",
      "elif sequence[x] < sequence[x + 1] and sequence[x] >= adjacent_max:\n",
      "x is: 3, sequence[x] is: 4, sequence[x + 1] is: 99\n",
      "adjacent_max is: 4\n",
      "Second if statements executes! This is where updating adjacent values happens\n",
      "The rule that follows is: \n",
      "if sequence[x] >= adjacent_min and sequence[x + 1] > adjacent_max:\n",
      "sequence[x] is: 4, sequence[x + 1] is: 99\n",
      "adjacent_max is: 4, adjacent_min is: 3\n",
      "adjacent_max is now: 99\n",
      "adjacent_min is now: 4\n",
      " \n",
      "Starting iteration: 4!!!\n",
      "Second elif statement executes!! This is where adding to count happens\n",
      "The rule that follows is: \n",
      "elif sequence[x] >= sequence[x + 1] or sequence[x] <= world_min or sequence[x] <= adjacent_min:\n",
      "sequence[x] is: 99, sequence[x + 1] is: 5\n",
      "adjacent_max is: 99, adjacent_min is: 4\n",
      "world_min is: 1\n",
      "adding count when x is: 4\n",
      "now the adjacent_max is: 99\n",
      " \n",
      "Starting iteration: 5!!!\n",
      "count is: 1\n"
     ]
    },
    {
     "data": {
      "text/plain": [
       "True"
      ]
     },
     "execution_count": 403,
     "metadata": {},
     "output_type": "execute_result"
    }
   ],
   "source": [
    "another_solution(sequence17)"
   ]
  },
  {
   "cell_type": "code",
   "execution_count": 404,
   "id": "40c217f5",
   "metadata": {},
   "outputs": [
    {
     "name": "stdout",
     "output_type": "stream",
     "text": [
      "[123, -17, -5, 1, 2, 3, 12, 43, 45]\n",
      "world_min value is: -17\n",
      " \n",
      "Starting iteration: 0!!!\n",
      " \n",
      "Starting iteration: 1!!!\n",
      "First elif statement executes!\n",
      "The rule that follows is: \n",
      "elif sequence[x] < sequence[x + 1] and sequence[x] >= adjacent_max:\n",
      "x is: 1, sequence[x] is: -17, sequence[x + 1] is: -5\n",
      "adjacent_max is: -17\n",
      "Second if statements executes! This is where updating adjacent values happens\n",
      "The rule that follows is: \n",
      "if sequence[x] >= adjacent_min and sequence[x + 1] > adjacent_max:\n",
      "sequence[x] is: -17, sequence[x + 1] is: -5\n",
      "adjacent_max is: -17, adjacent_min is: -17\n",
      "adjacent_max is now: -5\n",
      "adjacent_min is now: -17\n",
      " \n",
      "Starting iteration: 2!!!\n",
      "First elif statement executes!\n",
      "The rule that follows is: \n",
      "elif sequence[x] < sequence[x + 1] and sequence[x] >= adjacent_max:\n",
      "x is: 2, sequence[x] is: -5, sequence[x + 1] is: 1\n",
      "adjacent_max is: -5\n",
      "Second if statements executes! This is where updating adjacent values happens\n",
      "The rule that follows is: \n",
      "if sequence[x] >= adjacent_min and sequence[x + 1] > adjacent_max:\n",
      "sequence[x] is: -5, sequence[x + 1] is: 1\n",
      "adjacent_max is: -5, adjacent_min is: -17\n",
      "adjacent_max is now: 1\n",
      "adjacent_min is now: -5\n",
      " \n",
      "Starting iteration: 3!!!\n",
      "First elif statement executes!\n",
      "The rule that follows is: \n",
      "elif sequence[x] < sequence[x + 1] and sequence[x] >= adjacent_max:\n",
      "x is: 3, sequence[x] is: 1, sequence[x + 1] is: 2\n",
      "adjacent_max is: 1\n",
      "Second if statements executes! This is where updating adjacent values happens\n",
      "The rule that follows is: \n",
      "if sequence[x] >= adjacent_min and sequence[x + 1] > adjacent_max:\n",
      "sequence[x] is: 1, sequence[x + 1] is: 2\n",
      "adjacent_max is: 1, adjacent_min is: -5\n",
      "adjacent_max is now: 2\n",
      "adjacent_min is now: 1\n",
      " \n",
      "Starting iteration: 4!!!\n",
      "First elif statement executes!\n",
      "The rule that follows is: \n",
      "elif sequence[x] < sequence[x + 1] and sequence[x] >= adjacent_max:\n",
      "x is: 4, sequence[x] is: 2, sequence[x + 1] is: 3\n",
      "adjacent_max is: 2\n",
      "Second if statements executes! This is where updating adjacent values happens\n",
      "The rule that follows is: \n",
      "if sequence[x] >= adjacent_min and sequence[x + 1] > adjacent_max:\n",
      "sequence[x] is: 2, sequence[x + 1] is: 3\n",
      "adjacent_max is: 2, adjacent_min is: 1\n",
      "adjacent_max is now: 3\n",
      "adjacent_min is now: 2\n",
      " \n",
      "Starting iteration: 5!!!\n",
      "First elif statement executes!\n",
      "The rule that follows is: \n",
      "elif sequence[x] < sequence[x + 1] and sequence[x] >= adjacent_max:\n",
      "x is: 5, sequence[x] is: 3, sequence[x + 1] is: 12\n",
      "adjacent_max is: 3\n",
      "Second if statements executes! This is where updating adjacent values happens\n",
      "The rule that follows is: \n",
      "if sequence[x] >= adjacent_min and sequence[x + 1] > adjacent_max:\n",
      "sequence[x] is: 3, sequence[x + 1] is: 12\n",
      "adjacent_max is: 3, adjacent_min is: 2\n",
      "adjacent_max is now: 12\n",
      "adjacent_min is now: 3\n",
      " \n",
      "Starting iteration: 6!!!\n",
      "First elif statement executes!\n",
      "The rule that follows is: \n",
      "elif sequence[x] < sequence[x + 1] and sequence[x] >= adjacent_max:\n",
      "x is: 6, sequence[x] is: 12, sequence[x + 1] is: 43\n",
      "adjacent_max is: 12\n",
      "Second if statements executes! This is where updating adjacent values happens\n",
      "The rule that follows is: \n",
      "if sequence[x] >= adjacent_min and sequence[x + 1] > adjacent_max:\n",
      "sequence[x] is: 12, sequence[x + 1] is: 43\n",
      "adjacent_max is: 12, adjacent_min is: 3\n",
      "adjacent_max is now: 43\n",
      "adjacent_min is now: 12\n",
      " \n",
      "Starting iteration: 7!!!\n",
      "First elif statement executes!\n",
      "The rule that follows is: \n",
      "elif sequence[x] < sequence[x + 1] and sequence[x] >= adjacent_max:\n",
      "x is: 7, sequence[x] is: 43, sequence[x + 1] is: 45\n",
      "adjacent_max is: 43\n",
      "Second if statements executes! This is where updating adjacent values happens\n",
      "The rule that follows is: \n",
      "if sequence[x] >= adjacent_min and sequence[x + 1] > adjacent_max:\n",
      "sequence[x] is: 43, sequence[x + 1] is: 45\n",
      "adjacent_max is: 43, adjacent_min is: 12\n",
      "adjacent_max is now: 45\n",
      "adjacent_min is now: 43\n",
      "count is: 1\n"
     ]
    },
    {
     "data": {
      "text/plain": [
       "True"
      ]
     },
     "execution_count": 404,
     "metadata": {},
     "output_type": "execute_result"
    }
   ],
   "source": [
    "another_solution(sequence18)"
   ]
  },
  {
   "cell_type": "code",
   "execution_count": 405,
   "id": "7504af84",
   "metadata": {},
   "outputs": [
    {
     "name": "stdout",
     "output_type": "stream",
     "text": [
      "[3, 5, 67, 98, 3]\n",
      "world_min value is: 3\n",
      " \n",
      "Starting iteration: 0!!!\n",
      "First elif statement executes!\n",
      "The rule that follows is: \n",
      "elif sequence[x] < sequence[x + 1] and sequence[x] >= adjacent_max:\n",
      "x is: 0, sequence[x] is: 3, sequence[x + 1] is: 5\n",
      "adjacent_max is: 0\n",
      "Second if statements executes! This is where updating adjacent values happens\n",
      "The rule that follows is: \n",
      "if sequence[x] >= adjacent_min and sequence[x + 1] > adjacent_max:\n",
      "sequence[x] is: 3, sequence[x + 1] is: 5\n",
      "adjacent_max is: 0, adjacent_min is: 0\n",
      "adjacent_max is now: 5\n",
      "adjacent_min is now: 3\n",
      " \n",
      "Starting iteration: 1!!!\n",
      "First elif statement executes!\n",
      "The rule that follows is: \n",
      "elif sequence[x] < sequence[x + 1] and sequence[x] >= adjacent_max:\n",
      "x is: 1, sequence[x] is: 5, sequence[x + 1] is: 67\n",
      "adjacent_max is: 5\n",
      "Second if statements executes! This is where updating adjacent values happens\n",
      "The rule that follows is: \n",
      "if sequence[x] >= adjacent_min and sequence[x + 1] > adjacent_max:\n",
      "sequence[x] is: 5, sequence[x + 1] is: 67\n",
      "adjacent_max is: 5, adjacent_min is: 3\n",
      "adjacent_max is now: 67\n",
      "adjacent_min is now: 5\n",
      " \n",
      "Starting iteration: 2!!!\n",
      "First elif statement executes!\n",
      "The rule that follows is: \n",
      "elif sequence[x] < sequence[x + 1] and sequence[x] >= adjacent_max:\n",
      "x is: 2, sequence[x] is: 67, sequence[x + 1] is: 98\n",
      "adjacent_max is: 67\n",
      "Second if statements executes! This is where updating adjacent values happens\n",
      "The rule that follows is: \n",
      "if sequence[x] >= adjacent_min and sequence[x + 1] > adjacent_max:\n",
      "sequence[x] is: 67, sequence[x + 1] is: 98\n",
      "adjacent_max is: 67, adjacent_min is: 5\n",
      "adjacent_max is now: 98\n",
      "adjacent_min is now: 67\n",
      " \n",
      "Starting iteration: 3!!!\n",
      "Second elif statement executes!! This is where adding to count happens\n",
      "The rule that follows is: \n",
      "elif sequence[x] >= sequence[x + 1] or sequence[x] <= world_min or sequence[x] <= adjacent_min:\n",
      "sequence[x] is: 98, sequence[x + 1] is: 3\n",
      "adjacent_max is: 98, adjacent_min is: 67\n",
      "world_min is: 3\n",
      "adding count when x is: 3\n",
      "now the adjacent_max is: 98\n",
      "count is: 1\n"
     ]
    },
    {
     "data": {
      "text/plain": [
       "True"
      ]
     },
     "execution_count": 405,
     "metadata": {},
     "output_type": "execute_result"
    }
   ],
   "source": [
    "another_solution(sequence19)"
   ]
  },
  {
   "cell_type": "markdown",
   "id": "ad43753c",
   "metadata": {},
   "source": [
    "First enumerate the sequence\n",
    "\n",
    "then find the set of the sequence\n",
    "\n",
    "make sure the set is in the same order as the keys in the enumerated sequence\n",
    "\n",
    "once set is in the same order, as best as possible, as the original,\n",
    "\n",
    "subtract diff in length between original sequence and set sequence, add this diff to count\n",
    "\n",
    "then, sort the set list of sequence\n",
    "\n",
    "compare the sorted set list with the original set list, with the order checked with the enumerated keys\n",
    "\n",
    "if the sorted list is different in an index, add to count 1, then pop off, then continue"
   ]
  },
  {
   "cell_type": "code",
   "execution_count": null,
   "id": "374c9f1b",
   "metadata": {},
   "outputs": [],
   "source": []
  }
 ],
 "metadata": {
  "kernelspec": {
   "display_name": "Python 3 (ipykernel)",
   "language": "python",
   "name": "python3"
  },
  "language_info": {
   "codemirror_mode": {
    "name": "ipython",
    "version": 3
   },
   "file_extension": ".py",
   "mimetype": "text/x-python",
   "name": "python",
   "nbconvert_exporter": "python",
   "pygments_lexer": "ipython3",
   "version": "3.9.12"
  }
 },
 "nbformat": 4,
 "nbformat_minor": 5
}
