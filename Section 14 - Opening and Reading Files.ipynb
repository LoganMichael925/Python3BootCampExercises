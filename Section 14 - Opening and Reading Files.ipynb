{
 "cells": [
  {
   "cell_type": "code",
   "execution_count": 1,
   "id": "7c13d732",
   "metadata": {},
   "outputs": [
    {
     "data": {
      "text/plain": [
       "'/Users/loganmichael/PythonProjects/Python3BootCampExercises'"
      ]
     },
     "execution_count": 1,
     "metadata": {},
     "output_type": "execute_result"
    }
   ],
   "source": [
    "pwd"
   ]
  },
  {
   "cell_type": "code",
   "execution_count": 2,
   "id": "853ea3cf",
   "metadata": {},
   "outputs": [],
   "source": [
    "f = open('practice.txt', 'w+')\n",
    "f.write('This is a test string')\n",
    "f.close()"
   ]
  },
  {
   "cell_type": "markdown",
   "id": "0ab78e90",
   "metadata": {},
   "source": [
    "OS module"
   ]
  },
  {
   "cell_type": "code",
   "execution_count": 4,
   "id": "1b633dee",
   "metadata": {},
   "outputs": [],
   "source": [
    "import os"
   ]
  },
  {
   "cell_type": "markdown",
   "id": "c0213185",
   "metadata": {},
   "source": [
    "cwd = current working directory"
   ]
  },
  {
   "cell_type": "code",
   "execution_count": 6,
   "id": "776fd95b",
   "metadata": {},
   "outputs": [
    {
     "data": {
      "text/plain": [
       "'/Users/loganmichael/PythonProjects/Python3BootCampExercises'"
      ]
     },
     "execution_count": 6,
     "metadata": {},
     "output_type": "execute_result"
    }
   ],
   "source": [
    "os.getcwd()"
   ]
  },
  {
   "cell_type": "code",
   "execution_count": 7,
   "id": "a40bf91f",
   "metadata": {},
   "outputs": [
    {
     "data": {
      "text/plain": [
       "['Test Practice.ipynb',\n",
       " 'Section 3 - Tuples.ipynb',\n",
       " 'Section 6 - Lambda expressions, Map and Filter.ipynb',\n",
       " 'Section 3 - Python Numbers Basic Arithmetic.ipynb',\n",
       " 'Section 14 - Collections Module.ipynb',\n",
       " 'Section 5 - For Loops.ipynb',\n",
       " 'Section 8 - Special Functions - Magic, Dunder.ipynb',\n",
       " 'Section 5 - 07-Statements Assessment Test.ipynb',\n",
       " 'Section 11 - 02-Milestone Project 2 - Walkthrough Steps Workbook.ipynb',\n",
       " '.DS_Store',\n",
       " 'Section 6 - args and kwargs.ipynb',\n",
       " 'Section 3 - Input and Output file management.ipynb',\n",
       " 'Section 8 - Inheritance and Polymorphism.ipynb',\n",
       " 'Section 11 - Card classes.ipynb',\n",
       " 'Section 4 - Comparison Operators.ipynb',\n",
       " 'Section 3 - Boolean.ipynb',\n",
       " 'Section 14 - Opening and Reading Files.ipynb',\n",
       " 'Time Conversion - HackerRank Problem.ipynb',\n",
       " 'Section 5 - List Comprehension.ipynb',\n",
       " 'Section 7 - Displaying Information, Accepting and Validating Input.ipynb',\n",
       " 'randomsamplefile.txt',\n",
       " 'Section 10 - 02-Errors and Exceptions Homework.ipynb',\n",
       " 'Section 8 - Object Oriented Programming.ipynb',\n",
       " 'practice.txt',\n",
       " 'my_new_file.txt',\n",
       " 'Section 5 - Useful Operators.ipynb',\n",
       " 'Section 3 - Variable Assignments.ipynb',\n",
       " 'Section 13 - Python Generators.ipynb',\n",
       " 'Section 6 - Interactions between python functions.ipynb',\n",
       " 'Section 10 - Error and Exception Handling.ipynb',\n",
       " 'Section 8 - 02-Object Oriented Programming Homework.ipynb',\n",
       " 'README.md',\n",
       " 'Section 6 - Nested Statements and Scope.ipynb',\n",
       " 'Section 6 - 08-Functions and Methods Homework.ipynb',\n",
       " 'Section 7 - 02-Milestone Project 1 - Walkthrough Steps Workbook.ipynb',\n",
       " 'Section 6 - Methods and Functions Intro.ipynb',\n",
       " 'Section 3 - Strings.ipynb',\n",
       " 'myfile.txt',\n",
       " '.ipynb_checkpoints',\n",
       " '09-Objects and Data Structures Assessment Test.ipynb',\n",
       " 'Section 3 - Dictionaries.ipynb',\n",
       " 'Test Practice 2.ipynb',\n",
       " 'Section 7 - 01-Milestone Project 1 - Assignment.ipynb',\n",
       " 'Section 5 - if, elif (Else If), and else.ipynb',\n",
       " 'Section 12 - Python Decorators.ipynb',\n",
       " 'Section 8 - 04-OOP Challenge.ipynb',\n",
       " '.git',\n",
       " 'Section 13 - 02-Iterators and Generators Homework.ipynb',\n",
       " 'Section 5 - While Loops.ipynb',\n",
       " 'Section 6 - 03-Function Practice Exercises.ipynb',\n",
       " 'testfile',\n",
       " 'Section 3 - Lists.ipynb',\n",
       " 'Section 3 - Sets.ipynb',\n",
       " 'Section 6 - Tuple unpacking with functions.ipynb']"
      ]
     },
     "execution_count": 7,
     "metadata": {},
     "output_type": "execute_result"
    }
   ],
   "source": [
    "os.listdir()"
   ]
  },
  {
   "cell_type": "code",
   "execution_count": 10,
   "id": "96ee2a2c",
   "metadata": {},
   "outputs": [
    {
     "data": {
      "text/plain": [
       "['.localized', 'loganmichael', 'Shared']"
      ]
     },
     "execution_count": 10,
     "metadata": {},
     "output_type": "execute_result"
    }
   ],
   "source": [
    "os.listdir('/Users/')"
   ]
  },
  {
   "cell_type": "code",
   "execution_count": 11,
   "id": "c828468a",
   "metadata": {},
   "outputs": [],
   "source": [
    "import shutil"
   ]
  },
  {
   "cell_type": "code",
   "execution_count": 12,
   "id": "86525c84",
   "metadata": {},
   "outputs": [
    {
     "data": {
      "text/plain": [
       "'/Users/loganmichael/practice.txt'"
      ]
     },
     "execution_count": 12,
     "metadata": {},
     "output_type": "execute_result"
    }
   ],
   "source": [
    "shutil.move('practice.txt', '/Users/loganmichael/')"
   ]
  },
  {
   "cell_type": "code",
   "execution_count": 13,
   "id": "8aef44d3",
   "metadata": {},
   "outputs": [
    {
     "data": {
      "text/plain": [
       "['.Rhistory',\n",
       " '.eclipse',\n",
       " '.config',\n",
       " 'Music',\n",
       " 'repos',\n",
       " '.condarc',\n",
       " '.DS_Store',\n",
       " 'eclipse',\n",
       " '.CFUserTextEncoding',\n",
       " 'test',\n",
       " '.xonshrc',\n",
       " 'PythonProjects',\n",
       " '.zshrc',\n",
       " '.local',\n",
       " 'ES 381',\n",
       " 'Pictures',\n",
       " '.pylint.d',\n",
       " 'practice.txt',\n",
       " '.zsh_history',\n",
       " '.p2',\n",
       " '.ipython',\n",
       " 'Desktop',\n",
       " 'Library',\n",
       " 'eclipse-workspace',\n",
       " '.emulator_console_auth_token',\n",
       " '.node_repl_history',\n",
       " '.android',\n",
       " '.gitignore_global',\n",
       " 'Public',\n",
       " '.zshenv',\n",
       " '.tcshrc',\n",
       " '.anaconda',\n",
       " '.ssh',\n",
       " 'Movies',\n",
       " 'Applications',\n",
       " '.gradle',\n",
       " 'opt',\n",
       " '.Trash',\n",
       " '.ipynb_checkpoints',\n",
       " '.jupyter',\n",
       " '.npm',\n",
       " 'Documents',\n",
       " '.vscode',\n",
       " '.bash_profile',\n",
       " 'AndroidStudioProjects',\n",
       " 'Downloads',\n",
       " '.python_history',\n",
       " '.continuum',\n",
       " '.cache',\n",
       " '.gitconfig',\n",
       " '.bash_history',\n",
       " '.zsh_sessions',\n",
       " '.conda']"
      ]
     },
     "execution_count": 13,
     "metadata": {},
     "output_type": "execute_result"
    }
   ],
   "source": [
    "os.listdir('/Users/loganmichael/')"
   ]
  },
  {
   "cell_type": "code",
   "execution_count": 14,
   "id": "a3cef480",
   "metadata": {},
   "outputs": [],
   "source": [
    "import send2trash"
   ]
  },
  {
   "cell_type": "code",
   "execution_count": 15,
   "id": "9ce6f49e",
   "metadata": {},
   "outputs": [
    {
     "data": {
      "text/plain": [
       "'/Users/loganmichael/PythonProjects/Python3BootCampExercises/practice.txt'"
      ]
     },
     "execution_count": 15,
     "metadata": {},
     "output_type": "execute_result"
    }
   ],
   "source": [
    "shutil.move('/Users/loganmichael/practice.txt', os.getcwd())"
   ]
  },
  {
   "cell_type": "code",
   "execution_count": 16,
   "id": "4457c840",
   "metadata": {},
   "outputs": [
    {
     "data": {
      "text/plain": [
       "['Test Practice.ipynb',\n",
       " 'Section 3 - Tuples.ipynb',\n",
       " 'Section 6 - Lambda expressions, Map and Filter.ipynb',\n",
       " 'Section 3 - Python Numbers Basic Arithmetic.ipynb',\n",
       " 'Section 14 - Collections Module.ipynb',\n",
       " 'Section 5 - For Loops.ipynb',\n",
       " 'Section 8 - Special Functions - Magic, Dunder.ipynb',\n",
       " 'Section 5 - 07-Statements Assessment Test.ipynb',\n",
       " 'Section 11 - 02-Milestone Project 2 - Walkthrough Steps Workbook.ipynb',\n",
       " '.DS_Store',\n",
       " 'Section 6 - args and kwargs.ipynb',\n",
       " 'Section 3 - Input and Output file management.ipynb',\n",
       " 'Section 8 - Inheritance and Polymorphism.ipynb',\n",
       " 'Section 11 - Card classes.ipynb',\n",
       " 'Section 4 - Comparison Operators.ipynb',\n",
       " 'Section 3 - Boolean.ipynb',\n",
       " 'Section 14 - Opening and Reading Files.ipynb',\n",
       " 'Time Conversion - HackerRank Problem.ipynb',\n",
       " 'Section 5 - List Comprehension.ipynb',\n",
       " 'Section 7 - Displaying Information, Accepting and Validating Input.ipynb',\n",
       " 'randomsamplefile.txt',\n",
       " 'Section 10 - 02-Errors and Exceptions Homework.ipynb',\n",
       " 'Section 8 - Object Oriented Programming.ipynb',\n",
       " 'practice.txt',\n",
       " 'my_new_file.txt',\n",
       " 'Section 5 - Useful Operators.ipynb',\n",
       " 'Section 3 - Variable Assignments.ipynb',\n",
       " 'Section 13 - Python Generators.ipynb',\n",
       " 'Section 6 - Interactions between python functions.ipynb',\n",
       " 'Section 10 - Error and Exception Handling.ipynb',\n",
       " 'Section 8 - 02-Object Oriented Programming Homework.ipynb',\n",
       " 'README.md',\n",
       " 'Section 6 - Nested Statements and Scope.ipynb',\n",
       " 'Section 6 - 08-Functions and Methods Homework.ipynb',\n",
       " 'Section 7 - 02-Milestone Project 1 - Walkthrough Steps Workbook.ipynb',\n",
       " 'Section 6 - Methods and Functions Intro.ipynb',\n",
       " 'Section 3 - Strings.ipynb',\n",
       " 'myfile.txt',\n",
       " '.ipynb_checkpoints',\n",
       " '09-Objects and Data Structures Assessment Test.ipynb',\n",
       " 'Section 3 - Dictionaries.ipynb',\n",
       " 'Test Practice 2.ipynb',\n",
       " 'Section 7 - 01-Milestone Project 1 - Assignment.ipynb',\n",
       " 'Section 5 - if, elif (Else If), and else.ipynb',\n",
       " 'Section 12 - Python Decorators.ipynb',\n",
       " 'Section 8 - 04-OOP Challenge.ipynb',\n",
       " '.git',\n",
       " 'Section 13 - 02-Iterators and Generators Homework.ipynb',\n",
       " 'Section 5 - While Loops.ipynb',\n",
       " 'Section 6 - 03-Function Practice Exercises.ipynb',\n",
       " 'testfile',\n",
       " 'Section 3 - Lists.ipynb',\n",
       " 'Section 3 - Sets.ipynb',\n",
       " 'Section 6 - Tuple unpacking with functions.ipynb']"
      ]
     },
     "execution_count": 16,
     "metadata": {},
     "output_type": "execute_result"
    }
   ],
   "source": [
    "os.listdir()"
   ]
  },
  {
   "cell_type": "code",
   "execution_count": 17,
   "id": "8d6eaeac",
   "metadata": {},
   "outputs": [],
   "source": [
    "send2trash.send2trash('practice.txt')"
   ]
  },
  {
   "cell_type": "code",
   "execution_count": 18,
   "id": "2ac15b17",
   "metadata": {},
   "outputs": [
    {
     "data": {
      "text/plain": [
       "['Test Practice.ipynb',\n",
       " 'Section 3 - Tuples.ipynb',\n",
       " 'Section 6 - Lambda expressions, Map and Filter.ipynb',\n",
       " 'Section 3 - Python Numbers Basic Arithmetic.ipynb',\n",
       " 'Section 14 - Collections Module.ipynb',\n",
       " 'Section 5 - For Loops.ipynb',\n",
       " 'Section 8 - Special Functions - Magic, Dunder.ipynb',\n",
       " 'Section 5 - 07-Statements Assessment Test.ipynb',\n",
       " 'Section 11 - 02-Milestone Project 2 - Walkthrough Steps Workbook.ipynb',\n",
       " '.DS_Store',\n",
       " 'Section 6 - args and kwargs.ipynb',\n",
       " 'Section 3 - Input and Output file management.ipynb',\n",
       " 'Section 8 - Inheritance and Polymorphism.ipynb',\n",
       " 'Section 11 - Card classes.ipynb',\n",
       " 'Section 4 - Comparison Operators.ipynb',\n",
       " 'Section 3 - Boolean.ipynb',\n",
       " 'Section 14 - Opening and Reading Files.ipynb',\n",
       " 'Time Conversion - HackerRank Problem.ipynb',\n",
       " 'Section 5 - List Comprehension.ipynb',\n",
       " 'Section 7 - Displaying Information, Accepting and Validating Input.ipynb',\n",
       " 'randomsamplefile.txt',\n",
       " 'Section 10 - 02-Errors and Exceptions Homework.ipynb',\n",
       " 'Section 8 - Object Oriented Programming.ipynb',\n",
       " 'my_new_file.txt',\n",
       " 'Section 5 - Useful Operators.ipynb',\n",
       " 'Section 3 - Variable Assignments.ipynb',\n",
       " 'Section 13 - Python Generators.ipynb',\n",
       " 'Section 6 - Interactions between python functions.ipynb',\n",
       " 'Section 10 - Error and Exception Handling.ipynb',\n",
       " 'Section 8 - 02-Object Oriented Programming Homework.ipynb',\n",
       " 'README.md',\n",
       " 'Section 6 - Nested Statements and Scope.ipynb',\n",
       " 'Section 6 - 08-Functions and Methods Homework.ipynb',\n",
       " 'Section 7 - 02-Milestone Project 1 - Walkthrough Steps Workbook.ipynb',\n",
       " 'Section 6 - Methods and Functions Intro.ipynb',\n",
       " 'Section 3 - Strings.ipynb',\n",
       " 'myfile.txt',\n",
       " '.ipynb_checkpoints',\n",
       " '09-Objects and Data Structures Assessment Test.ipynb',\n",
       " 'Section 3 - Dictionaries.ipynb',\n",
       " 'Test Practice 2.ipynb',\n",
       " 'Section 7 - 01-Milestone Project 1 - Assignment.ipynb',\n",
       " 'Section 5 - if, elif (Else If), and else.ipynb',\n",
       " 'Section 12 - Python Decorators.ipynb',\n",
       " 'Section 8 - 04-OOP Challenge.ipynb',\n",
       " '.git',\n",
       " 'Section 13 - 02-Iterators and Generators Homework.ipynb',\n",
       " 'Section 5 - While Loops.ipynb',\n",
       " 'Section 6 - 03-Function Practice Exercises.ipynb',\n",
       " 'testfile',\n",
       " 'Section 3 - Lists.ipynb',\n",
       " 'Section 3 - Sets.ipynb',\n",
       " 'Section 6 - Tuple unpacking with functions.ipynb']"
      ]
     },
     "execution_count": 18,
     "metadata": {},
     "output_type": "execute_result"
    }
   ],
   "source": [
    "os.listdir()"
   ]
  },
  {
   "cell_type": "code",
   "execution_count": 19,
   "id": "3c8eb1cb",
   "metadata": {},
   "outputs": [
    {
     "data": {
      "text/plain": [
       "'/Users/loganmichael/PythonProjects/Python3BootCampExercises'"
      ]
     },
     "execution_count": 19,
     "metadata": {},
     "output_type": "execute_result"
    }
   ],
   "source": [
    "os.getcwd()"
   ]
  },
  {
   "cell_type": "code",
   "execution_count": 20,
   "id": "f419fb45",
   "metadata": {},
   "outputs": [],
   "source": [
    "file_path = '/Users/loganmichael/PythonProjects/Python3BootCampExercises/Example_Top_Level'"
   ]
  },
  {
   "cell_type": "code",
   "execution_count": 24,
   "id": "ab068bbb",
   "metadata": {},
   "outputs": [
    {
     "name": "stdout",
     "output_type": "stream",
     "text": [
      "Currently looking at /Users/loganmichael/PythonProjects/Python3BootCampExercises/Example_Top_Level\n",
      "\n",
      "\n",
      "The subfolders are: \n",
      "\t Subfolder: Mid-Example-One\n",
      "\n",
      "\n",
      "the files are: \n",
      "\t File: Mid-Example.txt\n",
      "\n",
      "\n",
      "Currently looking at /Users/loganmichael/PythonProjects/Python3BootCampExercises/Example_Top_Level/Mid-Example-One\n",
      "\n",
      "\n",
      "The subfolders are: \n",
      "\t Subfolder: Bottom-Level-Two\n",
      "\t Subfolder: Bottom-Level-One\n",
      "\n",
      "\n",
      "the files are: \n",
      "\t File: Mid-Level-Doc.txt\n",
      "\n",
      "\n",
      "Currently looking at /Users/loganmichael/PythonProjects/Python3BootCampExercises/Example_Top_Level/Mid-Example-One/Bottom-Level-Two\n",
      "\n",
      "\n",
      "The subfolders are: \n",
      "\n",
      "\n",
      "the files are: \n",
      "\t File: Bottom-Text-Two.txt\n",
      "\n",
      "\n",
      "Currently looking at /Users/loganmichael/PythonProjects/Python3BootCampExercises/Example_Top_Level/Mid-Example-One/Bottom-Level-One\n",
      "\n",
      "\n",
      "The subfolders are: \n",
      "\n",
      "\n",
      "the files are: \n",
      "\t File: One_Text.txt\n",
      "\n",
      "\n"
     ]
    }
   ],
   "source": [
    "for folder, sub_folders, files in os.walk(file_path):\n",
    "    \n",
    "    print(f\"Currently looking at {folder}\")\n",
    "    print('\\n')\n",
    "    print(\"The subfolders are: \")\n",
    "    for sub_fold in sub_folders:\n",
    "        print(f\"\\t Subfolder: {sub_fold}\")\n",
    "                \n",
    "    print('\\n')\n",
    "    print(\"the files are: \")\n",
    "    for f in files:\n",
    "        print(f\"\\t File: {f}\")\n",
    "    print('\\n')\n",
    "        "
   ]
  },
  {
   "cell_type": "code",
   "execution_count": null,
   "id": "784466c4",
   "metadata": {},
   "outputs": [],
   "source": []
  }
 ],
 "metadata": {
  "kernelspec": {
   "display_name": "Python 3 (ipykernel)",
   "language": "python",
   "name": "python3"
  },
  "language_info": {
   "codemirror_mode": {
    "name": "ipython",
    "version": 3
   },
   "file_extension": ".py",
   "mimetype": "text/x-python",
   "name": "python",
   "nbconvert_exporter": "python",
   "pygments_lexer": "ipython3",
   "version": "3.9.12"
  }
 },
 "nbformat": 4,
 "nbformat_minor": 5
}
