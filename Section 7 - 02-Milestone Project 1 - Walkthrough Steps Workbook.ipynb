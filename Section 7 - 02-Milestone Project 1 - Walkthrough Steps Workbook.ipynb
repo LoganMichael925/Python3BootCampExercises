{
 "cells": [
  {
   "cell_type": "markdown",
   "metadata": {},
   "source": [
    "___\n",
    "\n",
    "<a href='https://www.udemy.com/user/joseportilla/'><img src='../Pierian_Data_Logo.png'/></a>\n",
    "___\n",
    "<center><em>Content Copyright by Pierian Data</em></center>"
   ]
  },
  {
   "cell_type": "markdown",
   "metadata": {},
   "source": [
    "# Milestone Project 1: Walkthrough Steps Workbook\n",
    "\n",
    "Below is a set of steps for you to follow to try to create the Tic Tac Toe Milestone Project game!"
   ]
  },
  {
   "cell_type": "markdown",
   "metadata": {},
   "source": [
    "#### Some suggested tools before you get started:\n",
    "To take input from a user:\n",
    "\n",
    "    player1 = input(\"Please pick a marker 'X' or 'O'\")\n",
    "    \n",
    "Note that input() takes in a string. If you need an integer value, use\n",
    "\n",
    "    position = int(input('Please enter a number'))\n",
    "    \n",
    "<br>To clear the screen between moves:\n",
    "\n",
    "    from IPython.display import clear_output\n",
    "    clear_output()\n",
    "    \n",
    "Note that clear_output() will only work in jupyter. To clear the screen in other IDEs, consider:\n",
    "\n",
    "    print('\\n'*100)\n",
    "    \n",
    "This scrolls the previous board up out of view. Now on to the program!"
   ]
  },
  {
   "cell_type": "markdown",
   "metadata": {},
   "source": [
    "**Step 1: Write a function that can print out a board. Set up your board as a list, where each index 1-9 corresponds with a number on a number pad, so you get a 3 by 3 board representation.**"
   ]
  },
  {
   "cell_type": "code",
   "execution_count": 61,
   "metadata": {},
   "outputs": [],
   "source": [
    "from IPython.display import clear_output\n",
    "\n",
    "def display_board(board):\n",
    "    \n",
    "    clear_output()\n",
    "    #print(\"Tic Tac Toe board: \")\n",
    "    print(board[7]+'|'+board[8]+'|'+board[9])\n",
    "    print(board[4]+'|'+board[5]+'|'+board[6])\n",
    "    print(board[1]+'|'+board[2]+'|'+board[3])\n",
    "        "
   ]
  },
  {
   "cell_type": "markdown",
   "metadata": {},
   "source": [
    "**TEST Step 1:** run your function on a test version of the board list, and make adjustments as necessary"
   ]
  },
  {
   "cell_type": "code",
   "execution_count": 62,
   "metadata": {},
   "outputs": [
    {
     "name": "stdout",
     "output_type": "stream",
     "text": [
      "X|O|X\n",
      "O|X|O\n",
      "X|O|X\n"
     ]
    }
   ],
   "source": [
    "test_board = ['#','X','O','X','O','X','O','X','O','X']\n",
    "display_board(test_board)"
   ]
  },
  {
   "cell_type": "markdown",
   "metadata": {},
   "source": [
    "**Step 2: Write a function that can take in a player input and assign their marker as 'X' or 'O'. Think about using *while* loops to continually ask until you get a correct answer.**"
   ]
  },
  {
   "cell_type": "code",
   "execution_count": 63,
   "metadata": {},
   "outputs": [],
   "source": [
    "def player_input():\n",
    "    \n",
    "    \"\"\"\n",
    "    OUTPUT IN FORM OF TUPLE\n",
    "    OUTPUT = (Player 1 marker, player 2 marker)\n",
    "    \n",
    "    \"\"\"\n",
    "    \n",
    "    \n",
    "    player_marker = ''\n",
    "    \n",
    "    while player_marker not in ['X', 'O']:\n",
    "    #while not (marker == 'X' or marker == 'O'):\n",
    "        \n",
    "        player_marker = input('Player 1, please enter a marker: X or O').upper()\n",
    "        #player_marker = input('Player1: Choose X or O:)\n",
    "        \n",
    "        if player_marker not in ['X', 'O']:\n",
    "            print(\"Sorry, invalid command, pick X or O\")\n",
    "    \n",
    "    if player_marker == 'X':\n",
    "        #return 'X'\n",
    "        return ('X', 'O')\n",
    "    else:\n",
    "        #return 'O'\n",
    "        return ('O', 'X')\n",
    "    "
   ]
  },
  {
   "cell_type": "markdown",
   "metadata": {},
   "source": [
    "**TEST Step 2:** run the function to make sure it returns the desired output"
   ]
  },
  {
   "cell_type": "code",
   "execution_count": 64,
   "metadata": {},
   "outputs": [
    {
     "name": "stdout",
     "output_type": "stream",
     "text": [
      "Player 1, please enter a marker: X or O\n",
      "Sorry, invalid command, pick X or O\n",
      "Player 1, please enter a marker: X or OX\n"
     ]
    },
    {
     "data": {
      "text/plain": [
       "('X', 'O')"
      ]
     },
     "execution_count": 64,
     "metadata": {},
     "output_type": "execute_result"
    }
   ],
   "source": [
    "player_input()"
   ]
  },
  {
   "cell_type": "markdown",
   "metadata": {},
   "source": [
    "**Step 3: Write a function that takes in the board list object, a marker ('X' or 'O'), and a desired position (number 1-9) and assigns it to the board.**"
   ]
  },
  {
   "cell_type": "code",
   "execution_count": 65,
   "metadata": {},
   "outputs": [],
   "source": [
    "def place_marker(board, marker, position):\n",
    "    board[position] = marker"
   ]
  },
  {
   "cell_type": "markdown",
   "metadata": {},
   "source": [
    "**TEST Step 3:** run the place marker function using test parameters and display the modified board"
   ]
  },
  {
   "cell_type": "code",
   "execution_count": 66,
   "metadata": {},
   "outputs": [
    {
     "name": "stdout",
     "output_type": "stream",
     "text": [
      "X|$|X\n",
      "O|X|O\n",
      "X|O|X\n"
     ]
    }
   ],
   "source": [
    "place_marker(test_board,'$',8)\n",
    "display_board(test_board)"
   ]
  },
  {
   "cell_type": "markdown",
   "metadata": {},
   "source": [
    "**Step 4: Write a function that takes in a board and a mark (X or O) and then checks to see if that mark has won. **"
   ]
  },
  {
   "cell_type": "code",
   "execution_count": 67,
   "metadata": {},
   "outputs": [],
   "source": [
    "def win_check(board, mark):\n",
    "    if mark in board[1] and mark in board[2] and mark in board[3]:\n",
    "        #print(f\"{mark} wins!!\")\n",
    "        return True\n",
    "    elif mark == board[4] == board[5] == board[6]:\n",
    "        #print(f\"{mark} wins!!\")\n",
    "        return True\n",
    "    elif mark in board[7] and mark in board[8] and mark in board[9]:\n",
    "        #print(f\"{mark} wins!!\")\n",
    "        return True\n",
    "    elif mark in board[1] and mark in board[4] and mark in board[7]:\n",
    "        #print(f\"{mark} wins!!\")\n",
    "        return True\n",
    "    elif mark in board[2] and mark in board[5] and mark in board[8]:\n",
    "        #print(f\"{mark} wins!!\")\n",
    "        return True\n",
    "    elif mark in board[3] and mark in board[6] and mark in board[9]:\n",
    "        #print(f\"{mark} wins!!\")\n",
    "        return True\n",
    "    elif mark in board[1] and mark in board[5] and mark in board[9]:\n",
    "        #print(f\"{mark} wins!!\")\n",
    "        return True\n",
    "    elif mark in board[3] and mark in board[5] and mark in board[7]:\n",
    "        #print(f\"{mark} wins!!\")\n",
    "        return True\n",
    "    else:\n",
    "        return False\n",
    "    "
   ]
  },
  {
   "cell_type": "markdown",
   "metadata": {},
   "source": [
    "**TEST Step 4:** run the win_check function against our test_board - it should return True"
   ]
  },
  {
   "cell_type": "code",
   "execution_count": 68,
   "metadata": {},
   "outputs": [
    {
     "data": {
      "text/plain": [
       "True"
      ]
     },
     "execution_count": 68,
     "metadata": {},
     "output_type": "execute_result"
    }
   ],
   "source": [
    "win_check(test_board,'X')"
   ]
  },
  {
   "cell_type": "markdown",
   "metadata": {},
   "source": [
    "**Step 5: Write a function that uses the random module to randomly decide which player goes first. You may want to lookup random.randint() Return a string of which player went first.**"
   ]
  },
  {
   "cell_type": "code",
   "execution_count": 69,
   "metadata": {},
   "outputs": [],
   "source": [
    "import random\n",
    "\n",
    "def choose_first():\n",
    "    \n",
    "    random_choice = (random.randint(0,1))\n",
    "    \n",
    "    if random_choice == 0:\n",
    "        return \"Player 1\"\n",
    "    else:\n",
    "        return \"Player 2\""
   ]
  },
  {
   "cell_type": "markdown",
   "metadata": {},
   "source": [
    "**Step 6: Write a function that returns a boolean indicating whether a space on the board is freely available.**"
   ]
  },
  {
   "cell_type": "code",
   "execution_count": 70,
   "metadata": {},
   "outputs": [],
   "source": [
    "def space_check(board, position):\n",
    "    if board[position] == ' ':\n",
    "        return True\n",
    "    else:\n",
    "        return False"
   ]
  },
  {
   "cell_type": "markdown",
   "metadata": {},
   "source": [
    "**Step 7: Write a function that checks if the board is full and returns a boolean value. True if full, False otherwise.**"
   ]
  },
  {
   "cell_type": "code",
   "execution_count": 71,
   "metadata": {},
   "outputs": [],
   "source": [
    "def full_board_check(board):\n",
    "    if ' ' not in board:\n",
    "        return True\n",
    "    else:\n",
    "        return False"
   ]
  },
  {
   "cell_type": "markdown",
   "metadata": {},
   "source": [
    "**Step 8: Write a function that asks for a player's next position (as a number 1-9) and then uses the function from step 6 to check if it's a free position. If it is, then return the position for later use.**"
   ]
  },
  {
   "cell_type": "code",
   "execution_count": 72,
   "metadata": {},
   "outputs": [],
   "source": [
    "def player_choice(board):\n",
    "    \n",
    "    position = 0\n",
    "    \n",
    "    while position not in range(1,10) or not space_check(board, position):\n",
    "        position = int(input(\"Please enter a position (1-9)\"))\n",
    "    \n",
    "    return position\n",
    "    \n",
    "    #player_position = 'wrong'\n",
    "    \n",
    "    #while player_position not in range(1,10):\n",
    "        \n",
    "    #    player_position = int(input(\"Please enter a position (1-9)\"))\n",
    "    \n",
    "    #    if player_position not in range(1,10):\n",
    "    #        print(\"Invalid entry, please enter a number 1-9\")\n",
    "            \n",
    "    #    else:\n",
    "    #        while space_check == False:\n",
    "                \n",
    "    #            if space_check(board, player_position):\n",
    "                \n",
    "    #                return player_position\n",
    "    #            else:\n",
    "    #                print(\"Please pick an empty position\")"
   ]
  },
  {
   "cell_type": "markdown",
   "metadata": {},
   "source": [
    "**Step 9: Write a function that asks the player if they want to play again and returns a boolean True if they do want to play again.**"
   ]
  },
  {
   "cell_type": "code",
   "execution_count": 73,
   "metadata": {},
   "outputs": [],
   "source": [
    "def replay():\n",
    "    player_answer = 'wrong'\n",
    "    \n",
    "    while player_answer not in ['Y', 'N']:\n",
    "        \n",
    "        player_answer = input(\"Do you want to play again? Y or N\")\n",
    "    \n",
    "        if player_answer not in ['Y', 'N']:\n",
    "            print(\"Invalid entry, please enter Y or N\")\n",
    "    \n",
    "    if player_answer == 'Y':\n",
    "        return True\n",
    "    else:\n",
    "        return False"
   ]
  },
  {
   "cell_type": "markdown",
   "metadata": {
    "collapsed": true
   },
   "source": [
    "**Step 10: Here comes the hard part! Use while loops and the functions you've made to run the game!**"
   ]
  },
  {
   "cell_type": "code",
   "execution_count": 76,
   "metadata": {},
   "outputs": [
    {
     "name": "stdout",
     "output_type": "stream",
     "text": [
      "X| | \n",
      "X|O| \n",
      "X|O|O\n",
      "Player 1 has won!\n",
      "Do you want to play again? Y or NN\n"
     ]
    }
   ],
   "source": [
    "print('Welcome to Tic Tac Toe!')\n",
    "\n",
    "while True:    \n",
    "    \n",
    "    the_board = ['#',' ',' ',' ',' ',' ',' ',' ',' ',' ']\n",
    "\n",
    "    #display the board\n",
    "    display_board(the_board)\n",
    "    \n",
    "    #tuple unpacking\n",
    "    player1_marker, player2_marker = player_input()\n",
    "    \n",
    "    print(f\"Player 1 is: {player1_marker}\")\n",
    "\n",
    "    print(f\"Player 2 is: {player2_marker}\")\n",
    "    \n",
    "    #choose who goes first\n",
    "    turn = choose_first()\n",
    "    print(f\"{turn} goes first\")\n",
    "          \n",
    "    play_the_game = input(\"Ready to play? Y or N\").upper()\n",
    "    if play_the_game == 'Y':\n",
    "    \n",
    "        game_on = True\n",
    "    else:\n",
    "        game_on = False\n",
    "          \n",
    "          \n",
    "    while game_on == True:\n",
    "        if turn == 'Player 1':\n",
    "          \n",
    "            #show the board\n",
    "            display_board(the_board)\n",
    "          \n",
    "            #choose a position\n",
    "            position = player_choice(the_board)\n",
    "          \n",
    "            #place marker on the position\n",
    "            place_marker(the_board, player1_marker, position)\n",
    "          \n",
    "            #check if they won\n",
    "            if win_check(the_board, player1_marker):\n",
    "                display_board(the_board)\n",
    "                print(\"Player 1 has won!\")\n",
    "                game_on = False\n",
    "            else:\n",
    "                if full_board_check(the_board):\n",
    "                    display_board(the_board)\n",
    "                    print(\"The game is a tie\")\n",
    "                    game_on = False\n",
    "                else:\n",
    "                    turn = 'Player 2'\n",
    "              \n",
    "          \n",
    "        else:\n",
    "            #show the board\n",
    "            display_board(the_board)\n",
    "          \n",
    "            #choose a position\n",
    "            position = player_choice(the_board)\n",
    "          \n",
    "            #place marker on the position\n",
    "            place_marker(the_board, player2_marker, position)\n",
    "          \n",
    "            #check if they won\n",
    "            if win_check(the_board, player2_marker):\n",
    "                display_board(the_board)\n",
    "                print(\"Player 2 has won!\")\n",
    "                game_on = False\n",
    "            else:\n",
    "                if full_board_check(the_board):\n",
    "                    display_board(the_board)\n",
    "                    print(\"The game is a tie\")\n",
    "                    game_on = False\n",
    "                else:\n",
    "                    turn = 'Player 1'\n",
    "                        \n",
    "          \n",
    "    \n",
    "    \n",
    "      \n",
    "\n",
    "      \n",
    "      \n",
    "    \n",
    "\n",
    "    \n",
    "    #asks user to continue or end the game\n",
    "    play_the_game = replay()\n",
    "    if play_the_game == False:\n",
    "        break\n",
    "    \n",
    "#while True:\n",
    "    # Set the game up here\n",
    "    #pass\n",
    "\n",
    "    #while game_on:\n",
    "        #Player 1 Turn\n",
    "        \n",
    "        \n",
    "        # Player2's turn.\n",
    "            \n",
    "            #pass\n",
    "\n",
    "    #if not replay():\n",
    "        #break"
   ]
  },
  {
   "cell_type": "markdown",
   "metadata": {
    "collapsed": true
   },
   "source": [
    "## Good Job!"
   ]
  },
  {
   "cell_type": "code",
   "execution_count": null,
   "metadata": {},
   "outputs": [],
   "source": []
  }
 ],
 "metadata": {
  "kernelspec": {
   "display_name": "Python 3 (ipykernel)",
   "language": "python",
   "name": "python3"
  },
  "language_info": {
   "codemirror_mode": {
    "name": "ipython",
    "version": 3
   },
   "file_extension": ".py",
   "mimetype": "text/x-python",
   "name": "python",
   "nbconvert_exporter": "python",
   "pygments_lexer": "ipython3",
   "version": "3.9.12"
  }
 },
 "nbformat": 4,
 "nbformat_minor": 1
}
