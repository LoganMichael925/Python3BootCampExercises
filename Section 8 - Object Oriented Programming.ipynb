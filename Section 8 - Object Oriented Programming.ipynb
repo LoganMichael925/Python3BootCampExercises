{
 "cells": [
  {
   "cell_type": "code",
   "execution_count": 42,
   "id": "e5f6680c",
   "metadata": {},
   "outputs": [],
   "source": [
    "mylist = [1,2,3]"
   ]
  },
  {
   "cell_type": "code",
   "execution_count": 46,
   "id": "94c9cada",
   "metadata": {},
   "outputs": [],
   "source": [
    "mylist.sort()"
   ]
  },
  {
   "cell_type": "code",
   "execution_count": 47,
   "id": "32c8e94b",
   "metadata": {},
   "outputs": [
    {
     "data": {
      "text/plain": [
       "[1, 2, 3]"
      ]
     },
     "execution_count": 47,
     "metadata": {},
     "output_type": "execute_result"
    }
   ],
   "source": [
    "mylist"
   ]
  },
  {
   "cell_type": "code",
   "execution_count": 48,
   "id": "187c0ed2",
   "metadata": {},
   "outputs": [],
   "source": [
    "myset = set()"
   ]
  },
  {
   "cell_type": "code",
   "execution_count": 49,
   "id": "1e68cb46",
   "metadata": {},
   "outputs": [
    {
     "data": {
      "text/plain": [
       "set"
      ]
     },
     "execution_count": 49,
     "metadata": {},
     "output_type": "execute_result"
    }
   ],
   "source": [
    "type(myset)"
   ]
  },
  {
   "cell_type": "code",
   "execution_count": 50,
   "id": "577158ee",
   "metadata": {},
   "outputs": [
    {
     "data": {
      "text/plain": [
       "list"
      ]
     },
     "execution_count": 50,
     "metadata": {},
     "output_type": "execute_result"
    }
   ],
   "source": [
    "type(mylist)"
   ]
  },
  {
   "cell_type": "code",
   "execution_count": 51,
   "id": "1d7d0dae",
   "metadata": {},
   "outputs": [],
   "source": [
    "class Sample():\n",
    "    \n",
    "    def __init__(self,)"
   ]
  },
  {
   "cell_type": "code",
   "execution_count": 52,
   "id": "99425d8e",
   "metadata": {},
   "outputs": [],
   "source": [
    "my_sample = Sample()"
   ]
  },
  {
   "cell_type": "code",
   "execution_count": 53,
   "id": "7fa64c52",
   "metadata": {},
   "outputs": [
    {
     "data": {
      "text/plain": [
       "__main__.Sample"
      ]
     },
     "execution_count": 53,
     "metadata": {},
     "output_type": "execute_result"
    }
   ],
   "source": [
    "type(my_sample)"
   ]
  },
  {
   "cell_type": "code",
   "execution_count": 81,
   "id": "e3f73182",
   "metadata": {},
   "outputs": [],
   "source": [
    "class Dog():\n",
    "    \n",
    "    #CLASS OBJECT ATTRIBUTE\n",
    "    #SAME FOR ANY INSTANCE OF A CLASS\n",
    "    species = 'mammal'\n",
    "    \n",
    "    def __init__(self,breed,name):\n",
    "        \n",
    "        #attributes\n",
    "        self.breed = breed\n",
    "        self.name = name\n",
    "        #self.spots = spots\n",
    "       \n",
    "    #OPERATIONS/Actions --> Methods\n",
    "    def bark(self,number):\n",
    "        print(f\"WOOF!! My name is {self.name} and the number is {number}\")\n",
    "        print(\"Arf! My breed is {}\".format(self.breed))"
   ]
  },
  {
   "cell_type": "code",
   "execution_count": 82,
   "id": "31e0ebda",
   "metadata": {},
   "outputs": [],
   "source": [
    "my_dog = Dog(breed='Lab', name='Sammy')"
   ]
  },
  {
   "cell_type": "code",
   "execution_count": 83,
   "id": "a3e49334",
   "metadata": {},
   "outputs": [],
   "source": [
    "doggie2 = Dog('Terrier', \"Louis\")"
   ]
  },
  {
   "cell_type": "code",
   "execution_count": 38,
   "id": "80b663a8",
   "metadata": {},
   "outputs": [
    {
     "data": {
      "text/plain": [
       "__main__.Dog"
      ]
     },
     "execution_count": 38,
     "metadata": {},
     "output_type": "execute_result"
    }
   ],
   "source": [
    "type(my_dog)"
   ]
  },
  {
   "cell_type": "code",
   "execution_count": 60,
   "id": "a92b4d82",
   "metadata": {},
   "outputs": [
    {
     "data": {
      "text/plain": [
       "'Sammy'"
      ]
     },
     "execution_count": 60,
     "metadata": {},
     "output_type": "execute_result"
    }
   ],
   "source": [
    "my_dog.name"
   ]
  },
  {
   "cell_type": "code",
   "execution_count": 61,
   "id": "606c734d",
   "metadata": {},
   "outputs": [
    {
     "data": {
      "text/plain": [
       "'Lab'"
      ]
     },
     "execution_count": 61,
     "metadata": {},
     "output_type": "execute_result"
    }
   ],
   "source": [
    "my_dog.breed"
   ]
  },
  {
   "cell_type": "code",
   "execution_count": 63,
   "id": "90442803",
   "metadata": {},
   "outputs": [
    {
     "data": {
      "text/plain": [
       "'mammal'"
      ]
     },
     "execution_count": 63,
     "metadata": {},
     "output_type": "execute_result"
    }
   ],
   "source": [
    "my_dog.species"
   ]
  },
  {
   "cell_type": "code",
   "execution_count": 86,
   "id": "8094cf35",
   "metadata": {},
   "outputs": [
    {
     "name": "stdout",
     "output_type": "stream",
     "text": [
      "WOOF!! My name is Sammy and the number is 13\n",
      "Arf! My breed is Lab\n"
     ]
    }
   ],
   "source": [
    "my_dog.bark(13)"
   ]
  },
  {
   "cell_type": "code",
   "execution_count": 49,
   "id": "bda0fdf7",
   "metadata": {},
   "outputs": [
    {
     "data": {
      "text/plain": [
       "'Louis'"
      ]
     },
     "execution_count": 49,
     "metadata": {},
     "output_type": "execute_result"
    }
   ],
   "source": [
    "doggie2.name"
   ]
  },
  {
   "cell_type": "code",
   "execution_count": 84,
   "id": "97500338",
   "metadata": {},
   "outputs": [
    {
     "name": "stdout",
     "output_type": "stream",
     "text": [
      "WOOF!! My name is Louis and the number is 11\n",
      "Arf! My breed is Terrier\n"
     ]
    }
   ],
   "source": [
    "doggie2.bark(11)"
   ]
  },
  {
   "cell_type": "code",
   "execution_count": 52,
   "id": "d6cce086",
   "metadata": {},
   "outputs": [
    {
     "data": {
      "text/plain": [
       "'Terrier'"
      ]
     },
     "execution_count": 52,
     "metadata": {},
     "output_type": "execute_result"
    }
   ],
   "source": [
    "doggie2.breed"
   ]
  },
  {
   "cell_type": "code",
   "execution_count": 53,
   "id": "7d9979fa",
   "metadata": {},
   "outputs": [
    {
     "data": {
      "text/plain": [
       "'Louis'"
      ]
     },
     "execution_count": 53,
     "metadata": {},
     "output_type": "execute_result"
    }
   ],
   "source": [
    "doggie2.name"
   ]
  },
  {
   "cell_type": "code",
   "execution_count": 55,
   "id": "ab1ca327",
   "metadata": {},
   "outputs": [
    {
     "data": {
      "text/plain": [
       "'mammal'"
      ]
     },
     "execution_count": 55,
     "metadata": {},
     "output_type": "execute_result"
    }
   ],
   "source": [
    "doggie2.species"
   ]
  },
  {
   "cell_type": "code",
   "execution_count": null,
   "id": "8f74f205",
   "metadata": {},
   "outputs": [],
   "source": []
  },
  {
   "cell_type": "code",
   "execution_count": 21,
   "id": "51169dfe",
   "metadata": {},
   "outputs": [],
   "source": [
    "class Dude():\n",
    "    \n",
    "    def __init__(self,height, weight, shirtsize):\n",
    "        \n",
    "        self.my_attribute = height\n",
    "        self.weight = weight\n",
    "        self.shirtsize = shirtsize"
   ]
  },
  {
   "cell_type": "code",
   "execution_count": 23,
   "id": "c412971a",
   "metadata": {},
   "outputs": [],
   "source": [
    "my_dude = Dude(height=\"short\", weight='heavy', shirtsize='medium')"
   ]
  },
  {
   "cell_type": "code",
   "execution_count": 24,
   "id": "de5f2c82",
   "metadata": {},
   "outputs": [
    {
     "data": {
      "text/plain": [
       "__main__.Dude"
      ]
     },
     "execution_count": 24,
     "metadata": {},
     "output_type": "execute_result"
    }
   ],
   "source": [
    "type(my_dude)"
   ]
  },
  {
   "cell_type": "code",
   "execution_count": 25,
   "id": "4c09c99f",
   "metadata": {},
   "outputs": [
    {
     "data": {
      "text/plain": [
       "'short'"
      ]
     },
     "execution_count": 25,
     "metadata": {},
     "output_type": "execute_result"
    }
   ],
   "source": [
    "my_dude.my_attribute"
   ]
  },
  {
   "cell_type": "code",
   "execution_count": 26,
   "id": "30ba5992",
   "metadata": {},
   "outputs": [
    {
     "data": {
      "text/plain": [
       "'medium'"
      ]
     },
     "execution_count": 26,
     "metadata": {},
     "output_type": "execute_result"
    }
   ],
   "source": [
    "my_dude.shirtsize"
   ]
  },
  {
   "cell_type": "code",
   "execution_count": 27,
   "id": "032ddbe3",
   "metadata": {},
   "outputs": [
    {
     "data": {
      "text/plain": [
       "'heavy'"
      ]
     },
     "execution_count": 27,
     "metadata": {},
     "output_type": "execute_result"
    }
   ],
   "source": [
    "my_dude.weight"
   ]
  },
  {
   "cell_type": "code",
   "execution_count": 109,
   "id": "30068319",
   "metadata": {},
   "outputs": [],
   "source": [
    "class Circle():\n",
    "    \n",
    "    #CLASS OBJECCT ATTRIBUTE\n",
    "    pi = 3.14\n",
    "    \n",
    "    def __init__(self,radius=1):\n",
    "        \n",
    "        self.radius = radius\n",
    "        self.area = radius * radius * Circle.pi # Circle.pi or self.pi\n",
    "        \n",
    "    # METHOD  \n",
    "    \n",
    "    def get_circumference(self):\n",
    "        return self.radius * self.pi * 2"
   ]
  },
  {
   "cell_type": "code",
   "execution_count": 110,
   "id": "64ac5424",
   "metadata": {},
   "outputs": [],
   "source": [
    "my_circle = Circle()"
   ]
  },
  {
   "cell_type": "code",
   "execution_count": 111,
   "id": "d884dfa1",
   "metadata": {},
   "outputs": [
    {
     "data": {
      "text/plain": [
       "3.14"
      ]
     },
     "execution_count": 111,
     "metadata": {},
     "output_type": "execute_result"
    }
   ],
   "source": [
    "my_circle.pi"
   ]
  },
  {
   "cell_type": "code",
   "execution_count": 112,
   "id": "cbb587bf",
   "metadata": {},
   "outputs": [
    {
     "data": {
      "text/plain": [
       "1"
      ]
     },
     "execution_count": 112,
     "metadata": {},
     "output_type": "execute_result"
    }
   ],
   "source": [
    "my_circle.radius"
   ]
  },
  {
   "cell_type": "code",
   "execution_count": 113,
   "id": "1796000b",
   "metadata": {},
   "outputs": [],
   "source": [
    "my_circle2 = Circle(30)"
   ]
  },
  {
   "cell_type": "code",
   "execution_count": 114,
   "id": "cdd8e040",
   "metadata": {},
   "outputs": [
    {
     "data": {
      "text/plain": [
       "30"
      ]
     },
     "execution_count": 114,
     "metadata": {},
     "output_type": "execute_result"
    }
   ],
   "source": [
    "my_circle2.radius"
   ]
  },
  {
   "cell_type": "code",
   "execution_count": 115,
   "id": "44acf683",
   "metadata": {},
   "outputs": [
    {
     "data": {
      "text/plain": [
       "188.4"
      ]
     },
     "execution_count": 115,
     "metadata": {},
     "output_type": "execute_result"
    }
   ],
   "source": [
    "my_circle2.get_circumference()"
   ]
  },
  {
   "cell_type": "code",
   "execution_count": 116,
   "id": "caa201ff",
   "metadata": {},
   "outputs": [
    {
     "data": {
      "text/plain": [
       "6.28"
      ]
     },
     "execution_count": 116,
     "metadata": {},
     "output_type": "execute_result"
    }
   ],
   "source": [
    "my_circle.get_circumference()"
   ]
  },
  {
   "cell_type": "code",
   "execution_count": 117,
   "id": "eb610f27",
   "metadata": {},
   "outputs": [
    {
     "data": {
      "text/plain": [
       "3.14"
      ]
     },
     "execution_count": 117,
     "metadata": {},
     "output_type": "execute_result"
    }
   ],
   "source": [
    "my_circle.area"
   ]
  },
  {
   "cell_type": "code",
   "execution_count": 118,
   "id": "ffb58311",
   "metadata": {},
   "outputs": [
    {
     "data": {
      "text/plain": [
       "2826.0"
      ]
     },
     "execution_count": 118,
     "metadata": {},
     "output_type": "execute_result"
    }
   ],
   "source": [
    "my_circle2.area"
   ]
  },
  {
   "cell_type": "code",
   "execution_count": null,
   "id": "425ca677",
   "metadata": {},
   "outputs": [],
   "source": []
  }
 ],
 "metadata": {
  "kernelspec": {
   "display_name": "Python 3 (ipykernel)",
   "language": "python",
   "name": "python3"
  },
  "language_info": {
   "codemirror_mode": {
    "name": "ipython",
    "version": 3
   },
   "file_extension": ".py",
   "mimetype": "text/x-python",
   "name": "python",
   "nbconvert_exporter": "python",
   "pygments_lexer": "ipython3",
   "version": "3.9.12"
  }
 },
 "nbformat": 4,
 "nbformat_minor": 5
}
