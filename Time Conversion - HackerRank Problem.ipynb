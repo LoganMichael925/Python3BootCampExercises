{
 "cells": [
  {
   "cell_type": "code",
   "execution_count": 1,
   "id": "3ac850a7",
   "metadata": {},
   "outputs": [],
   "source": [
    "def myfunc(a,b):\n",
    "    #returns 5% of the sum of a and b\n",
    "    \n",
    "    return sum((a,b)) * 0.05\n",
    "    "
   ]
  },
  {
   "cell_type": "code",
   "execution_count": 2,
   "id": "e4e209e0",
   "metadata": {},
   "outputs": [
    {
     "data": {
      "text/plain": [
       "5.0"
      ]
     },
     "execution_count": 2,
     "metadata": {},
     "output_type": "execute_result"
    }
   ],
   "source": [
    "myfunc(40,60)"
   ]
  },
  {
   "cell_type": "code",
   "execution_count": 32,
   "id": "9438a3ab",
   "metadata": {},
   "outputs": [],
   "source": [
    "stringsample = '3:24:00PM'"
   ]
  },
  {
   "cell_type": "code",
   "execution_count": 52,
   "id": "c4a01051",
   "metadata": {},
   "outputs": [
    {
     "data": {
      "text/plain": [
       "['3', '24', '00PM']"
      ]
     },
     "execution_count": 52,
     "metadata": {},
     "output_type": "execute_result"
    }
   ],
   "source": [
    "stringsample.split(':')"
   ]
  },
  {
   "cell_type": "code",
   "execution_count": 53,
   "id": "4a4610fd",
   "metadata": {},
   "outputs": [],
   "source": [
    "newstring = stringsample.split(':')"
   ]
  },
  {
   "cell_type": "code",
   "execution_count": 54,
   "id": "0d12fbf4",
   "metadata": {},
   "outputs": [
    {
     "data": {
      "text/plain": [
       "['3', '24', '00PM']"
      ]
     },
     "execution_count": 54,
     "metadata": {},
     "output_type": "execute_result"
    }
   ],
   "source": [
    "newstring"
   ]
  },
  {
   "cell_type": "code",
   "execution_count": 55,
   "id": "c8db363d",
   "metadata": {},
   "outputs": [
    {
     "data": {
      "text/plain": [
       "'3'"
      ]
     },
     "execution_count": 55,
     "metadata": {},
     "output_type": "execute_result"
    }
   ],
   "source": [
    "newstring[0]"
   ]
  },
  {
   "cell_type": "code",
   "execution_count": 56,
   "id": "0ad0e143",
   "metadata": {},
   "outputs": [
    {
     "data": {
      "text/plain": [
       "3"
      ]
     },
     "execution_count": 56,
     "metadata": {},
     "output_type": "execute_result"
    }
   ],
   "source": [
    "int(newstring[0])"
   ]
  },
  {
   "cell_type": "code",
   "execution_count": 57,
   "id": "d8111352",
   "metadata": {},
   "outputs": [],
   "source": [
    "newintstring = int(newstring[0])"
   ]
  },
  {
   "cell_type": "code",
   "execution_count": 58,
   "id": "40eacfa4",
   "metadata": {},
   "outputs": [
    {
     "data": {
      "text/plain": [
       "3"
      ]
     },
     "execution_count": 58,
     "metadata": {},
     "output_type": "execute_result"
    }
   ],
   "source": [
    "newintstring"
   ]
  },
  {
   "cell_type": "code",
   "execution_count": 59,
   "id": "9eefe1eb",
   "metadata": {},
   "outputs": [],
   "source": [
    "newarr = stringsample.split(':')\n"
   ]
  },
  {
   "cell_type": "code",
   "execution_count": 60,
   "id": "e1cfef72",
   "metadata": {},
   "outputs": [
    {
     "data": {
      "text/plain": [
       "['3', '24', '00PM']"
      ]
     },
     "execution_count": 60,
     "metadata": {},
     "output_type": "execute_result"
    }
   ],
   "source": [
    "newarr"
   ]
  },
  {
   "cell_type": "code",
   "execution_count": 61,
   "id": "ade37054",
   "metadata": {},
   "outputs": [],
   "source": [
    "newintarr = int(newarr[0])"
   ]
  },
  {
   "cell_type": "code",
   "execution_count": 65,
   "id": "796a64d1",
   "metadata": {},
   "outputs": [
    {
     "data": {
      "text/plain": [
       "15"
      ]
     },
     "execution_count": 65,
     "metadata": {},
     "output_type": "execute_result"
    }
   ],
   "source": [
    "newintarr"
   ]
  },
  {
   "cell_type": "code",
   "execution_count": 66,
   "id": "5ca3890f",
   "metadata": {},
   "outputs": [],
   "source": [
    "if newintarr <= 12:\n",
    "    newintarr += 12"
   ]
  },
  {
   "cell_type": "code",
   "execution_count": 67,
   "id": "a7b6b0ab",
   "metadata": {},
   "outputs": [
    {
     "data": {
      "text/plain": [
       "15"
      ]
     },
     "execution_count": 67,
     "metadata": {},
     "output_type": "execute_result"
    }
   ],
   "source": [
    "newintarr"
   ]
  },
  {
   "cell_type": "code",
   "execution_count": 68,
   "id": "89a1aad2",
   "metadata": {},
   "outputs": [],
   "source": [
    "newarr[0] = newintarr\n",
    "newstring = ''"
   ]
  },
  {
   "cell_type": "code",
   "execution_count": 69,
   "id": "d6e8e58a",
   "metadata": {},
   "outputs": [
    {
     "data": {
      "text/plain": [
       "[15, '24', '00PM']"
      ]
     },
     "execution_count": 69,
     "metadata": {},
     "output_type": "execute_result"
    }
   ],
   "source": [
    "newarr"
   ]
  },
  {
   "cell_type": "code",
   "execution_count": 73,
   "id": "96718fc4",
   "metadata": {},
   "outputs": [
    {
     "data": {
      "text/plain": [
       "'15'"
      ]
     },
     "execution_count": 73,
     "metadata": {},
     "output_type": "execute_result"
    }
   ],
   "source": [
    "str(newarr[0])"
   ]
  },
  {
   "cell_type": "code",
   "execution_count": 74,
   "id": "05812537",
   "metadata": {},
   "outputs": [
    {
     "data": {
      "text/plain": [
       "15"
      ]
     },
     "execution_count": 74,
     "metadata": {},
     "output_type": "execute_result"
    }
   ],
   "source": [
    "newarr[0]"
   ]
  },
  {
   "cell_type": "code",
   "execution_count": 75,
   "id": "7c69c232",
   "metadata": {},
   "outputs": [
    {
     "data": {
      "text/plain": [
       "'15'"
      ]
     },
     "execution_count": 75,
     "metadata": {},
     "output_type": "execute_result"
    }
   ],
   "source": [
    "str(newarr[0])"
   ]
  },
  {
   "cell_type": "code",
   "execution_count": 76,
   "id": "f50a0e1e",
   "metadata": {},
   "outputs": [
    {
     "data": {
      "text/plain": [
       "15"
      ]
     },
     "execution_count": 76,
     "metadata": {},
     "output_type": "execute_result"
    }
   ],
   "source": [
    "newarr[0]"
   ]
  },
  {
   "cell_type": "code",
   "execution_count": 77,
   "id": "d5938e0f",
   "metadata": {},
   "outputs": [],
   "source": [
    "newarr[0] = str(newarr[0])"
   ]
  },
  {
   "cell_type": "code",
   "execution_count": 78,
   "id": "7a8bfde7",
   "metadata": {},
   "outputs": [
    {
     "data": {
      "text/plain": [
       "'15'"
      ]
     },
     "execution_count": 78,
     "metadata": {},
     "output_type": "execute_result"
    }
   ],
   "source": [
    "newarr[0]"
   ]
  },
  {
   "cell_type": "code",
   "execution_count": 79,
   "id": "708cc14f",
   "metadata": {},
   "outputs": [
    {
     "data": {
      "text/plain": [
       "'00PM'"
      ]
     },
     "execution_count": 79,
     "metadata": {},
     "output_type": "execute_result"
    }
   ],
   "source": [
    "newarr[2]"
   ]
  },
  {
   "cell_type": "code",
   "execution_count": 82,
   "id": "98b1ece0",
   "metadata": {},
   "outputs": [
    {
     "data": {
      "text/plain": [
       "'PM'"
      ]
     },
     "execution_count": 82,
     "metadata": {},
     "output_type": "execute_result"
    }
   ],
   "source": [
    "newarr[2][2:]"
   ]
  },
  {
   "cell_type": "code",
   "execution_count": 83,
   "id": "3689f2dc",
   "metadata": {},
   "outputs": [
    {
     "data": {
      "text/plain": [
       "'00'"
      ]
     },
     "execution_count": 83,
     "metadata": {},
     "output_type": "execute_result"
    }
   ],
   "source": [
    "newarr[2][0:2]"
   ]
  },
  {
   "cell_type": "code",
   "execution_count": 84,
   "id": "41d3e2ac",
   "metadata": {},
   "outputs": [],
   "source": [
    "newarr[2] = newarr[2][0:2]"
   ]
  },
  {
   "cell_type": "code",
   "execution_count": 85,
   "id": "87452036",
   "metadata": {},
   "outputs": [
    {
     "data": {
      "text/plain": [
       "'00'"
      ]
     },
     "execution_count": 85,
     "metadata": {},
     "output_type": "execute_result"
    }
   ],
   "source": [
    "newarr[2]"
   ]
  },
  {
   "cell_type": "code",
   "execution_count": 86,
   "id": "539509c0",
   "metadata": {},
   "outputs": [
    {
     "data": {
      "text/plain": [
       "['15', '24', '00']"
      ]
     },
     "execution_count": 86,
     "metadata": {},
     "output_type": "execute_result"
    }
   ],
   "source": [
    "newarr"
   ]
  },
  {
   "cell_type": "code",
   "execution_count": 87,
   "id": "bb5ebbb0",
   "metadata": {},
   "outputs": [
    {
     "data": {
      "text/plain": [
       "''"
      ]
     },
     "execution_count": 87,
     "metadata": {},
     "output_type": "execute_result"
    }
   ],
   "source": [
    "newstring"
   ]
  },
  {
   "cell_type": "code",
   "execution_count": 88,
   "id": "fb911a37",
   "metadata": {},
   "outputs": [],
   "source": [
    "newstring = newarr[0] + ':' + newarr[1] + ':' + newarr[2]"
   ]
  },
  {
   "cell_type": "code",
   "execution_count": 170,
   "id": "ac4d6142",
   "metadata": {},
   "outputs": [
    {
     "data": {
      "text/plain": [
       "False"
      ]
     },
     "execution_count": 170,
     "metadata": {},
     "output_type": "execute_result"
    }
   ],
   "source": [
    "\"10\" > \"2\""
   ]
  },
  {
   "cell_type": "code",
   "execution_count": 90,
   "id": "588a5278",
   "metadata": {},
   "outputs": [
    {
     "data": {
      "text/plain": [
       "'15:24:00'"
      ]
     },
     "execution_count": 90,
     "metadata": {},
     "output_type": "execute_result"
    }
   ],
   "source": [
    "newstring"
   ]
  },
  {
   "cell_type": "code",
   "execution_count": 91,
   "id": "e8ce92c6",
   "metadata": {},
   "outputs": [],
   "source": [
    "def timeConversion(s):\n",
    "    # Write your code here\n",
    "    \n",
    "    #splitting string with the colons, get new list of seperated strings\n",
    "    newarr = s.split(':')\n",
    "    \n",
    "    #make the first index of the new list of strings an int\n",
    "    newintarr = int(newarr[0])\n",
    "    \n",
    "    #if this index is greater than or equal to 12, add itself to 12\n",
    "    if newintarr <= 12:\n",
    "        newintarr += 12\n",
    "    else:\n",
    "        pass\n",
    "        \n",
    "    #make this first index the new int value\n",
    "    newarr[0] = newintarr\n",
    "    \n",
    "    #make this new index back to a string value\n",
    "    newarr[0] = str(newarr[0])\n",
    "    \n",
    "    #removing the PM or AM from the string list using slicing\n",
    "    newarr[2] = newarr[2][0:2]\n",
    "    \n",
    "    #concatenating the list strings values together into one string\n",
    "    newstring = newarr[0] + ':' + newarr[1] + ':' + newarr[2]\n",
    "    \n",
    "    return newstring"
   ]
  },
  {
   "cell_type": "code",
   "execution_count": 109,
   "id": "35465a8c",
   "metadata": {},
   "outputs": [
    {
     "data": {
      "text/plain": [
       "'14:00:00'"
      ]
     },
     "execution_count": 109,
     "metadata": {},
     "output_type": "execute_result"
    }
   ],
   "source": [
    "\n",
    "timeConversion('2:00:00AM')\n"
   ]
  },
  {
   "cell_type": "code",
   "execution_count": 110,
   "id": "55b574b6",
   "metadata": {},
   "outputs": [],
   "source": [
    "def timeConversion(s):\n",
    "    # Write your code here\n",
    "    \n",
    "    #splitting string with the colons, get new list of seperated strings\n",
    "    newarr = s.split(':')\n",
    "    \n",
    "    #make the first index of the new list of strings an int\n",
    "    newintarr = int(newarr[0])\n",
    "    \n",
    "    #if this index is greater than or equal to 12, add itself to 12\n",
    "    if newintarr <= 12 and newarr[2][2:] == 'PM':\n",
    "        newintarr += 12\n",
    "    #elif newintarr <= 12 and newarr[2][2:] == 'AM':\n",
    "        \n",
    "    else:\n",
    "        pass\n",
    "        \n",
    "    #make this first index the new int value\n",
    "    newarr[0] = newintarr\n",
    "    \n",
    "    #make this new index back to a string value\n",
    "    newarr[0] = str(newarr[0])\n",
    "    \n",
    "    #removing the PM or AM from the string list using slicing\n",
    "    newarr[2] = newarr[2][0:2]\n",
    "    \n",
    "    #concatenating the list strings values together into one string\n",
    "    newstring = newarr[0] + ':' + newarr[1] + ':' + newarr[2]\n",
    "    \n",
    "    return newstring"
   ]
  },
  {
   "cell_type": "code",
   "execution_count": 111,
   "id": "0879590a",
   "metadata": {},
   "outputs": [
    {
     "data": {
      "text/plain": [
       "'2:00:00'"
      ]
     },
     "execution_count": 111,
     "metadata": {},
     "output_type": "execute_result"
    }
   ],
   "source": [
    "timeConversion('2:00:00AM')"
   ]
  },
  {
   "cell_type": "code",
   "execution_count": 112,
   "id": "822895ae",
   "metadata": {},
   "outputs": [
    {
     "data": {
      "text/plain": [
       "'12:00:00'"
      ]
     },
     "execution_count": 112,
     "metadata": {},
     "output_type": "execute_result"
    }
   ],
   "source": [
    "timeConversion('12:00:00AM')"
   ]
  },
  {
   "cell_type": "code",
   "execution_count": 115,
   "id": "26c87242",
   "metadata": {},
   "outputs": [],
   "source": [
    "def timeConversion(s):\n",
    "    # Write your code here\n",
    "    \n",
    "    #splitting string with the colons, get new list of seperated strings\n",
    "    newarr = s.split(':')\n",
    "    \n",
    "    #make the first index of the new list of strings an int\n",
    "    newintarr = int(newarr[0])\n",
    "    \n",
    "    #if this index is after 12 PM, add itself to 12\n",
    "    if newintarr <= 12 and newarr[2][2:] == 'PM':\n",
    "        newintarr += 12\n",
    "        \n",
    "    #if this index equals to 12, in the AM, change the 12 to 0\n",
    "    elif newintarr == 12 and newarr[2][2:] == 'AM':\n",
    "        newintarr = 0\n",
    "    else:\n",
    "        pass\n",
    "        \n",
    "    #make this first index the new int value\n",
    "    newarr[0] = newintarr\n",
    "    \n",
    "    #make this new index back to a string value\n",
    "    newarr[0] = str(newarr[0])\n",
    "    \n",
    "    #removing the PM or AM from the string list using slicing\n",
    "    newarr[2] = newarr[2][0:2]\n",
    "    \n",
    "    #concatenating the list strings values together into one string\n",
    "    newstring = newarr[0] + ':' + newarr[1] + ':' + newarr[2]\n",
    "    \n",
    "    return newstring"
   ]
  },
  {
   "cell_type": "code",
   "execution_count": 119,
   "id": "70bc8604",
   "metadata": {},
   "outputs": [
    {
     "data": {
      "text/plain": [
       "'0:00:00'"
      ]
     },
     "execution_count": 119,
     "metadata": {},
     "output_type": "execute_result"
    }
   ],
   "source": [
    "timeConversion('12:00:00AM')"
   ]
  },
  {
   "cell_type": "code",
   "execution_count": 189,
   "id": "61c61d3c",
   "metadata": {},
   "outputs": [],
   "source": [
    "def timeConversion(s):\n",
    "    # Write your code here\n",
    "    \n",
    "    #splitting string with the colons, get new list of seperated strings\n",
    "    newarr = s.split(':')\n",
    "    \n",
    "    #make the first index of the new list of strings an int\n",
    "    newintarr = int(newarr[0])\n",
    "    \n",
    "    #if this index is after 12 PM, add itself to 12\n",
    "    if newintarr < 12 and newarr[2][2:] == 'PM':\n",
    "        newintarr += 12\n",
    "        \n",
    "    #if this index equals to 12, in the AM, change the 12 to 0\n",
    "    elif newintarr == 12 and newarr[2][2:] == 'AM':\n",
    "        newintarr = 0\n",
    "    else:\n",
    "        pass\n",
    "    \n",
    "    #check if new hour time is less than 10, so to know to add an extra 0 before hour\n",
    "    if newintarr < 10:\n",
    "        truthvalue = True\n",
    "    else:\n",
    "        truthvalue = False\n",
    "        \n",
    "    #make this first index the new int value\n",
    "    newarr[0] = newintarr\n",
    "\n",
    "    #make this new index back to a string value\n",
    "    newarr[0] = str(newarr[0])\n",
    "    \n",
    "    #add 0 before the hour index if it is less than 10\n",
    "    if truthvalue == True:\n",
    "        newarr[0] = '0' + newarr[0]\n",
    "    \n",
    "    #removing the PM or AM from the string list using slicing\n",
    "    newarr[2] = newarr[2][0:2]\n",
    "    \n",
    "    #concatenating the list strings values together into one string\n",
    "    newstring = newarr[0] + ':' + newarr[1] + ':' + newarr[2]\n",
    "    \n",
    "    return newstring"
   ]
  },
  {
   "cell_type": "code",
   "execution_count": 190,
   "id": "8e49acf7",
   "metadata": {},
   "outputs": [
    {
     "data": {
      "text/plain": [
       "'12:45:54'"
      ]
     },
     "execution_count": 190,
     "metadata": {},
     "output_type": "execute_result"
    }
   ],
   "source": [
    "timeConversion('12:45:54PM')"
   ]
  },
  {
   "cell_type": "code",
   "execution_count": null,
   "id": "e55b58c4",
   "metadata": {},
   "outputs": [],
   "source": []
  }
 ],
 "metadata": {
  "kernelspec": {
   "display_name": "Python 3 (ipykernel)",
   "language": "python",
   "name": "python3"
  },
  "language_info": {
   "codemirror_mode": {
    "name": "ipython",
    "version": 3
   },
   "file_extension": ".py",
   "mimetype": "text/x-python",
   "name": "python",
   "nbconvert_exporter": "python",
   "pygments_lexer": "ipython3",
   "version": "3.9.12"
  }
 },
 "nbformat": 4,
 "nbformat_minor": 5
}
