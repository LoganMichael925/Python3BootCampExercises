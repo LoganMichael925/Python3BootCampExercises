{
 "cells": [
  {
   "cell_type": "code",
   "execution_count": 21,
   "id": "87da0873",
   "metadata": {},
   "outputs": [],
   "source": [
    "inputString = \"lalalal\""
   ]
  },
  {
   "cell_type": "code",
   "execution_count": 22,
   "id": "c1a1ff8e",
   "metadata": {},
   "outputs": [],
   "source": [
    "halfway = int(round((len(inputString) / 2),0))"
   ]
  },
  {
   "cell_type": "code",
   "execution_count": 23,
   "id": "5c62dd57",
   "metadata": {},
   "outputs": [
    {
     "data": {
      "text/plain": [
       "4"
      ]
     },
     "execution_count": 23,
     "metadata": {},
     "output_type": "execute_result"
    }
   ],
   "source": [
    "halfway"
   ]
  },
  {
   "cell_type": "code",
   "execution_count": 4,
   "id": "8b6358f4",
   "metadata": {},
   "outputs": [],
   "source": [
    "def solution(inputString):\n",
    "    somelength = len(inputString)\n",
    "    if inputString[0:somelength] == inputString[somelength + 1:-1]:\n",
    "        print(\"true\")\n",
    "    else:\n",
    "        print('false')"
   ]
  },
  {
   "cell_type": "code",
   "execution_count": 5,
   "id": "80a711ef",
   "metadata": {},
   "outputs": [
    {
     "name": "stdout",
     "output_type": "stream",
     "text": [
      "false\n"
     ]
    }
   ],
   "source": [
    "solution(inputString)"
   ]
  },
  {
   "cell_type": "code",
   "execution_count": 6,
   "id": "a4fc2dd4",
   "metadata": {},
   "outputs": [
    {
     "data": {
      "text/plain": [
       "'la'"
      ]
     },
     "execution_count": 6,
     "metadata": {},
     "output_type": "execute_result"
    }
   ],
   "source": [
    "inputString[0:2]"
   ]
  },
  {
   "cell_type": "code",
   "execution_count": 7,
   "id": "55d22ec5",
   "metadata": {},
   "outputs": [
    {
     "data": {
      "text/plain": [
       "2"
      ]
     },
     "execution_count": 7,
     "metadata": {},
     "output_type": "execute_result"
    }
   ],
   "source": [
    "halfway"
   ]
  },
  {
   "cell_type": "code",
   "execution_count": 8,
   "id": "d92c9583",
   "metadata": {},
   "outputs": [
    {
     "name": "stdout",
     "output_type": "stream",
     "text": [
      "Help on built-in function round in module builtins:\n",
      "\n",
      "round(number, ndigits=None)\n",
      "    Round a number to a given precision in decimal digits.\n",
      "    \n",
      "    The return value is an integer if ndigits is omitted or None.  Otherwise\n",
      "    the return value has the same type as the number.  ndigits may be negative.\n",
      "\n"
     ]
    }
   ],
   "source": [
    "help(round)"
   ]
  },
  {
   "cell_type": "code",
   "execution_count": 9,
   "id": "b8b7238a",
   "metadata": {},
   "outputs": [],
   "source": [
    "firsthalf = inputString[0:halfway]"
   ]
  },
  {
   "cell_type": "code",
   "execution_count": 10,
   "id": "48cd4195",
   "metadata": {},
   "outputs": [
    {
     "data": {
      "text/plain": [
       "'la'"
      ]
     },
     "execution_count": 10,
     "metadata": {},
     "output_type": "execute_result"
    }
   ],
   "source": [
    "firsthalf"
   ]
  },
  {
   "cell_type": "code",
   "execution_count": 11,
   "id": "b410e3d5",
   "metadata": {},
   "outputs": [],
   "source": [
    "secondhalf = inputString[halfway + 1:]"
   ]
  },
  {
   "cell_type": "code",
   "execution_count": 12,
   "id": "b7486254",
   "metadata": {},
   "outputs": [
    {
     "data": {
      "text/plain": [
       "'al'"
      ]
     },
     "execution_count": 12,
     "metadata": {},
     "output_type": "execute_result"
    }
   ],
   "source": [
    "secondhalf"
   ]
  },
  {
   "cell_type": "code",
   "execution_count": 13,
   "id": "2fe31d84",
   "metadata": {},
   "outputs": [],
   "source": [
    "revsechalf = secondhalf[::-1]"
   ]
  },
  {
   "cell_type": "code",
   "execution_count": 14,
   "id": "b44c89ac",
   "metadata": {},
   "outputs": [
    {
     "data": {
      "text/plain": [
       "'la'"
      ]
     },
     "execution_count": 14,
     "metadata": {},
     "output_type": "execute_result"
    }
   ],
   "source": [
    "revsechalf"
   ]
  },
  {
   "cell_type": "code",
   "execution_count": 45,
   "id": "0e7a1493",
   "metadata": {},
   "outputs": [],
   "source": [
    "def solution(inputString):\n",
    "    \n",
    "    #find length of string\n",
    "    somelength = len(inputString)\n",
    "    \n",
    "    print(somelength)\n",
    "    \n",
    "    #find half way index of string, round to nearest digit, turn into int\n",
    "    halfway = int(round((len(inputString) / 2),0))\n",
    "    \n",
    "    print(halfway)\n",
    "    \n",
    "    #denote first half of string\n",
    "    firsthalf = inputString[0:halfway]\n",
    "    \n",
    "    print(firsthalf)\n",
    "    \n",
    "    #denote second half of string\n",
    "    secondhalf = inputString[halfway + 1:]\n",
    "    \n",
    "    #reverse second half of string\n",
    "    revsechalf = secondhalf[::-1]\n",
    "    \n",
    "    #if first half == reversed second half... it is a palindrome\n",
    "    if firsthalf == revsechalf:\n",
    "        print(\"true\")\n",
    "    else:\n",
    "        print('false')"
   ]
  },
  {
   "cell_type": "code",
   "execution_count": 46,
   "id": "7a21bded",
   "metadata": {},
   "outputs": [
    {
     "name": "stdout",
     "output_type": "stream",
     "text": [
      "7\n",
      "4\n",
      "abac\n",
      "false\n"
     ]
    }
   ],
   "source": [
    "solution('abacaba')"
   ]
  },
  {
   "cell_type": "code",
   "execution_count": 39,
   "id": "424cd793",
   "metadata": {},
   "outputs": [
    {
     "data": {
      "text/plain": [
       "3.5"
      ]
     },
     "execution_count": 39,
     "metadata": {},
     "output_type": "execute_result"
    }
   ],
   "source": [
    "7 / 2"
   ]
  },
  {
   "cell_type": "code",
   "execution_count": 1,
   "id": "5df6547e",
   "metadata": {},
   "outputs": [],
   "source": [
    "randomstring = \"hello\""
   ]
  },
  {
   "cell_type": "code",
   "execution_count": 20,
   "id": "8268aeef",
   "metadata": {},
   "outputs": [
    {
     "name": "stdout",
     "output_type": "stream",
     "text": [
      "HelLo\n"
     ]
    }
   ],
   "source": [
    "newstring = ''\n",
    "for index, value in enumerate(randomstring):\n",
    "    if index == 0 or index == 3:\n",
    "        value = value.upper()\n",
    "        newstring += value\n",
    "    else:\n",
    "        newstring += value\n",
    "print(newstring)"
   ]
  },
  {
   "cell_type": "code",
   "execution_count": 21,
   "id": "c78afad5",
   "metadata": {},
   "outputs": [],
   "source": [
    "somephrases = \"I am master yoda\""
   ]
  },
  {
   "cell_type": "code",
   "execution_count": 31,
   "id": "a490434e",
   "metadata": {},
   "outputs": [],
   "source": [
    "def master_yoda(text):\n",
    "    newphrase = []\n",
    "    splittext = text.split()\n",
    "    revsplittext = splittext[::-1]\n",
    "    for x in revsplittext:\n",
    "        newphrase.append(x)\n",
    "    return ' '.join(newphrase)"
   ]
  },
  {
   "cell_type": "code",
   "execution_count": 32,
   "id": "f591d74e",
   "metadata": {},
   "outputs": [
    {
     "data": {
      "text/plain": [
       "'yoda master am I'"
      ]
     },
     "execution_count": 32,
     "metadata": {},
     "output_type": "execute_result"
    }
   ],
   "source": [
    "master_yoda(somephrases)"
   ]
  },
  {
   "cell_type": "code",
   "execution_count": 47,
   "id": "a1a23336",
   "metadata": {},
   "outputs": [],
   "source": [
    "def has_33(nums):\n",
    "    for x in nums:\n",
    "        if x == 3:\n",
    "            if x != nums[-1] and nums[x + 1] == 3 or nums[x - 1] == 3:\n",
    "                return True\n",
    "            else:\n",
    "                return False"
   ]
  },
  {
   "cell_type": "code",
   "execution_count": 48,
   "id": "c66e73be",
   "metadata": {},
   "outputs": [
    {
     "ename": "IndexError",
     "evalue": "list index out of range",
     "output_type": "error",
     "traceback": [
      "\u001b[0;31m---------------------------------------------------------------------------\u001b[0m",
      "\u001b[0;31mIndexError\u001b[0m                                Traceback (most recent call last)",
      "Input \u001b[0;32mIn [48]\u001b[0m, in \u001b[0;36m<cell line: 1>\u001b[0;34m()\u001b[0m\n\u001b[0;32m----> 1\u001b[0m \u001b[43mhas_33\u001b[49m\u001b[43m(\u001b[49m\u001b[43m[\u001b[49m\u001b[38;5;241;43m1\u001b[39;49m\u001b[43m,\u001b[49m\u001b[38;5;241;43m1\u001b[39;49m\u001b[43m,\u001b[49m\u001b[38;5;241;43m3\u001b[39;49m\u001b[43m,\u001b[49m\u001b[38;5;241;43m3\u001b[39;49m\u001b[43m]\u001b[49m\u001b[43m)\u001b[49m\n",
      "Input \u001b[0;32mIn [47]\u001b[0m, in \u001b[0;36mhas_33\u001b[0;34m(nums)\u001b[0m\n\u001b[1;32m      2\u001b[0m \u001b[38;5;28;01mfor\u001b[39;00m x \u001b[38;5;129;01min\u001b[39;00m nums:\n\u001b[1;32m      3\u001b[0m     \u001b[38;5;28;01mif\u001b[39;00m x \u001b[38;5;241m==\u001b[39m \u001b[38;5;241m3\u001b[39m:\n\u001b[0;32m----> 4\u001b[0m         \u001b[38;5;28;01mif\u001b[39;00m (x \u001b[38;5;241m!=\u001b[39m nums[\u001b[38;5;241m-\u001b[39m\u001b[38;5;241m1\u001b[39m] \u001b[38;5;129;01mor\u001b[39;00m \u001b[43mnums\u001b[49m\u001b[43m[\u001b[49m\u001b[43mx\u001b[49m\u001b[43m \u001b[49m\u001b[38;5;241;43m+\u001b[39;49m\u001b[43m \u001b[49m\u001b[38;5;241;43m1\u001b[39;49m\u001b[43m]\u001b[49m) \u001b[38;5;241m==\u001b[39m \u001b[38;5;241m3\u001b[39m \u001b[38;5;129;01mor\u001b[39;00m nums[x \u001b[38;5;241m-\u001b[39m \u001b[38;5;241m1\u001b[39m] \u001b[38;5;241m==\u001b[39m \u001b[38;5;241m3\u001b[39m:\n\u001b[1;32m      5\u001b[0m             \u001b[38;5;28;01mreturn\u001b[39;00m \u001b[38;5;28;01mTrue\u001b[39;00m\n\u001b[1;32m      6\u001b[0m         \u001b[38;5;28;01melse\u001b[39;00m:\n",
      "\u001b[0;31mIndexError\u001b[0m: list index out of range"
     ]
    }
   ],
   "source": [
    "has_33([1,1,3,3])"
   ]
  },
  {
   "cell_type": "code",
   "execution_count": 49,
   "id": "ae4d7b00",
   "metadata": {},
   "outputs": [
    {
     "data": {
      "text/plain": [
       "True"
      ]
     },
     "execution_count": 49,
     "metadata": {},
     "output_type": "execute_result"
    }
   ],
   "source": [
    "has_33([1,1,3,1])"
   ]
  },
  {
   "cell_type": "code",
   "execution_count": 59,
   "id": "5e5107f5",
   "metadata": {},
   "outputs": [],
   "source": [
    "def has_33(nums):\n",
    "    for index, value in enumerate(nums):\n",
    "        \n",
    "        #check if value equals to 3, and if next index value equals to three or previous index value equals to three\n",
    "        if nums[index] == 3 and nums[index + 1] == 3 or nums[index - 1] == 3 and x != nums[-1]:\n",
    "            return True\n",
    "    else:\n",
    "        return False"
   ]
  },
  {
   "cell_type": "code",
   "execution_count": 60,
   "id": "5578bbb6",
   "metadata": {},
   "outputs": [
    {
     "data": {
      "text/plain": [
       "True"
      ]
     },
     "execution_count": 60,
     "metadata": {},
     "output_type": "execute_result"
    }
   ],
   "source": [
    "has_33([1,1,3,2,1,1,3])"
   ]
  },
  {
   "cell_type": "code",
   "execution_count": 81,
   "id": "7238c732",
   "metadata": {},
   "outputs": [
    {
     "ename": "SyntaxError",
     "evalue": "invalid syntax (481998294.py, line 17)",
     "output_type": "error",
     "traceback": [
      "\u001b[0;36m  Input \u001b[0;32mIn [81]\u001b[0;36m\u001b[0m\n\u001b[0;31m    help(break)\u001b[0m\n\u001b[0m         ^\u001b[0m\n\u001b[0;31mSyntaxError\u001b[0m\u001b[0;31m:\u001b[0m invalid syntax\n"
     ]
    }
   ],
   "source": [
    "def spy_game(nums):\n",
    "    \n",
    "    #add 1 to checker per 0, 0, and 7 in order, check if 0, 0, and 7 have been iterated through, \n",
    "    #if checker equals 3, then return True\n",
    "    checker = 0\n",
    "    \n",
    "    #iterate through list\n",
    "    for x in nums:\n",
    "        \n",
    "        #if index value equals to 0\n",
    "        if nums == 0:\n",
    "        \n",
    "            #add one to checker, then break out of while loop\n",
    "            checker += 1\n",
    "            if checker > 2:\n",
    "                checker = 0\n",
    "                break\n",
    "                \n",
    "        elif nums == 7 and checker == 2:\n",
    "            checker += 1\n",
    "            #break\n",
    "            return True           \n",
    "                \n",
    "                \n",
    "        #if nums[x] == 0 and nums[x + 1] == 0 and nums[x + 2] == 7:\n",
    "        #    return True\n",
    "        #if nums[x] == 0:\n",
    "        #    while addvalue = True:\n",
    "                \n",
    "            \n",
    "    #return False"
   ]
  },
  {
   "cell_type": "code",
   "execution_count": 82,
   "id": "5ba15789",
   "metadata": {},
   "outputs": [],
   "source": [
    "spy_game([1,2,4,0,0,7,5])"
   ]
  },
  {
   "cell_type": "code",
   "execution_count": 77,
   "id": "5e17edc2",
   "metadata": {},
   "outputs": [],
   "source": [
    "spy_game([1,0,2,4,0,5,7])"
   ]
  },
  {
   "cell_type": "code",
   "execution_count": 78,
   "id": "7b3c5ebe",
   "metadata": {},
   "outputs": [],
   "source": [
    "spy_game([1,7,2,0,4,5,0])"
   ]
  },
  {
   "cell_type": "code",
   "execution_count": null,
   "id": "b0995050",
   "metadata": {},
   "outputs": [],
   "source": []
  }
 ],
 "metadata": {
  "kernelspec": {
   "display_name": "Python 3 (ipykernel)",
   "language": "python",
   "name": "python3"
  },
  "language_info": {
   "codemirror_mode": {
    "name": "ipython",
    "version": 3
   },
   "file_extension": ".py",
   "mimetype": "text/x-python",
   "name": "python",
   "nbconvert_exporter": "python",
   "pygments_lexer": "ipython3",
   "version": "3.9.12"
  }
 },
 "nbformat": 4,
 "nbformat_minor": 5
}
