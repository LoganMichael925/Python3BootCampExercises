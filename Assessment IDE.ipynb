{
 "cells": [
  {
   "cell_type": "code",
   "execution_count": 21,
   "id": "87da0873",
   "metadata": {},
   "outputs": [],
   "source": [
    "inputString = \"lalalal\""
   ]
  },
  {
   "cell_type": "code",
   "execution_count": 22,
   "id": "c1a1ff8e",
   "metadata": {},
   "outputs": [],
   "source": [
    "halfway = int(round((len(inputString) / 2),0))"
   ]
  },
  {
   "cell_type": "code",
   "execution_count": 23,
   "id": "5c62dd57",
   "metadata": {},
   "outputs": [
    {
     "data": {
      "text/plain": [
       "4"
      ]
     },
     "execution_count": 23,
     "metadata": {},
     "output_type": "execute_result"
    }
   ],
   "source": [
    "halfway"
   ]
  },
  {
   "cell_type": "code",
   "execution_count": 4,
   "id": "8b6358f4",
   "metadata": {},
   "outputs": [],
   "source": [
    "def solution(inputString):\n",
    "    somelength = len(inputString)\n",
    "    if inputString[0:somelength] == inputString[somelength + 1:-1]:\n",
    "        print(\"true\")\n",
    "    else:\n",
    "        print('false')"
   ]
  },
  {
   "cell_type": "code",
   "execution_count": 5,
   "id": "80a711ef",
   "metadata": {},
   "outputs": [
    {
     "name": "stdout",
     "output_type": "stream",
     "text": [
      "false\n"
     ]
    }
   ],
   "source": [
    "solution(inputString)"
   ]
  },
  {
   "cell_type": "code",
   "execution_count": 6,
   "id": "a4fc2dd4",
   "metadata": {},
   "outputs": [
    {
     "data": {
      "text/plain": [
       "'la'"
      ]
     },
     "execution_count": 6,
     "metadata": {},
     "output_type": "execute_result"
    }
   ],
   "source": [
    "inputString[0:2]"
   ]
  },
  {
   "cell_type": "code",
   "execution_count": 7,
   "id": "55d22ec5",
   "metadata": {},
   "outputs": [
    {
     "data": {
      "text/plain": [
       "2"
      ]
     },
     "execution_count": 7,
     "metadata": {},
     "output_type": "execute_result"
    }
   ],
   "source": [
    "halfway"
   ]
  },
  {
   "cell_type": "code",
   "execution_count": 8,
   "id": "d92c9583",
   "metadata": {},
   "outputs": [
    {
     "name": "stdout",
     "output_type": "stream",
     "text": [
      "Help on built-in function round in module builtins:\n",
      "\n",
      "round(number, ndigits=None)\n",
      "    Round a number to a given precision in decimal digits.\n",
      "    \n",
      "    The return value is an integer if ndigits is omitted or None.  Otherwise\n",
      "    the return value has the same type as the number.  ndigits may be negative.\n",
      "\n"
     ]
    }
   ],
   "source": [
    "help(round)"
   ]
  },
  {
   "cell_type": "code",
   "execution_count": 9,
   "id": "b8b7238a",
   "metadata": {},
   "outputs": [],
   "source": [
    "firsthalf = inputString[0:halfway]"
   ]
  },
  {
   "cell_type": "code",
   "execution_count": 10,
   "id": "48cd4195",
   "metadata": {},
   "outputs": [
    {
     "data": {
      "text/plain": [
       "'la'"
      ]
     },
     "execution_count": 10,
     "metadata": {},
     "output_type": "execute_result"
    }
   ],
   "source": [
    "firsthalf"
   ]
  },
  {
   "cell_type": "code",
   "execution_count": 11,
   "id": "b410e3d5",
   "metadata": {},
   "outputs": [],
   "source": [
    "secondhalf = inputString[halfway + 1:]"
   ]
  },
  {
   "cell_type": "code",
   "execution_count": 12,
   "id": "b7486254",
   "metadata": {},
   "outputs": [
    {
     "data": {
      "text/plain": [
       "'al'"
      ]
     },
     "execution_count": 12,
     "metadata": {},
     "output_type": "execute_result"
    }
   ],
   "source": [
    "secondhalf"
   ]
  },
  {
   "cell_type": "code",
   "execution_count": 13,
   "id": "2fe31d84",
   "metadata": {},
   "outputs": [],
   "source": [
    "revsechalf = secondhalf[::-1]"
   ]
  },
  {
   "cell_type": "code",
   "execution_count": 14,
   "id": "b44c89ac",
   "metadata": {},
   "outputs": [
    {
     "data": {
      "text/plain": [
       "'la'"
      ]
     },
     "execution_count": 14,
     "metadata": {},
     "output_type": "execute_result"
    }
   ],
   "source": [
    "revsechalf"
   ]
  },
  {
   "cell_type": "code",
   "execution_count": 45,
   "id": "0e7a1493",
   "metadata": {},
   "outputs": [],
   "source": [
    "def solution(inputString):\n",
    "    \n",
    "    #find length of string\n",
    "    somelength = len(inputString)\n",
    "    \n",
    "    print(somelength)\n",
    "    \n",
    "    #find half way index of string, round to nearest digit, turn into int\n",
    "    halfway = int(round((len(inputString) / 2),0))\n",
    "    \n",
    "    print(halfway)\n",
    "    \n",
    "    #denote first half of string\n",
    "    firsthalf = inputString[0:halfway]\n",
    "    \n",
    "    print(firsthalf)\n",
    "    \n",
    "    #denote second half of string\n",
    "    secondhalf = inputString[halfway + 1:]\n",
    "    \n",
    "    #reverse second half of string\n",
    "    revsechalf = secondhalf[::-1]\n",
    "    \n",
    "    #if first half == reversed second half... it is a palindrome\n",
    "    if firsthalf == revsechalf:\n",
    "        print(\"true\")\n",
    "    else:\n",
    "        print('false')"
   ]
  },
  {
   "cell_type": "code",
   "execution_count": 46,
   "id": "7a21bded",
   "metadata": {},
   "outputs": [
    {
     "name": "stdout",
     "output_type": "stream",
     "text": [
      "7\n",
      "4\n",
      "abac\n",
      "false\n"
     ]
    }
   ],
   "source": [
    "solution('abacaba')"
   ]
  },
  {
   "cell_type": "code",
   "execution_count": 39,
   "id": "424cd793",
   "metadata": {},
   "outputs": [
    {
     "data": {
      "text/plain": [
       "3.5"
      ]
     },
     "execution_count": 39,
     "metadata": {},
     "output_type": "execute_result"
    }
   ],
   "source": [
    "7 / 2"
   ]
  },
  {
   "cell_type": "code",
   "execution_count": null,
   "id": "5df6547e",
   "metadata": {},
   "outputs": [],
   "source": []
  }
 ],
 "metadata": {
  "kernelspec": {
   "display_name": "Python 3 (ipykernel)",
   "language": "python",
   "name": "python3"
  },
  "language_info": {
   "codemirror_mode": {
    "name": "ipython",
    "version": 3
   },
   "file_extension": ".py",
   "mimetype": "text/x-python",
   "name": "python",
   "nbconvert_exporter": "python",
   "pygments_lexer": "ipython3",
   "version": "3.9.12"
  }
 },
 "nbformat": 4,
 "nbformat_minor": 5
}
